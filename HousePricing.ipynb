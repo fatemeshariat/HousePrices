{
 "cells": [
  {
   "cell_type": "markdown",
   "metadata": {
    "id": "PccYn09jPmPC"
   },
   "source": [
    "# 1. Abstract"
   ]
  },
  {
   "cell_type": "markdown",
   "metadata": {
    "id": "h55yBupVWw4e"
   },
   "source": [
    "We will use different machine leaning techniques for predicting house prices with Python programming language and number of its packages. Then after having a clean dataset of houses, we build a simple recommender system that suggests best houses to a customer or estimates a house price using our fitted model. Our dataset contains house prices and their features in Ames city provided by De Cock at http://www.kaggle.com/prevek18/ames-housing-dataset.\n",
    "\n",
    "Keywords: House price prediction, forecasting using machine learning algorithm, Recommendation of house according to user choice."
   ]
  },
  {
   "cell_type": "markdown",
   "metadata": {
    "id": "tba19V7xPs8F"
   },
   "source": [
    "# 2. Introduction"
   ]
  },
  {
   "cell_type": "markdown",
   "metadata": {
    "id": "DIOjR5IxW4f5"
   },
   "source": [
    "House pricing is an important topic that worries most people, because we can never predict exact prices according to neighborhood and facilities.\n",
    "\n",
    "In this paper we are trying to build a Machin learning model to predict house prices and then we try to build a recommender system for house buyers. We will use Ames dataset that contains information of houses and their different features and we will use Python programming language with a number of Python packages."
   ]
  },
  {
   "cell_type": "markdown",
   "metadata": {
    "id": "mRl8jU09Pvqu"
   },
   "source": [
    "# 3. Defining the Problem\n"
   ]
  },
  {
   "cell_type": "markdown",
   "metadata": {
    "id": "r4AmpKJEXBJI"
   },
   "source": [
    "We are dividing the problem into two parts:\n",
    "\n",
    "\n",
    "1.   First part – building a model that predicts the house prices with best accuracy. Which contains three steps. \n",
    "\n",
    "  First step: we take a look at our data and we preprocess it then we’ll find a solution for missing values and outliers.\n",
    "\n",
    "  Second step: we do some feature engineering and build a model to predict house prices.\n",
    "\n",
    "  Third step: we define a metric to evaluate the performance of models.\n",
    "\n",
    "2.   \n",
    "Second part – presenting a recommender system that a customer can find the best house with having only a certain amount of budget, neighborhood, house area in square feet, land usage, house age and number of bedrooms.\n",
    "\n",
    "\n",
    "\n",
    "\n",
    "\n"
   ]
  },
  {
   "cell_type": "markdown",
   "metadata": {
    "id": "1rZf1AJvP0C1"
   },
   "source": [
    "\n",
    "\n",
    "# 4. Methodology "
   ]
  },
  {
   "cell_type": "markdown",
   "metadata": {
    "id": "vyqF2TgjRjO2"
   },
   "source": [
    "## 4.1  Data Description\n",
    "Here we have housing dataset presented by De Cock (2011). Dataset contains house prices and features in Ames, Iowa from 2006 until 2010.\n"
   ]
  },
  {
   "cell_type": "markdown",
   "metadata": {
    "id": "ETb6MsMuRwoc"
   },
   "source": [
    "### 4.1.1 Getting a feel of the dataset\n",
    "\n",
    "\n"
   ]
  },
  {
   "cell_type": "markdown",
   "metadata": {
    "id": "0cNT7NRswkXp"
   },
   "source": [
    "First we import all the libraries we need."
   ]
  },
  {
   "cell_type": "code",
   "execution_count": 1,
   "metadata": {
    "id": "DHaZC4KTKx6I"
   },
   "outputs": [],
   "source": [
    "import pandas as pd\n",
    "import numpy as np\n",
    "import seaborn as sns\n",
    "import matplotlib.pyplot as plt \n",
    "from scipy.stats import norm \n",
    "from scipy import stats\n",
    "from sklearn import svm\n",
    "from sklearn.preprocessing import StandardScaler, RobustScaler, LabelEncoder, OrdinalEncoder\n",
    "from sklearn.impute import SimpleImputer\n",
    "from sklearn.linear_model import LinearRegression, ElasticNet, Lasso, BayesianRidge, LassoLarsIC\n",
    "from sklearn.ensemble import RandomForestRegressor, GradientBoostingRegressor, BaggingClassifier, AdaBoostClassifier, RandomForestClassifier\n",
    "from sklearn.kernel_ridge import KernelRidge\n",
    "from sklearn.tree import DecisionTreeRegressor\n",
    "from sklearn.neighbors import KNeighborsRegressor\n",
    "from sklearn.base import BaseEstimator, TransformerMixin, RegressorMixin, clone\n",
    "from sklearn.model_selection import KFold, cross_val_score, train_test_split, RandomizedSearchCV, GridSearchCV\n",
    "from sklearn.metrics import mean_squared_error\n",
    "from xgboost import XGBRegressor\n",
    "import lightgbm as lgb\n",
    "import warnings\n",
    "warnings.filterwarnings('ignore')\n",
    "pd.set_option('display.float_format', lambda x: '{:.3f}'.format(x))\n",
    "color = sns.color_palette()\n",
    "sns.set_style('darkgrid')"
   ]
  },
  {
   "cell_type": "markdown",
   "metadata": {
    "id": "8PAMbfb6wtWu"
   },
   "source": [
    "Now we read our dataset, take a copy from it just in case if it comes handy later."
   ]
  },
  {
   "cell_type": "code",
   "execution_count": 2,
   "metadata": {
    "colab": {
     "base_uri": "https://localhost:8080/"
    },
    "id": "_jxsceLR0cid",
    "outputId": "9f35febd-8eb1-46ae-8fca-c5aefe14447f"
   },
   "outputs": [
    {
     "name": "stdout",
     "output_type": "stream",
     "text": [
      "Mounted at /content/drive\n"
     ]
    }
   ],
   "source": [
    "from google.colab import drive\n",
    "drive.mount('/content/drive')"
   ]
  },
  {
   "cell_type": "code",
   "execution_count": 3,
   "metadata": {
    "colab": {
     "base_uri": "https://localhost:8080/"
    },
    "id": "WMvyN6kHwhhf",
    "outputId": "21045178-02d6-49d6-8b21-89df86fb235f"
   },
   "outputs": [
    {
     "name": "stdout",
     "output_type": "stream",
     "text": [
      "\n",
      " train columns Index(['MSSubClass', 'MSZoning', 'LotFrontage', 'LotArea', 'Street', 'Alley',\n",
      "       'LotShape', 'LandContour', 'Utilities', 'LotConfig', 'LandSlope',\n",
      "       'Neighborhood', 'Condition1', 'Condition2', 'BldgType', 'HouseStyle',\n",
      "       'OverallQual', 'OverallCond', 'YearBuilt', 'YearRemodAdd', 'RoofStyle',\n",
      "       'RoofMatl', 'Exterior1st', 'Exterior2nd', 'MasVnrType', 'MasVnrArea',\n",
      "       'ExterQual', 'ExterCond', 'Foundation', 'BsmtQual', 'BsmtCond',\n",
      "       'BsmtExposure', 'BsmtFinType1', 'BsmtFinSF1', 'BsmtFinType2',\n",
      "       'BsmtFinSF2', 'BsmtUnfSF', 'TotalBsmtSF', 'Heating', 'HeatingQC',\n",
      "       'CentralAir', 'Electrical', '1stFlrSF', '2ndFlrSF', 'LowQualFinSF',\n",
      "       'GrLivArea', 'BsmtFullBath', 'BsmtHalfBath', 'FullBath', 'HalfBath',\n",
      "       'BedroomAbvGr', 'KitchenAbvGr', 'KitchenQual', 'TotRmsAbvGrd',\n",
      "       'Functional', 'Fireplaces', 'FireplaceQu', 'GarageType', 'GarageYrBlt',\n",
      "       'GarageFinish', 'GarageCars', 'GarageArea', 'GarageQual', 'GarageCond',\n",
      "       'PavedDrive', 'WoodDeckSF', 'OpenPorchSF', 'EnclosedPorch', '3SsnPorch',\n",
      "       'ScreenPorch', 'PoolArea', 'PoolQC', 'Fence', 'MiscFeature', 'MiscVal',\n",
      "       'MoSold', 'YrSold', 'SaleType', 'SaleCondition', 'SalePrice'],\n",
      "      dtype='object')\n",
      "\n",
      " train head    MSSubClass MSZoning  LotFrontage  ...  SaleType SaleCondition SalePrice\n",
      "0          60       RL       65.000  ...        WD        Normal    208500\n",
      "1          20       RL       80.000  ...        WD        Normal    181500\n",
      "2          60       RL       68.000  ...        WD        Normal    223500\n",
      "3          70       RL       60.000  ...        WD       Abnorml    140000\n",
      "4          60       RL       84.000  ...        WD        Normal    250000\n",
      "\n",
      "[5 rows x 80 columns]\n",
      "\n",
      " train types MSSubClass         int64\n",
      "MSZoning          object\n",
      "LotFrontage      float64\n",
      "LotArea            int64\n",
      "Street            object\n",
      "                  ...   \n",
      "MoSold             int64\n",
      "YrSold             int64\n",
      "SaleType          object\n",
      "SaleCondition     object\n",
      "SalePrice          int64\n",
      "Length: 80, dtype: object\n",
      "\n",
      " train describe        MSSubClass  LotFrontage    LotArea  ...   MoSold   YrSold  SalePrice\n",
      "count    1314.000     1084.000   1314.000  ... 1314.000 1314.000   1314.000\n",
      "mean       56.815       70.048  10433.887  ...    6.361 2007.793 181307.531\n",
      "std        42.144       24.551   9443.074  ...    2.692    1.321  78402.449\n",
      "min        20.000       21.000   1300.000  ...    1.000 2006.000  34900.000\n",
      "25%        20.000       59.000   7536.250  ...    5.000 2007.000 130000.000\n",
      "50%        50.000       69.000   9485.000  ...    6.000 2008.000 163250.000\n",
      "75%        70.000       80.000  11600.000  ...    8.000 2009.000 214375.000\n",
      "max       190.000      313.000 215245.000  ...   12.000 2010.000 745000.000\n",
      "\n",
      "[8 rows x 37 columns]\n",
      "\n",
      " train shape (1314, 80)\n",
      "\n",
      " test columns Index(['MSSubClass', 'MSZoning', 'LotFrontage', 'LotArea', 'Street', 'Alley',\n",
      "       'LotShape', 'LandContour', 'Utilities', 'LotConfig', 'LandSlope',\n",
      "       'Neighborhood', 'Condition1', 'Condition2', 'BldgType', 'HouseStyle',\n",
      "       'OverallQual', 'OverallCond', 'YearBuilt', 'YearRemodAdd', 'RoofStyle',\n",
      "       'RoofMatl', 'Exterior1st', 'Exterior2nd', 'MasVnrType', 'MasVnrArea',\n",
      "       'ExterQual', 'ExterCond', 'Foundation', 'BsmtQual', 'BsmtCond',\n",
      "       'BsmtExposure', 'BsmtFinType1', 'BsmtFinSF1', 'BsmtFinType2',\n",
      "       'BsmtFinSF2', 'BsmtUnfSF', 'TotalBsmtSF', 'Heating', 'HeatingQC',\n",
      "       'CentralAir', 'Electrical', '1stFlrSF', '2ndFlrSF', 'LowQualFinSF',\n",
      "       'GrLivArea', 'BsmtFullBath', 'BsmtHalfBath', 'FullBath', 'HalfBath',\n",
      "       'BedroomAbvGr', 'KitchenAbvGr', 'KitchenQual', 'TotRmsAbvGrd',\n",
      "       'Functional', 'Fireplaces', 'FireplaceQu', 'GarageType', 'GarageYrBlt',\n",
      "       'GarageFinish', 'GarageCars', 'GarageArea', 'GarageQual', 'GarageCond',\n",
      "       'PavedDrive', 'WoodDeckSF', 'OpenPorchSF', 'EnclosedPorch', '3SsnPorch',\n",
      "       'ScreenPorch', 'PoolArea', 'PoolQC', 'Fence', 'MiscFeature', 'MiscVal',\n",
      "       'MoSold', 'YrSold', 'SaleType', 'SaleCondition'],\n",
      "      dtype='object')\n",
      "\n",
      " test columns    MSSubClass MSZoning  LotFrontage  ...  YrSold SaleType SaleCondition\n",
      "0          20       RH       80.000  ...    2010       WD        Normal\n",
      "1          20       RL       81.000  ...    2010       WD        Normal\n",
      "2          60       RL       74.000  ...    2010       WD        Normal\n",
      "3          60       RL       78.000  ...    2010       WD        Normal\n",
      "4         120       RL       43.000  ...    2010       WD        Normal\n",
      "\n",
      "[5 rows x 79 columns]\n",
      "\n",
      " test columns MSSubClass         int64\n",
      "MSZoning          object\n",
      "LotFrontage      float64\n",
      "LotArea            int64\n",
      "Street            object\n",
      "                  ...   \n",
      "MiscVal            int64\n",
      "MoSold             int64\n",
      "YrSold             int64\n",
      "SaleType          object\n",
      "SaleCondition     object\n",
      "Length: 79, dtype: object\n",
      "\n",
      " test columns        MSSubClass  LotFrontage    LotArea  ...   MiscVal   MoSold   YrSold\n",
      "count    1605.000     1349.000   1605.000  ...  1605.000 1605.000 1605.000\n",
      "mean       57.402       68.709   9950.528  ...    54.092    6.092 2007.793\n",
      "std        42.833       22.320   6329.589  ...   602.068    2.728    1.310\n",
      "min        20.000       21.000   1470.000  ...     0.000    1.000 2006.000\n",
      "25%        20.000       58.000   7400.000  ...     0.000    4.000 2007.000\n",
      "50%        50.000       68.000   9399.000  ...     0.000    6.000 2008.000\n",
      "75%        70.000       80.000  11520.000  ...     0.000    8.000 2009.000\n",
      "max       190.000      200.000 164660.000  ... 17000.000   12.000 2010.000\n",
      "\n",
      "[8 rows x 36 columns]\n",
      "\n",
      " test shape (1605, 79)\n"
     ]
    }
   ],
   "source": [
    "# First Step : DATA PRE PROCESSING:\n",
    "\n",
    "df_train = pd.read_csv(r'/content/drive/MyDrive/train_data.csv') \n",
    "df_test = pd.read_csv(r'/content/drive/MyDrive/test_data.csv') \n",
    "df_train_c = df_train.copy()\n",
    "df_test_c = df_test.copy()\n",
    "\n",
    "print(\"\\n train columns\", df_train_c.columns) \n",
    "print(\"\\n train head\", df_train_c.head(5)) \n",
    "print(\"\\n train types\", df_train_c.dtypes)\n",
    "print(\"\\n train describe\", df_train_c.describe()) \n",
    "print(\"\\n train shape\", df_train_c.shape)\n",
    "\n",
    "print(\"\\n test columns\", df_test_c.columns) \n",
    "print(\"\\n test columns\", df_test_c.head(5)) \n",
    "print(\"\\n test columns\", df_test_c.dtypes) \n",
    "print(\"\\n test columns\", df_test_c.describe()) \n",
    "print(\"\\n test shape\", df_test_c.shape)"
   ]
  },
  {
   "cell_type": "markdown",
   "metadata": {
    "id": "QxHblJK5c_IA"
   },
   "source": [
    "Our train dataset contains 1314 records(rows) and our test dataset has 1605 records. And we have 79 features in both our train and test datasets. Train dataset also has house prices in addition.\n",
    "\n",
    "First let’s take a look at features and its description.\n",
    "\n",
    "<style type=\"text/css\">\n",
    ".tg  {border-collapse:collapse;border-spacing:0;}\n",
    ".tg td{border-color:black;border-style:solid;border-width:1px;font-family:Arial, sans-serif;font-size:14px;\n",
    "  overflow:hidden;padding:10px 5px;word-break:normal;}\n",
    ".tg th{border-color:black;border-style:solid;border-width:1px;font-family:Arial, sans-serif;font-size:14px;\n",
    "  font-weight:normal;overflow:hidden;padding:10px 5px;word-break:normal;}\n",
    ".tg .tg-0pky{border-color:inherit;text-align:left;vertical-align:top}\n",
    "</style>\n",
    "<table class=\"tg\">\n",
    "<thead>\n",
    "  <tr>\n",
    "    <th class=\"tg-0pky\">Feature</th>\n",
    "    <th class=\"tg-0pky\">Description</th>\n",
    "  </tr>\n",
    "</thead>\n",
    "<tbody>\n",
    "  <tr>\n",
    "    <td class=\"tg-0pky\">MSSubClass</td>\n",
    "    <td class=\"tg-0pky\">The type of the house involved in the sale </td>\n",
    "  </tr>\n",
    "    <tr>\n",
    "    <td class=\"tg-0pky\"> MSZoning</td>\n",
    "    <td class=\"tg-0pky\">The general zoning classification of the saledd</td>\n",
    "  </tr>  <tr>\n",
    "    <td class=\"tg-0pky\"> LotFrontage</td>\n",
    "    <td class=\"tg-0pky\">Linear feet of street connected to the house</td>\n",
    "  </tr>  <tr>\n",
    "    <td class=\"tg-0pky\"> LotArea</td>\n",
    "    <td class=\"tg-0pky\">Lot size in square feet</td>\n",
    "  </tr>  <tr>\n",
    "    <td class=\"tg-0pky\"> Street</td>\n",
    "    <td class=\"tg-0pky\">Type of road access to the house</td>\n",
    "  </tr>  <tr>\n",
    "    <td class=\"tg-0pky\">Alley </td>\n",
    "    <td class=\"tg-0pky\">Type of alley access to the house</td>\n",
    "  </tr>  <tr>\n",
    "    <td class=\"tg-0pky\">LotShape</td>\n",
    "    <td class=\"tg-0pky\">General shape of the house</td>\n",
    "  </tr>  <tr>\n",
    "    <td class=\"tg-0pky\"> LandContour</td>\n",
    "    <td class=\"tg-0pky\">House flatness</td>\n",
    "  </tr>  <tr>\n",
    "    <td class=\"tg-0pky\"> Utilities</td>\n",
    "    <td class=\"tg-0pky\">Type of utilities available</td>\n",
    "  </tr>  <tr>\n",
    "    <td class=\"tg-0pky\"> LotConfig</td>\n",
    "    <td class=\"tg-0pky\">Lot configuration</td>\n",
    "  </tr>  <tr>\n",
    "    <td class=\"tg-0pky\"> LandSlope </td>\n",
    "    <td class=\"tg-0pky\">House Slope</td>\n",
    "  </tr>  <tr>\n",
    "    <td class=\"tg-0pky\">Neighborhood </td>\n",
    "    <td class=\"tg-0pky\">Locations within Ames city limits</td>\n",
    "  </tr>  <tr>\n",
    "    <td class=\"tg-0pky\">Condition1</td>\n",
    "    <td class=\"tg-0pky\">Proximity to various conditions</td>\n",
    "  </tr>  <tr>\n",
    "    <td class=\"tg-0pky\"> Condition2 </td>\n",
    "    <td class=\"tg-0pky\">Proximity to various conditions (if more than one is present)</td>\n",
    "  </tr>\n",
    "    </tr>  <tr>\n",
    "    <td class=\"tg-0pky\">BldgType</td>\n",
    "    <td class=\"tg-0pky\">House type</td>\n",
    "  </tr>  <tr>\n",
    "    <td class=\"tg-0pky\"> HouseStyle</td>\n",
    "    <td class=\"tg-0pky\">House style</td>\n",
    "  </tr>  <tr>\n",
    "    <td class=\"tg-0pky\"> OverallQual </td>\n",
    "    <td class=\"tg-0pky\">Overall quality of material and finish of the house</td>\n",
    "  </tr>  <tr>\n",
    "    <td class=\"tg-0pky\">OverallCond</td>\n",
    "    <td class=\"tg-0pky\">Overall condition of the house</td>\n",
    "  </tr>  <tr>\n",
    "    <td class=\"tg-0pky\"> YearBuilt</td>\n",
    "    <td class=\"tg-0pky\">Construction year</td>\n",
    "  </tr>  <tr>\n",
    "    <td class=\"tg-0pky\"> YearRemodAdd </td>\n",
    "    <td class=\"tg-0pky\">Remodel year (if no remodeling nor addition, same as YearBuilt)</td>\n",
    "  </tr>  <tr>\n",
    "    <td class=\"tg-0pky\">RoofStyle </td>\n",
    "    <td class=\"tg-0pky\">Roof type</td>\n",
    "  </tr>  <tr>\n",
    "    <td class=\"tg-0pky\">RoofMatl </td>\n",
    "    <td class=\"tg-0pky\">Roof material</td>\n",
    "  </tr>  <tr>\n",
    "    <td class=\"tg-0pky\">Exterior1st</td>\n",
    "    <td class=\"tg-0pky\">Exterior covering on house</td>\n",
    "  </tr>  <tr>\n",
    "    <td class=\"tg-0pky\">Exterior2nd</td>\n",
    "    <td class=\"tg-0pky\">Exterior covering on house (if more than one material)</td>\n",
    "  </tr>  <tr>\n",
    "    <td class=\"tg-0pky\"> MasVnrType</td>\n",
    "    <td class=\"tg-0pky\">Type of masonry veneer</td>\n",
    "  </tr>  <tr>\n",
    "    <td class=\"tg-0pky\">MasVnrArea</td>\n",
    "    <td class=\"tg-0pky\">Masonry veneer area in square feet</td>\n",
    "  </tr>  <tr>  \n",
    "    <td class=\"tg-0pky\">ExterQual</td>\n",
    "    <td class=\"tg-0pky\">Quality of the material on the exterior</td>\n",
    "  </tr>  <tr> \n",
    "    <td class=\"tg-0pky\">ExterCond</td>\n",
    "    <td class=\"tg-0pky\">Condition of the material on the exterior</td>\n",
    "  </tr>  <tr>  \n",
    "    <td class=\"tg-0pky\">Foundation </td>\n",
    "    <td class=\"tg-0pky\">Foundation type</td>\n",
    "  </tr>  <tr>\n",
    "    <td class=\"tg-0pky\">BsmtQual</td>\n",
    "    <td class=\"tg-0pky\">Basement height</td>\n",
    "  </tr>  <tr>  \n",
    "    <td class=\"tg-0pky\">BsmtCond</td>\n",
    "    <td class=\"tg-0pky\">Basement Condition</td>\n",
    "  </tr>  <tr>\n",
    "    <td class=\"tg-0pky\"> BsmtExposure</td>\n",
    "    <td class=\"tg-0pky\">Refers to walkout or garden level walls</td>\n",
    "  </tr>  <tr>  \n",
    "    <td class=\"tg-0pky\">BsmtFinType1 </td>\n",
    "    <td class=\"tg-0pky\">Rating of basement finished area</td>\n",
    "  </tr>  <tr>\n",
    "    <td class=\"tg-0pky\">BsmtFinSF1 </td>\n",
    "    <td class=\"tg-0pky\">Type 1 finished square feet</td>\n",
    "  </tr>  <tr>\n",
    "    <td class=\"tg-0pky\">BsmtFinType2 </td>\n",
    "    <td class=\"tg-0pky\">Rating of basement finished area (if multiple types)</td>\n",
    "  </tr>  <tr>  \n",
    "    <td class=\"tg-0pky\">BsmtFinSF2</td>\n",
    "    <td class=\"tg-0pky\">Type 2 finished square feet</td>\n",
    "  </tr>  <tr>\n",
    "    <td class=\"tg-0pky\">BsmtUnfSF </td>\n",
    "    <td class=\"tg-0pky\">Unfinished basement area in square feet</td>\n",
    "  </tr>  <tr>\n",
    "    <td class=\"tg-0pky\">TotalBsmtSF </td>\n",
    "    <td class=\"tg-0pky\">Total basement area in square feet</td>\n",
    "  </tr>  <tr>\n",
    "    <td class=\"tg-0pky\">Heating</td>\n",
    "    <td class=\"tg-0pky\">Heating type</td>\n",
    "  </tr>  <tr>  \n",
    "    <td class=\"tg-0pky\">HeatingQC </td>\n",
    "    <td class=\"tg-0pky\">Heating quality and condition</td>\n",
    "  </tr>  <tr> \n",
    "    <td class=\"tg-0pky\">CentralAir</td>\n",
    "    <td class=\"tg-0pky\">Central air conditioning</td>\n",
    "  </tr> <tr>\n",
    "    <td class=\"tg-0pky\">Electrical</td>\n",
    "    <td class=\"tg-0pky\">Electrical system type</td>\n",
    "  </tr> <tr>\n",
    "    <td class=\"tg-0pky\">1stFlrSF</td>\n",
    "    <td class=\"tg-0pky\">First floor area in square feet</td>\n",
    "  </tr> <tr>\n",
    "    <td class=\"tg-0pky\">2ndFlrSF</td>\n",
    "    <td class=\"tg-0pky\">Second floor area in square feet</td>\n",
    "  </tr> <tr> \n",
    "    <td class=\"tg-0pky\">LowQualFinSF</td>\n",
    "    <td class=\"tg-0pky\">Low quality finished square feet in all floors</td>\n",
    "  </tr> <tr>\n",
    "    <td class=\"tg-0pky\">GrLivArea</td>\n",
    "    <td class=\"tg-0pky\">Above-ground living area in square feet</td>\n",
    "  </tr> <tr>\n",
    "    <td class=\"tg-0pky\">BsmtFullBath</td>\n",
    "    <td class=\"tg-0pky\">Basement full bathrooms</td>\n",
    "  </tr> <tr> \n",
    "    <td class=\"tg-0pky\">BsmtHalfBath</td>\n",
    "    <td class=\"tg-0pky\">Basement half bathrooms</td>\n",
    "  </tr> <tr>\n",
    "    <td class=\"tg-0pky\">FullBath</td>\n",
    "    <td class=\"tg-0pky\">Full bathrooms above ground</td>\n",
    "  </tr> <tr>\n",
    "    <td class=\"tg-0pky\">HalfBath</td>\n",
    "    <td class=\"tg-0pky\">Half bathrooms above ground</td>\n",
    "  </tr> <tr> \n",
    "    <td class=\"tg-0pky\">Bedroom</td>\n",
    "    <td class=\"tg-0pky\">Bedrooms above ground</td>\n",
    "  </tr> <tr>\n",
    "    <td class=\"tg-0pky\">Kitchen</td>\n",
    "    <td class=\"tg-0pky\">Kitchens above ground</td>\n",
    "  </tr> <tr>\n",
    "    <td class=\"tg-0pky\">KitchenQual</td>\n",
    "    <td class=\"tg-0pky\">Kitchen quality</td>\n",
    "  </tr> <tr>   \n",
    "    <td class=\"tg-0pky\">TotRmsAbvGrd</td>\n",
    "    <td class=\"tg-0pky\">Total rooms above ground (excluding bathrooms)</td>\n",
    "  </tr> <tr> \n",
    "    <td class=\"tg-0pky\">Functional</td>\n",
    "    <td class=\"tg-0pky\">Home functionality</td>\n",
    "  </tr> <tr> \n",
    "    <td class=\"tg-0pky\">Fireplaces</td>\n",
    "    <td class=\"tg-0pky\">Number of fireplaces</td>\n",
    "  </tr> <tr> \n",
    "    <td class=\"tg-0pky\">FireplaceQu</td>\n",
    "    <td class=\"tg-0pky\">Fireplace quality</td>\n",
    "  </tr> <tr> \n",
    "    <td class=\"tg-0pky\">GarageType</td>\n",
    "    <td class=\"tg-0pky\">Garage location</td>\n",
    "  </tr> <tr> \n",
    "    <td class=\"tg-0pky\">GarageYrBlt</td>\n",
    "    <td class=\"tg-0pky\">Year garage was built in</td>\n",
    "  </tr> <tr> \n",
    "    <td class=\"tg-0pky\">GarageFinish</td>\n",
    "    <td class=\"tg-0pky\">Interior finish of the garage</td>\n",
    "  </tr> <tr> \n",
    "    <td class=\"tg-0pky\">GarageCars</td>\n",
    "    <td class=\"tg-0pky\">Size of garage (in car capacity)</td>\n",
    "  </tr> <tr>   \n",
    "    <td class=\"tg-0pky\">GarageArea</td>\n",
    "    <td class=\"tg-0pky\">Garage size in square feet</td>\n",
    "  </tr> <tr> \n",
    "    <td class=\"tg-0pky\">GarageQual</td>\n",
    "    <td class=\"tg-0pky\">Garage quality</td>\n",
    "  </tr> <tr> \n",
    "    <td class=\"tg-0pky\">GarageCond</td>\n",
    "    <td class=\"tg-0pky\">Garage condition</td>\n",
    "  </tr> <tr> \n",
    "    <td class=\"tg-0pky\">PavedDrive</td>\n",
    "    <td class=\"tg-0pky\">How driveway is paved</td>\n",
    "  </tr> <tr> \n",
    "    <td class=\"tg-0pky\">WoodDeckSF</td>\n",
    "    <td class=\"tg-0pky\">Wood deck area in square feet</td>\n",
    "  </tr> <tr> \n",
    "    <td class=\"tg-0pky\">OpenPorchSF</td>\n",
    "    <td class=\"tg-0pky\">Open porch area in square feet</td>\n",
    "  </tr> <tr> \n",
    "    <td class=\"tg-0pky\">EnclosedPorch</td>\n",
    "    <td class=\"tg-0pky\">Enclosed porch area in square feet</td>\n",
    "  </tr> <tr>   \n",
    "    <td class=\"tg-0pky\">3SsnPorch</td>\n",
    "    <td class=\"tg-0pky\">Three season porch area in square feet</td>\n",
    "  </tr> <tr> \n",
    "    <td class=\"tg-0pky\">ScreenPorch</td>\n",
    "    <td class=\"tg-0pky\">Screen porch area in square feet</td>\n",
    "  </tr> <tr> \n",
    "    <td class=\"tg-0pky\">PoolArea</td>\n",
    "    <td class=\"tg-0pky\">Pool area in square feet</td>\n",
    "  </tr> <tr> \n",
    "    <td class=\"tg-0pky\">PoolQC</td>\n",
    "    <td class=\"tg-0pky\">Pool quality</td>\n",
    "  </tr> <tr> \n",
    "    <td class=\"tg-0pky\">Fence</td>\n",
    "    <td class=\"tg-0pky\">Fence quality</td>\n",
    "  </tr> <tr> \n",
    "    <td class=\"tg-0pky\">MiscFeature</td>\n",
    "    <td class=\"tg-0pky\">Miscellaneous feature</td>\n",
    "  </tr> <tr> \n",
    "    <td class=\"tg-0pky\">MiscVal</td>\n",
    "    <td class=\"tg-0pky\">Value of miscellaneous feature</td>\n",
    "  </tr> <tr>    \n",
    "    <td class=\"tg-0pky\">MoSold </td>\n",
    "    <td class=\"tg-0pky\">Sale month</td>\n",
    "  </tr> <tr>\n",
    "    <td class=\"tg-0pky\">YrSold</td>\n",
    "    <td class=\"tg-0pky\">Sale year</td>\n",
    "  </tr> <tr>  \n",
    "    <td class=\"tg-0pky\">SaleType</td>\n",
    "    <td class=\"tg-0pky\">Sale type</td>\n",
    "  </tr> <tr>  \n",
    "    <td class=\"tg-0pky\">SaleCondition</td>\n",
    "    <td class=\"tg-0pky\">Sale condition</td>\n",
    "  </tr> \n",
    "    <tr>\n",
    "    <th class=\"tg-0pky\">Table 4.1: Features Description</th>\n",
    "  </tr>  \n",
    "</tbody>\n",
    "</table>\n",
    "\n",
    "Table 4.1 provides some information about all features used in dataset."
   ]
  },
  {
   "cell_type": "markdown",
   "metadata": {
    "id": "_5QUeNSTSAcK"
   },
   "source": [
    "### 4.1.2 Finding outliers and removing them"
   ]
  },
  {
   "cell_type": "markdown",
   "metadata": {
    "id": "1h_3KoNexGTr"
   },
   "source": [
    "De Cock, who provided the dataset stated there are outliers and he said removing them is the best approach. He also suggested plotting SalesPrice against GrLivArea to spot the them. We can see the plot next."
   ]
  },
  {
   "cell_type": "code",
   "execution_count": 4,
   "metadata": {
    "colab": {
     "base_uri": "https://localhost:8080/",
     "height": 315
    },
    "id": "QOqqQ6JWxCv7",
    "outputId": "7dfb7f96-d927-4594-d098-adad59a19170"
   },
   "outputs": [
    {
     "data": {
      "text/plain": [
       "Text(0.5, 1.0, 'Figure 1: GrLivArea Against SalePrice')"
      ]
     },
     "execution_count": 4,
     "metadata": {},
     "output_type": "execute_result"
    },
    {
     "data": {
      "image/png": "[encoded data removed]",
      "text/plain": [
       "<Figure size 432x288 with 1 Axes>"
      ]
     },
     "metadata": {
      "needs_background": "light"
     },
     "output_type": "display_data"
    }
   ],
   "source": [
    "# outliers:\n",
    "# plt.figure(1)\n",
    "fig, ax = plt.subplots()\n",
    "ax.scatter(x=df_train_c['GrLivArea'], y=df_train_c[\"SalePrice\"]) \n",
    "plt.ylabel('SalePrice', fontsize=13)\n",
    "plt.xlabel('GrLivArea', fontsize=13)\n",
    "plt.title(\"Figure 1: GrLivArea Against SalePrice\")\n",
    "plt.show()\n"
   ]
  },
  {
   "cell_type": "markdown",
   "metadata": {
    "id": "zCWfHxRCdbcI"
   },
   "source": [
    "\n",
    "\n",
    "From Figure 1, we can see that we have two unusual values. With the increase of GrLivArea SalesPrice should increase too, instead the SalesPrice remains low. Now that we spot these outliers, we can remove them. We are going to draw a plot again to check if everything is fine.\n",
    "\n"
   ]
  },
  {
   "cell_type": "code",
   "execution_count": 11,
   "metadata": {
    "colab": {
     "base_uri": "https://localhost:8080/",
     "height": 298
    },
    "id": "XvIY97WO0KGS",
    "outputId": "7044a58a-d878-4698-8545-7b38801359e9"
   },
   "outputs": [
    {
     "data": {
      "image/png": "[encoded data removed]",
      "text/plain": [
       "<Figure size 432x288 with 1 Axes>"
      ]
     },
     "metadata": {
      "needs_background": "light"
     },
     "output_type": "display_data"
    }
   ],
   "source": [
    "df_train_c = df_train_c.drop(df_train_c[(df_train_c['GrLivArea'] > 4000) & (df_train_c['SalePrice'] < 300000)].index)\n",
    "fig, ax = plt.subplots()\n",
    "ax.scatter(x=df_train_c['GrLivArea'], y=df_train_c[\"SalePrice\"]) \n",
    "plt.ylabel('SalePrice', fontsize=13)\n",
    "plt.xlabel('GrLivArea', fontsize=13)\n",
    "plt.title(\"Figure 2: New GrLivArea Against SalePrice\")\n",
    "plt.show()"
   ]
  },
  {
   "cell_type": "markdown",
   "metadata": {
    "id": "EVKyGTAo0NSF"
   },
   "source": [
    "\n",
    "Now that we saw in figure 2 that we don’t have any more outliers, we’re good to go."
   ]
  },
  {
   "cell_type": "markdown",
   "metadata": {
    "id": "j6vUyzuiSKla"
   },
   "source": [
    "### 4.1.3 Correlation between variables"
   ]
  },
  {
   "cell_type": "markdown",
   "metadata": {
    "id": "TafCPYoL4DHt"
   },
   "source": [
    "We want to check how the variables are correlated with each other and how predictors are correlated with the response variable.\n",
    "\n",
    "Correlation is show as a value between -1 and +1 where +1 means the highest positive correlation, -1 means the highest negative correlation, and 0 means that there is no correlation. We will show correlation between our dataset variables and we use a heatmap graph:\n"
   ]
  },
  {
   "cell_type": "code",
   "execution_count": 12,
   "metadata": {
    "colab": {
     "base_uri": "https://localhost:8080/",
     "height": 573
    },
    "id": "ScamQzIB4Ey6",
    "outputId": "d4151ae4-be7f-4436-92fa-181507232ae8"
   },
   "outputs": [
    {
     "data": {
      "image/png": "[encoded data removed]",
      "text/plain": [
       "<Figure size 1440x648 with 2 Axes>"
      ]
     },
     "metadata": {
      "needs_background": "light"
     },
     "output_type": "display_data"
    }
   ],
   "source": [
    "# Correlation plot:\n",
    "# plt.figure(3)\n",
    "fig, ax = plt.subplots(figsize=(20, 9)) \n",
    "sns.heatmap(df_train_c.corr(), vmax=.8) \n",
    "plt.title(\"Figure 3: Correlation Plot\")\n",
    "plt.show()"
   ]
  },
  {
   "cell_type": "markdown",
   "metadata": {
    "id": "koiM_XzEerT_"
   },
   "source": [
    "\n",
    "We can see in Figure 3 that most of the features are correlated with each other like Garage Cars and Garage Area. because when the garage area increases, its car capacity increases too. We see also that GrLivArea and TotRms AbvGrd are highly\n",
    "positively correlated which also makes sense because when living area above ground increases, it is expected for the rooms above ground to increase too. Regarding negative correlation, we can see that BsmtUnfSF is negatively correlated with BsmtFinSF1, and that makes sense because when we have more unfinished area, this means that we have less finished area.\n",
    "\n",
    "Let’s plot most correlated features.\n",
    "\n"
   ]
  },
  {
   "cell_type": "code",
   "execution_count": 13,
   "metadata": {
    "colab": {
     "base_uri": "https://localhost:8080/",
     "height": 673
    },
    "id": "W9-r_7r04ac9",
    "outputId": "089a49b5-e482-4b2f-a95c-23a3abdef0eb"
   },
   "outputs": [
    {
     "data": {
      "image/png": "[encoded data removed]",
      "text/plain": [
       "<Figure size 720x720 with 2 Axes>"
      ]
     },
     "metadata": {
      "needs_background": "light"
     },
     "output_type": "display_data"
    }
   ],
   "source": [
    "# features which are highly correlated to the SalePrice:\n",
    "# plt.figure(4)\n",
    "fig, ax = plt.subplots(figsize=(10, 10))\n",
    "top_corr_features = df_train_c.corr().index[abs(df_train_c.corr()[\"SalePrice\"])>0.5]\n",
    "g= sns.heatmap(df_train_c[top_corr_features].corr(),annot=True,cmap=\"RdYlGn\") \n",
    "plt.title(\"Figure 4: Correlation Plot of Highly Correlated Features\")\n",
    "plt.show()"
   ]
  },
  {
   "cell_type": "markdown",
   "metadata": {
    "id": "pyEj7tDv4ZZv"
   },
   "source": [
    "\n",
    "\n",
    "As you can see in the Figure 4, GarageArea and GarageCars are highly correlated.\n",
    "We explained before about these. But take a note that all the features starting with\n",
    "Garage, actually derived from Garage, same rule applies to Basement. We can also\n",
    "see OverallQual is highly correlated with target feature SalePrice."
   ]
  },
  {
   "cell_type": "markdown",
   "metadata": {
    "id": "mkgfFHpkSe6W"
   },
   "source": [
    "## 4.2 Data Preprocessing "
   ]
  },
  {
   "cell_type": "markdown",
   "metadata": {
    "id": "oheGrjx2Skot"
   },
   "source": [
    "### 4.2.1 Checking Sales prices distribution and normalizing it "
   ]
  },
  {
   "cell_type": "markdown",
   "metadata": {
    "id": "4FPCMsod5nM0"
   },
   "source": [
    "Later in modeling section we’re going to explain about our models, but before that we need to check if our response variable (which is SalesPrice) follows normal distribution. If it follows, then we don’t have to do anything and we can continue our work. But if not, we have to normalize them because later they’ll be needed in our model’s hypothesis.\n",
    "\n",
    "\n"
   ]
  },
  {
   "cell_type": "code",
   "execution_count": 10,
   "metadata": {
    "colab": {
     "base_uri": "https://localhost:8080/",
     "height": 346
    },
    "id": "IZsfooDy5y_U",
    "outputId": "d49e1805-d58d-4bbd-f8e1-c8cf6ba94ea7"
   },
   "outputs": [
    {
     "name": "stdout",
     "output_type": "stream",
     "text": [
      "\n",
      " mu = 181321.15 and sigma = 78430.06\n",
      "\n"
     ]
    },
    {
     "data": {
      "image/png": "[encoded data removed]",
      "text/plain": [
       "<Figure size 432x288 with 1 Axes>"
      ]
     },
     "metadata": {
      "needs_background": "light"
     },
     "output_type": "display_data"
    }
   ],
   "source": [
    "# checking y distribution & normalizing it:\n",
    "plt.figure(5)\n",
    "sns.distplot(df_train_c['SalePrice'], fit=norm)\n",
    "(mu, sigma) = norm.fit(df_train_c['SalePrice'])\n",
    "print('\\n mu = {:.2f} and sigma = {:.2f}\\n'.format(mu, sigma)) \n",
    "plt.legend(['Normal dist. ($\\mu=$ {:.2f} and $\\sigma=$ {:.2f} )'.format(mu, sigma)], loc='best') \n",
    "plt.ylabel('Frequency')\n",
    "plt.title('Figure 5: SalePrice Distribution')\n",
    "plt.show()"
   ]
  },
  {
   "cell_type": "markdown",
   "metadata": {
    "id": "5iXUhZIm6Qz4"
   },
   "source": [
    "First we got the fitted parameters used by the function. mu = 181321.15 and sigma = 78430.06\n",
    "\n",
    "Then we plotted the distribution.\n",
    "\n",
    "\n",
    "The black line represents normal distribution and the blue one is our SalesPrice\n",
    "values. We can see that target variable is right skewed and not normally distributed.\n",
    "\n",
    "And now we take a look at Q-Q plot."
   ]
  },
  {
   "cell_type": "code",
   "execution_count": 14,
   "metadata": {
    "colab": {
     "base_uri": "https://localhost:8080/",
     "height": 295
    },
    "id": "dQ5a90fc6vv4",
    "outputId": "d93a5cbb-ef83-421c-8c17-bcbdebd2909e"
   },
   "outputs": [
    {
     "data": {
      "image/png": "[encoded data removed]",
      "text/plain": [
       "<Figure size 432x288 with 1 Axes>"
      ]
     },
     "metadata": {
      "needs_background": "light"
     },
     "output_type": "display_data"
    }
   ],
   "source": [
    "plt.figure(6)\n",
    "res = stats.probplot(df_train_c['SalePrice'], plot=plt) \n",
    "plt.title(\"Figure 6: Q-Q Plot\")\n",
    "plt.show()"
   ]
  },
  {
   "cell_type": "markdown",
   "metadata": {
    "id": "OocZpKn1fpMG"
   },
   "source": [
    "\n",
    "\n",
    "We use Q-Q plot for comparing two probability distributions by plotting their\n",
    "quantiles against each other. In x-coordinate we have our theoretical distribution\n",
    "which is normal here and in y-coordinate we have SalesPrice distribution. If our data\n",
    "follows normal distribution, then points would fall on the red line. As we can see\n",
    "target variable doesn’t follow normal distribution. And we need to transform this\n",
    "variable and make it more normally distributed.\n",
    "<br><br>\n",
    "So how can we make it normally distributed?\n",
    "\n",
    "We use the numpy function Log1p which applies Log(1+x) to all elements of the\n",
    "SalesPrice column.\n",
    "\n",
    "\n",
    "\n"
   ]
  },
  {
   "cell_type": "code",
   "execution_count": 15,
   "metadata": {
    "id": "McJePUl970wE"
   },
   "outputs": [],
   "source": [
    "df_train_c['SalePrice'] = np.log1p(df_train_c['SalePrice'])"
   ]
  },
  {
   "cell_type": "markdown",
   "metadata": {
    "id": "mpYV0RjO7z1j"
   },
   "source": [
    "We are going to repeat all steps again so that we can be sure if the target variable is more normally distributed.\n",
    "\n"
   ]
  },
  {
   "cell_type": "markdown",
   "metadata": {
    "id": "_5wAB5bu8eId"
   },
   "source": [
    "\n",
    "Normal distribution plot:"
   ]
  },
  {
   "cell_type": "code",
   "execution_count": 17,
   "metadata": {
    "colab": {
     "base_uri": "https://localhost:8080/",
     "height": 346
    },
    "id": "5cfjV4n878Xi",
    "outputId": "5e244d23-31b0-4ecf-b14d-43ff82866f79"
   },
   "outputs": [
    {
     "name": "stdout",
     "output_type": "stream",
     "text": [
      "\n",
      " mu = 12.03 and sigma = 0.40\n",
      "\n"
     ]
    },
    {
     "data": {
      "image/png": "[encoded data removed]",
      "text/plain": [
       "<Figure size 432x288 with 1 Axes>"
      ]
     },
     "metadata": {
      "needs_background": "light"
     },
     "output_type": "display_data"
    }
   ],
   "source": [
    "plt.figure(7)\n",
    "sns.distplot(df_train_c['SalePrice'], fit=norm)\n",
    "(mu, sigma) = norm.fit(df_train_c['SalePrice'])\n",
    "print('\\n mu = {:.2f} and sigma = {:.2f}\\n'.format(mu, sigma))\n",
    "plt.legend(['Normal dist. ($\\mu=$ {:.2f} and $\\sigma=$ {:.2f} )'.format(mu, sigma)], loc='best') \n",
    "plt.ylabel('Frequency')\n",
    "plt.title(\"Figure 7: New SalePrice Distribution\")\n",
    "plt.show()"
   ]
  },
  {
   "cell_type": "markdown",
   "metadata": {
    "id": "RU8bS8Js8I5O"
   },
   "source": [
    "\n",
    "fitted parameters used by the function:\n",
    "mu = 12.03 and sigma = 0.40\n",
    "<br>\n",
    " The skew seems now corrected. \n"
   ]
  },
  {
   "cell_type": "markdown",
   "metadata": {
    "id": "iNzPO5li7vAK"
   },
   "source": [
    "\n",
    " Q-Q plot:\n"
   ]
  },
  {
   "cell_type": "code",
   "execution_count": 18,
   "metadata": {
    "colab": {
     "base_uri": "https://localhost:8080/",
     "height": 295
    },
    "id": "Gxi-isXP8ox-",
    "outputId": "23d41f36-f9ce-453b-de6c-0cd6fb168a35"
   },
   "outputs": [
    {
     "data": {
      "image/png": "[encoded data removed]",
      "text/plain": [
       "<Figure size 432x288 with 1 Axes>"
      ]
     },
     "metadata": {
      "needs_background": "light"
     },
     "output_type": "display_data"
    }
   ],
   "source": [
    "plt.figure(8) \n",
    "stats.probplot(df_train_c['SalePrice'], plot=plt) \n",
    "plt.title(\"Figure 8: New Q-Q Plot\")\n",
    "plt.show()"
   ]
  },
  {
   "cell_type": "markdown",
   "metadata": {
    "id": "HoORZIH38oGg"
   },
   "source": [
    "\n",
    " The data appears more normally distributed."
   ]
  },
  {
   "cell_type": "markdown",
   "metadata": {
    "id": "sS9p5_f6SsiN"
   },
   "source": [
    "### 4.2.2 Dealing with missing values "
   ]
  },
  {
   "cell_type": "markdown",
   "metadata": {
    "id": "k1Y7RzMC9MH5"
   },
   "source": [
    "We need to find a way or ways to deal with missing data and we have to go through a long process for this. Its best if we merge our train and test datasets so we can apply all preprocessing to them once. We just have to make sure that there won’t be data leakage. Data leakage happens when we merge our datasets and we use test dataset to impute missing values. And we can’t do that because it’s using the test data to impute itself so instead we will only use our train dataset for imputation.\n"
   ]
  },
  {
   "cell_type": "code",
   "execution_count": 19,
   "metadata": {
    "id": "XU4tD7i29Hao"
   },
   "outputs": [],
   "source": [
    "# concatenating data:\n",
    "ntrain = df_train_c.shape[0]\n",
    "ntest = df_test_c.shape[0]\n",
    "y_train = df_train_c.SalePrice.values\n",
    "all_data = pd.concat((df_train_c, df_test_c)).reset_index(drop=True)\n"
   ]
  },
  {
   "cell_type": "markdown",
   "metadata": {
    "id": "zUqpwnHt9Y_o"
   },
   "source": [
    "First let’s take a look at our missing values. \n"
   ]
  },
  {
   "cell_type": "code",
   "execution_count": 20,
   "metadata": {
    "colab": {
     "base_uri": "https://localhost:8080/"
    },
    "id": "LR8GBZH09UNN",
    "outputId": "c2c795d6-f03f-498a-e4c6-3e93d1a21438"
   },
   "outputs": [
    {
     "name": "stdout",
     "output_type": "stream",
     "text": [
      "\n",
      " data missing values before pre processing\n",
      "               Total  Percent\n",
      "PoolQC         2908    0.997\n",
      "MiscFeature    2812    0.964\n",
      "Alley          2719    0.932\n",
      "Fence          2346    0.804\n",
      "SalePrice      1605    0.550\n",
      "FireplaceQu    1420    0.487\n",
      "LotFrontage     486    0.167\n",
      "GarageCond      159    0.055\n",
      "GarageYrBlt     159    0.055\n",
      "GarageQual      159    0.055\n",
      "GarageFinish    159    0.055\n",
      "GarageType      157    0.054\n",
      "BsmtCond         82    0.028\n",
      "BsmtExposure     82    0.028\n",
      "BsmtQual         81    0.028\n",
      "BsmtFinType2     80    0.027\n",
      "BsmtFinType1     79    0.027\n",
      "MasVnrType       24    0.008\n",
      "MasVnrArea       23    0.008\n",
      "MSZoning          4    0.001\n",
      "Utilities         2    0.001\n",
      "Functional        2    0.001\n",
      "BsmtFullBath      2    0.001\n",
      "BsmtHalfBath      2    0.001\n",
      "GarageCars        1    0.000\n",
      "BsmtFinSF2        1    0.000\n",
      "Exterior2nd       1    0.000\n",
      "GarageArea        1    0.000\n",
      "TotalBsmtSF       1    0.000\n",
      "BsmtUnfSF         1    0.000\n",
      "BsmtFinSF1        1    0.000\n",
      "Exterior1st       1    0.000\n",
      "KitchenQual       1    0.000\n",
      "SaleType          1    0.000\n",
      "Electrical        1    0.000\n"
     ]
    }
   ],
   "source": [
    "# dealing with missing values:\n",
    "percent = (all_data.isna().sum()/all_data.isna().count()).sort_values(ascending=False)\n",
    "total = all_data.isna().sum().sort_values(ascending=False)\n",
    "missing_data = pd.concat([total, percent], axis=1, keys=['Total', 'Percent'])\n",
    "print(\"\\n data missing values before pre processing\\n\", missing_data.head(35))\n"
   ]
  },
  {
   "cell_type": "markdown",
   "metadata": {
    "id": "BcorG1ozjOvI"
   },
   "source": [
    "\n",
    "\n",
    "data missing values:\n",
    "<style type=\"text/css\">\n",
    ".tg  {border-collapse:collapse;border-spacing:0;}\n",
    ".tg td{border-color:black;border-style:solid;border-width:1px;font-family:Arial, sans-serif;font-size:14px;\n",
    "  overflow:hidden;padding:10px 5px;word-break:normal;}\n",
    ".tg th{border-color:black;border-style:solid;border-width:1px;font-family:Arial, sans-serif;font-size:14px;\n",
    "  font-weight:normal;overflow:hidden;padding:10px 5px;word-break:normal;}\n",
    ".tg .tg-0lax{text-align:left;vertical-align:top}\n",
    "</style>\n",
    "<table class=\"tg\">\n",
    "<thead>\n",
    "  <tr>\n",
    "    <th class=\"tg-0lax\">Feature</th>\n",
    "    <th class=\"tg-0lax\">Total</th>\n",
    "    <th class=\"tg-0lax\">Percent</th>\n",
    "  </tr>\n",
    "</thead>\n",
    "<tbody>\n",
    "  <tr>\n",
    "    <td class=\"tg-0lax\">PoolQC</td>\n",
    "    <td class=\"tg-0lax\">2908  </td>\n",
    "    <td class=\"tg-0lax\">0.997</td>\n",
    "  </tr>\n",
    "  <tr>\n",
    "    <td class=\"tg-0lax\">MiscFeature </td>\n",
    "    <td class=\"tg-0lax\">2812 </td>\n",
    "    <td class=\"tg-0lax\">0.964 </td>\n",
    "  </tr>\n",
    "  <tr>\n",
    "    <td class=\"tg-0lax\">Alley</td>\n",
    "    <td class=\"tg-0lax\">2719  </td>\n",
    "    <td class=\"tg-0lax\">0. 932</td>\n",
    "  </tr>\n",
    "  <tr>\n",
    "    <td class=\"tg-0lax\">Fence</td>\n",
    "    <td class=\"tg-0lax\">2346 </td>\n",
    "    <td class=\"tg-0lax\">0.804 </td>\n",
    "  </tr>\n",
    "  <tr>\n",
    "    <td class=\"tg-0lax\">SalePrice</td>\n",
    "    <td class=\"tg-0lax\">1605  </td>\n",
    "    <td class=\"tg-0lax\">0.550</td>\n",
    "  </tr>\n",
    "  <tr>\n",
    "    <td class=\"tg-0lax\">FireplaceQu</td>\n",
    "    <td class=\"tg-0lax\">1420  </td>\n",
    "    <td class=\"tg-0lax\">0.487</td>\n",
    "  </tr>\n",
    "  <tr>\n",
    "    <td class=\"tg-0lax\">LotFrontage</td>\n",
    "    <td class=\"tg-0lax\">486 </td>\n",
    "    <td class=\"tg-0lax\">0.167 </td>\n",
    "  </tr>\n",
    "  <tr>\n",
    "    <td class=\"tg-0lax\">GarageCond</td>\n",
    "    <td class=\"tg-0lax\">159 </td>\n",
    "    <td class=\"tg-0lax\">0.055</td>\n",
    "  </tr>\n",
    "  <tr>\n",
    "    <td class=\"tg-0lax\">GarageYrBlt</td>\n",
    "    <td class=\"tg-0lax\">159 </td>\n",
    "    <td class=\"tg-0lax\">0.055</td>\n",
    "  </tr>\n",
    "  <tr>\n",
    "    <td class=\"tg-0lax\">GarageQual</td>\n",
    "    <td class=\"tg-0lax\">159  </td>\n",
    "    <td class=\"tg-0lax\">0.055</td>\n",
    "  </tr>\n",
    "  <tr>\n",
    "    <td class=\"tg-0lax\">GarageFinish</td>\n",
    "    <td class=\"tg-0lax\">159  </td>\n",
    "    <td class=\"tg-0lax\">0.055</td>\n",
    "  </tr>\n",
    "  <tr>\n",
    "    <td class=\"tg-0lax\">GarageType</td>\n",
    "    <td class=\"tg-0lax\">157  </td>\n",
    "    <td class=\"tg-0lax\">0.054</td>\n",
    "  </tr>\n",
    "  <tr>\n",
    "    <td class=\"tg-0lax\">BsmtCond</td>\n",
    "    <td class=\"tg-0lax\">82  </td>\n",
    "    <td class=\"tg-0lax\">0.028</td>\n",
    "  </tr>\n",
    "  <tr>\n",
    "    <td class=\"tg-0lax\">BsmtExposure</td>\n",
    "    <td class=\"tg-0lax\">82  </td>\n",
    "    <td class=\"tg-0lax\">0.028</td>\n",
    "  </tr>\n",
    "  <tr>\n",
    "    <td class=\"tg-0lax\">BsmtQual</td>\n",
    "    <td class=\"tg-0lax\">81  </td>\n",
    "    <td class=\"tg-0lax\">0.028</td>\n",
    "  </tr>\n",
    "  <tr>\n",
    "    <td class=\"tg-0lax\">BsmtFinType2</td>\n",
    "    <td class=\"tg-0lax\">80 </td>\n",
    "    <td class=\"tg-0lax\">0.027</td>\n",
    "  </tr>\n",
    "  <tr>\n",
    "    <td class=\"tg-0lax\">BsmtFinType1</td>\n",
    "    <td class=\"tg-0lax\">79 </td>\n",
    "    <td class=\"tg-0lax\">0.027</td>\n",
    "  </tr>\n",
    "  <tr>\n",
    "    <td class=\"tg-0lax\">MasVnrType</td>\n",
    "    <td class=\"tg-0lax\">24</td>\n",
    "    <td class=\"tg-0lax\">0.008</td>\n",
    "  </tr>\n",
    "  <tr>\n",
    "    <td class=\"tg-0lax\">MasVnrArea</td>\n",
    "    <td class=\"tg-0lax\">23</td>\n",
    "    <td class=\"tg-0lax\">0.008</td>\n",
    "  </tr>\n",
    "  <tr>\n",
    "    <td class=\"tg-0lax\">MSZoning</td>\n",
    "    <td class=\"tg-0lax\">4</td>\n",
    "    <td class=\"tg-0lax\">0.001</td>\n",
    "  </tr>\n",
    "  <tr>\n",
    "    <td class=\"tg-0lax\">Utilities</td>\n",
    "    <td class=\"tg-0lax\">2</td>\n",
    "    <td class=\"tg-0lax\">0.001</td>\n",
    "  </tr>\n",
    "  <tr>\n",
    "    <td class=\"tg-0lax\">Functional</td>\n",
    "    <td class=\"tg-0lax\">2</td>\n",
    "    <td class=\"tg-0lax\">0.001</td>\n",
    "  </tr>\n",
    "  <tr>\n",
    "    <td class=\"tg-0lax\">BsmtFullBath</td>\n",
    "    <td class=\"tg-0lax\">2</td>\n",
    "    <td class=\"tg-0lax\">0.001</td>\n",
    "  </tr>\n",
    "  <tr>\n",
    "    <td class=\"tg-0lax\">BsmtHalfBath</td>\n",
    "    <td class=\"tg-0lax\">2</td>\n",
    "    <td class=\"tg-0lax\">0.001</td>\n",
    "  </tr>\n",
    "  <tr>\n",
    "    <td class=\"tg-0lax\">GarageCars</td>\n",
    "    <td class=\"tg-0lax\">1</td>\n",
    "    <td class=\"tg-0lax\">0.000</td>\n",
    "  </tr>\n",
    "  <tr>\n",
    "    <td class=\"tg-0lax\">BsmtFinSF2</td>\n",
    "    <td class=\"tg-0lax\">1</td>\n",
    "    <td class=\"tg-0lax\">0.000</td>\n",
    "  </tr>\n",
    "  <tr>\n",
    "    <td class=\"tg-0lax\">Exterior2nd</td>\n",
    "    <td class=\"tg-0lax\">1</td>\n",
    "    <td class=\"tg-0lax\">0.000</td>\n",
    "  </tr>\n",
    "  <tr>\n",
    "    <td class=\"tg-0lax\">GarageArea</td>\n",
    "    <td class=\"tg-0lax\">1</td>\n",
    "    <td class=\"tg-0lax\">0.000</td>\n",
    "  </tr>\n",
    "  <tr>\n",
    "    <td class=\"tg-0lax\">TotalBsmtSF</td>\n",
    "    <td class=\"tg-0lax\">1</td>\n",
    "    <td class=\"tg-0lax\">0.000</td>\n",
    "  </tr>\n",
    "  <tr>\n",
    "    <td class=\"tg-0lax\">BsmtUnfSF</td>\n",
    "    <td class=\"tg-0lax\">1</td>\n",
    "    <td class=\"tg-0lax\">0.000</td>\n",
    "  </tr>\n",
    "  <tr>\n",
    "    <td class=\"tg-0lax\">BsmtFinSF1</td>\n",
    "    <td class=\"tg-0lax\">1</td>\n",
    "    <td class=\"tg-0lax\">0.000</td>\n",
    "  </tr>\n",
    "  <tr>\n",
    "    <td class=\"tg-0lax\">Exterior1st</td>\n",
    "    <td class=\"tg-0lax\">1</td>\n",
    "    <td class=\"tg-0lax\">0.000</td>\n",
    "  </tr>\n",
    "  <tr>\n",
    "    <td class=\"tg-0lax\">KitchenQual</td>\n",
    "    <td class=\"tg-0lax\">1</td>\n",
    "    <td class=\"tg-0lax\">0.000</td>\n",
    "  </tr>\n",
    "  <tr>\n",
    "    <td class=\"tg-0lax\">SaleType</td>\n",
    "    <td class=\"tg-0lax\">1</td>\n",
    "    <td class=\"tg-0lax\">0.000</td>\n",
    "  </tr>\n",
    "  <tr>\n",
    "    <td class=\"tg-0lax\">Electrical</td>\n",
    "    <td class=\"tg-0lax\">1</td>\n",
    "    <td class=\"tg-0lax\">0.000</td>\n",
    "  </tr>\n",
    "  <tr>\n",
    "    <th class=\"tg-0pky\"> Table 4.2: Missing value’s </th>\n",
    "    <th>number </th>\n",
    "    <th>and percentage</th>\n",
    "  </tr>  \n",
    "</tbody>\n",
    "</table>\n"
   ]
  },
  {
   "cell_type": "markdown",
   "metadata": {
    "id": "OsueNNqr9o29"
   },
   "source": [
    "We are going to have different approaches for different variables.\n",
    "\n",
    "We can see that in variables PoolQC, MiscFeature, Alley and Fence more than 80% of the data and in FireplaceQu almost half of the data is missing. So we can’t really make use out of them since our models can’t propel learn them so we drop these columns."
   ]
  },
  {
   "cell_type": "code",
   "execution_count": 21,
   "metadata": {
    "id": "9wjooGmk9n60"
   },
   "outputs": [],
   "source": [
    "all_data = all_data.drop([\"PoolQC\", \"MiscFeature\", \"Alley\", \"Fence\", \"FireplaceQu\"], axis=1)"
   ]
  },
  {
   "cell_type": "markdown",
   "metadata": {
    "id": "sQhkTaTF-CxT"
   },
   "source": [
    "\n",
    "Then we have missing values in SalesPrice which is for test dataset and we need to predict them, so we move on.\n",
    "\n",
    "Look at numeric variables like MasVnrArea, GarageYrBlt, GarageArea, GarageCars, BsmtFinSF1, BsmtUnfSF, BsmtFinSF2, TotalBsmtSF, BsmtHalfBath and BsmtFullBath. We can fill missing values in these variables with 0, as missing values means not having that feature like not having Masonry veneer area or basement or garage."
   ]
  },
  {
   "cell_type": "code",
   "execution_count": 22,
   "metadata": {
    "id": "ZRb6vbMB991u"
   },
   "outputs": [],
   "source": [
    "for i in [\"MasVnrArea\", \"GarageYrBlt\", \"GarageArea\", \"GarageCars\", \"BsmtFinSF1\", \"BsmtUnfSF\", \"BsmtFinSF2\", \"TotalBsmtSF\", \"BsmtHalfBath\", \"BsmtFullBath\"]:\n",
    "  all_data[i] = all_data[i].fillna(0)"
   ]
  },
  {
   "cell_type": "markdown",
   "metadata": {
    "id": "BwoEQJqA-Jaz"
   },
   "source": [
    "For categorical variables like MasVnrType, GarageCond, GarageType, GarageFinish, GarageQual, BsmtExposure, BsmtFinType2, BsmtFinType1, BsmtCond and BsmtQual, still missing values means lack of that feature. But we can’t fill them with 0 since they’re string. So we fill them instead with “Unknown”. This makes all these missing values classified in a class."
   ]
  },
  {
   "cell_type": "code",
   "execution_count": 23,
   "metadata": {
    "id": "xFXG8qoC-Io1"
   },
   "outputs": [],
   "source": [
    "for i in [\"MasVnrType\", \"GarageCond\", \"GarageType\", \"GarageFinish\", \"GarageQual\", \"BsmtExposure\", \"BsmtFinType2\", \"BsmtFinType1\", \"BsmtCond\", \"BsmtQual\"]:\n",
    "  all_data[i] = all_data[i].fillna(\"Unknown\")"
   ]
  },
  {
   "cell_type": "markdown",
   "metadata": {
    "id": "-uO3GNlB-IM1"
   },
   "source": [
    "\n",
    "We have 2 missing values in Functional column. In description we got to know missing data means Typical class, so we fill them with “Typ”."
   ]
  },
  {
   "cell_type": "code",
   "execution_count": 24,
   "metadata": {
    "id": "qFDFShSv-Uu6"
   },
   "outputs": [],
   "source": [
    "all_data[\"Functional\"] = all_data[\"Functional\"].fillna(\"Typ\")"
   ]
  },
  {
   "cell_type": "markdown",
   "metadata": {
    "id": "AigH1-AD-ckS"
   },
   "source": [
    "Next we have some categorical features that missing values doesn’t mean lack of the feature, like MSZoning, Electrical, KitchenQual, Exterior1st, Exterior2nd, SaleType and Utilities. We will fill these missing data with the most frequent vales of the\n",
    "feature. Right now we just need to make sure that we will use the most frequent value from train dataset so there won’t be data leakage."
   ]
  },
  {
   "cell_type": "code",
   "execution_count": 25,
   "metadata": {
    "id": "Xg1MYXk5-c0P"
   },
   "outputs": [],
   "source": [
    "for i in [\"MSZoning\", \"Electrical\", \"KitchenQual\", \"Exterior1st\", \"Exterior2nd\", \"SaleType\", \"Utilities\"]:\n",
    "  all_data[i] = all_data[i].fillna(df_train_c[i].mode()[0])"
   ]
  },
  {
   "cell_type": "markdown",
   "metadata": {
    "id": "8Bbz_vapqH18"
   },
   "source": [
    "\n",
    "\n",
    "\n",
    "\n",
    "\n",
    "\n",
    "\n",
    "\n",
    "Then we have 486 missing values in LotFrontage and we should fill them with mean/mode/median of LotFrontage value from train dataset. Again we use train dataset to prevent data leakage. But let’s decide on which one to use. We can put each of the three values and compare model scores and then choose the best one. Later we will talk about these scores in Performance metric section in Model Building. But as for let’s just say the smaller the score, the better.\n",
    "\n",
    "<style type=\"text/css\">\n",
    ".tg  {border-collapse:collapse;border-spacing:0;}\n",
    ".tg td{border-color:black;border-style:solid;border-width:1px;font-family:Arial, sans-serif;font-size:14px;\n",
    "  overflow:hidden;padding:10px 5px;word-break:normal;}\n",
    ".tg th{border-color:black;border-style:solid;border-width:1px;font-family:Arial, sans-serif;font-size:14px;\n",
    "  font-weight:normal;overflow:hidden;padding:10px 5px;word-break:normal;}\n",
    ".tg .tg-0pky{border-color:inherit;text-align:left;vertical-align:top}\n",
    "</style>\n",
    "<table class=\"tg\">\n",
    "<thead>\n",
    "  <tr>\n",
    "    <th class=\"tg-0pky\"></th>\n",
    "    <th class=\"tg-0pky\">Mean</th>\n",
    "    <th class=\"tg-0pky\">Median</th>\n",
    "    <th class=\"tg-0pky\">Mode</th>\n",
    "  </tr>\n",
    "</thead>\n",
    "<tbody>\n",
    "  <tr>\n",
    "    <td class=\"tg-0pky\">Lasso</td>\n",
    "    <td class=\"tg-0pky\">0.1200 (0.0125)</td>\n",
    "    <td class=\"tg-0pky\">0.1200 (0.0125)</td>\n",
    "    <td class=\"tg-0pky\">0.1201 (0.0126)</td>\n",
    "  </tr>\n",
    "  <tr>\n",
    "    <td class=\"tg-0pky\">ElasticNet</td>\n",
    "    <td class=\"tg-0pky\">0.1201 (0.0127)</td>\n",
    "    <td class=\"tg-0pky\">score: 0.1201 (0.0127)</td>\n",
    "    <td class=\"tg-0pky\">0.1201 (0.0127)</td>\n",
    "  </tr>\n",
    "  <tr>\n",
    "    <td class=\"tg-0pky\">Kernel Ridge</td>\n",
    "    <td class=\"tg-0pky\">0.1221 (0.0141)</td>\n",
    "    <td class=\"tg-0pky\">score: 0.1221 (0.0141)</td>\n",
    "    <td class=\"tg-0pky\">0.1221 (0.0142)</td>\n",
    "  </tr>\n",
    "  <tr>\n",
    "    <td class=\"tg-0pky\">Decision Tree</td>\n",
    "    <td class=\"tg-0pky\">0.1936 (0.0075)</td>\n",
    "    <td class=\"tg-0pky\"> 0.1909 (0.0088)</td>\n",
    "    <td class=\"tg-0pky\">0.1902 (0.0083)</td>\n",
    "  </tr>\n",
    "  <tr>\n",
    "    <td class=\"tg-0pky\">XGB Regression</td>\n",
    "    <td class=\"tg-0pky\">0.1891 (0.0088)</td>\n",
    "    <td class=\"tg-0pky\">0.1906 (0.0082)</td>\n",
    "    <td class=\"tg-0pky\">0.1896 (0.0092)</td>\n",
    "  </tr>\n",
    "  <tr>\n",
    "    <td class=\"tg-0pky\">Random Forest</td>\n",
    "    <td class=\"tg-0pky\">0.1918 (0.0083)</td>\n",
    "    <td class=\"tg-0pky\">0.1926 (0.0082)</td>\n",
    "    <td class=\"tg-0pky\">0.1907 (0.0080)</td>\n",
    "  </tr>\n",
    "  <th>Table 4.3: Scores for different LotFrontage</th>\n",
    "</tbody>\n",
    "</table>\n",
    "\n",
    "Now based on table 4.3 we decide to fill the missing values with mode."
   ]
  },
  {
   "cell_type": "code",
   "execution_count": 26,
   "metadata": {
    "id": "4QwbnUBa-reO"
   },
   "outputs": [],
   "source": [
    "all_data[\"LotFrontage\"] = all_data[\"LotFrontage\"].fillna(df_train_c[\"LotFrontage\"].mode()[0])"
   ]
  },
  {
   "cell_type": "code",
   "execution_count": 27,
   "metadata": {
    "colab": {
     "base_uri": "https://localhost:8080/"
    },
    "id": "lXXJSJV5-7-a",
    "outputId": "9bf19fa7-56e3-4ebb-9432-904ee7e05ce6"
   },
   "outputs": [
    {
     "name": "stdout",
     "output_type": "stream",
     "text": [
      "\n",
      " data missing values after pre processing\n",
      " SalePrice       1605\n",
      "YearRemodAdd       0\n",
      "RoofMatl           0\n",
      "Exterior1st        0\n",
      "Exterior2nd        0\n",
      "MasVnrType         0\n",
      "MasVnrArea         0\n",
      "ExterQual          0\n",
      "ExterCond          0\n",
      "Foundation         0\n",
      "BsmtQual           0\n",
      "BsmtCond           0\n",
      "BsmtExposure       0\n",
      "BsmtFinType1       0\n",
      "BsmtFinSF1         0\n",
      "BsmtFinType2       0\n",
      "BsmtFinSF2         0\n",
      "RoofStyle          0\n",
      "YearBuilt          0\n",
      "TotalBsmtSF        0\n",
      "OverallCond        0\n",
      "MSZoning           0\n",
      "LotFrontage        0\n",
      "LotArea            0\n",
      "Street             0\n",
      "LotShape           0\n",
      "LandContour        0\n",
      "Utilities          0\n",
      "LotConfig          0\n",
      "LandSlope          0\n",
      "Neighborhood       0\n",
      "Condition1         0\n",
      "Condition2         0\n",
      "BldgType           0\n",
      "HouseStyle         0\n",
      "dtype: int64\n",
      "0    0\n",
      "dtype: int64\n"
     ]
    }
   ],
   "source": [
    "print(\"\\n data missing values after pre processing\\n\",\n",
    "all_data.isnull().sum().sort_values(ascending=False)[:35]) \n",
    "print(pd.DataFrame(y_train).isna().sum())"
   ]
  },
  {
   "cell_type": "markdown",
   "metadata": {
    "id": "W482cdCn--V9"
   },
   "source": [
    "After we checked, there's no more missing values. "
   ]
  },
  {
   "cell_type": "markdown",
   "metadata": {
    "id": "6C22hKIKSyhL"
   },
   "source": [
    "### 4.2.3 Deleting unimportant columns."
   ]
  },
  {
   "cell_type": "markdown",
   "metadata": {
    "id": "yiNQEJ5R_dlC"
   },
   "source": [
    "There are some unimportant columns in our dataset which the frequency of one unique value is a lot higher than other values, this makes these variables not useful for our learning. Now we write a loop that searches and shows us which column has a value with frequency more than 97%. We only search in variables with object type."
   ]
  },
  {
   "cell_type": "code",
   "execution_count": 28,
   "metadata": {
    "colab": {
     "base_uri": "https://localhost:8080/"
    },
    "id": "RSpD0FYw_JFU",
    "outputId": "d39281e1-15b8-41c0-f6e9-6d9cc4bb200d"
   },
   "outputs": [
    {
     "name": "stdout",
     "output_type": "stream",
     "text": [
      "  MSZoning Street LotShape  ... PavedDrive SaleType SaleCondition\n",
      "0       RL   Pave      Reg  ...          Y       WD        Normal\n",
      "1       RL   Pave      Reg  ...          Y       WD        Normal\n",
      "2       RL   Pave      IR1  ...          Y       WD        Normal\n",
      "3       RL   Pave      IR1  ...          Y       WD       Abnorml\n",
      "4       RL   Pave      IR1  ...          Y       WD        Normal\n",
      "\n",
      "[5 rows x 38 columns]\n",
      "Street\n",
      "Utilities\n",
      "Condition2\n",
      "RoofMatl\n",
      "Heating\n"
     ]
    }
   ],
   "source": [
    "# not useful features:\n",
    "object_columns_df = pd.DataFrame(all_data.select_dtypes(include=['object'])) \n",
    "print(object_columns_df.head())\n",
    "for i in object_columns_df.columns:\n",
    "  if  max(object_columns_df[i].value_counts()/object_columns_df[i].value_counts( ).sum()) > 0.97:\n",
    "      print(i)\n"
   ]
  },
  {
   "cell_type": "markdown",
   "metadata": {
    "id": "avcE8wwRsoXC"
   },
   "source": [
    "\n",
    "\n",
    "Now we remove these columns."
   ]
  },
  {
   "cell_type": "code",
   "execution_count": 29,
   "metadata": {
    "id": "7U3sAV82_YSF"
   },
   "outputs": [],
   "source": [
    "all_data = all_data.drop(['Street', 'Utilities', 'Condition2', 'RoofMatl',\n",
    "'Heating'], axis=1)"
   ]
  },
  {
   "cell_type": "markdown",
   "metadata": {
    "id": "FNLYrmfVS8nk"
   },
   "source": [
    "## 4.3 Feature Engineering "
   ]
  },
  {
   "cell_type": "markdown",
   "metadata": {
    "id": "Jl_gKEbsTG21"
   },
   "source": [
    "### 4.3.1 Creating new derived features "
   ]
  },
  {
   "cell_type": "markdown",
   "metadata": {
    "id": "Pc1tKuVv_hlI"
   },
   "source": [
    "In order to have better performance we can derive new features. We don’t have any variable that contains total area of the house, we only have area of basement, first and second floor. Let’s make this new variable. By adding TotalBsmtSF, 1stFlrSF and 2ndFlrSF together we make TotalSF as a new feature.\n"
   ]
  },
  {
   "cell_type": "code",
   "execution_count": 30,
   "metadata": {
    "id": "ElT3zI30_euW"
   },
   "outputs": [],
   "source": [
    "all_data['TotalSF'] = all_data['TotalBsmtSF'] + all_data['1stFlrSF'] + all_data['2ndFlrSF']"
   ]
  },
  {
   "cell_type": "markdown",
   "metadata": {
    "id": "6BnPmIa2_xFZ"
   },
   "source": [
    "\n",
    "Another feature that we can add to our data is total number of bathrooms. We have two half bathroom variables and two full baths. We add them up but we need to multiply number of half baths by 0.5, and that makes new variable TotalBath."
   ]
  },
  {
   "cell_type": "code",
   "execution_count": 31,
   "metadata": {
    "id": "m58GTHHV_u_t"
   },
   "outputs": [],
   "source": [
    "all_data['TotalBath'] = all_data['FullBath'] + all_data['HalfBath']*0.5 + all_data['BsmtFullBath'] + all_data['BsmtFullBath']*0.5"
   ]
  },
  {
   "cell_type": "markdown",
   "metadata": {
    "id": "4LTQ0ucmtAe3"
   },
   "source": [
    "\n",
    "\n",
    "We can also create Total_porch_sf, meaning total porch area; by adding OpenPorchSF, 3SsnPorch, EnclosedPorch, ScreenPorch and WoodDeckSF together. But later after modeling we got back to here and test our results with and without this feature. Results showed that not adding this feature is better, so we won’t.\n",
    "\n",
    "\n"
   ]
  },
  {
   "cell_type": "code",
   "execution_count": null,
   "metadata": {
    "colab": {
     "background_save": true
    },
    "id": "w_oEW-6g_6KA"
   },
   "outputs": [],
   "source": [
    "# all_data['Total_porch_sf'] = (all_data['OpenPorchSF'] + all_data['3SsnPorch'] + all_data['EnclosedPorch'] + all_data['ScreenPorch'] +all_data['WoodDeckSF'])"
   ]
  },
  {
   "cell_type": "markdown",
   "metadata": {
    "id": "UjcSYQhy_6jO"
   },
   "source": [
    "We need to derive house age from out data. We do this by subtracting YearBuilt from YrSold. Now we check this new feature.\n"
   ]
  },
  {
   "cell_type": "code",
   "execution_count": 32,
   "metadata": {
    "colab": {
     "base_uri": "https://localhost:8080/"
    },
    "id": "GfBTvTCMBzSi",
    "outputId": "91481e4b-4117-4a8c-d9f7-b59da8e7f188"
   },
   "outputs": [
    {
     "name": "stdout",
     "output_type": "stream",
     "text": [
      "count   2917.000\n",
      "mean      36.505\n",
      "std       30.332\n",
      "min       -1.000\n",
      "25%        7.000\n",
      "50%       35.000\n",
      "75%       55.000\n",
      "max      136.000\n",
      "Name: HouseAge, dtype: float64\n"
     ]
    }
   ],
   "source": [
    "all_data[\"HouseAge\"] = (all_data['YrSold'] - all_data['YearBuilt']) \n",
    "print(all_data[\"HouseAge\"].describe()) "
   ]
  },
  {
   "cell_type": "markdown",
   "metadata": {
    "id": "BrpM80t8BcZf"
   },
   "source": [
    "As we can see there is unusual value here, as the minimum is -1. We try to find this\n",
    "row and some information about it."
   ]
  },
  {
   "cell_type": "code",
   "execution_count": 33,
   "metadata": {
    "colab": {
     "base_uri": "https://localhost:8080/"
    },
    "id": "rGV93c7X_7XZ",
    "outputId": "172820f8-4b66-43ce-c99e-f2c48307bcc7"
   },
   "outputs": [
    {
     "name": "stdout",
     "output_type": "stream",
     "text": [
      "2401    2008\n",
      "Name: YearBuilt, dtype: int64\n",
      "2401    2007\n",
      "Name: YrSold, dtype: int64\n",
      "2401    2009\n",
      "Name: YearRemodAdd, dtype: int64\n"
     ]
    }
   ],
   "source": [
    "print(all_data.iloc[np.where(all_data[\"HouseAge\"] == -1)][\"YearBuilt\"]) \n",
    "print(all_data.iloc[np.where(all_data[\"HouseAge\"] == -1)][\"YrSold\"]) \n",
    "print(all_data.iloc[np.where(all_data[\"HouseAge\"] == -1)][\"YearRemodAdd\"])"
   ]
  },
  {
   "cell_type": "markdown",
   "metadata": {
    "id": "mr2_yZizDQax"
   },
   "source": [
    "So it must have been a typo that this house was sold before it’s was built but we can\n",
    "correct this. We change this row’s YrSold with 2009. We should write this line\n",
    "before adding this feature."
   ]
  },
  {
   "cell_type": "code",
   "execution_count": 34,
   "metadata": {
    "colab": {
     "base_uri": "https://localhost:8080/"
    },
    "id": "6eR_rZ7uDP51",
    "outputId": "563a9a4a-6aaa-4919-bd30-25c28b4cb086"
   },
   "outputs": [
    {
     "name": "stdout",
     "output_type": "stream",
     "text": [
      "count   2917.000\n",
      "mean      36.506\n",
      "std       30.331\n",
      "min        0.000\n",
      "25%        7.000\n",
      "50%       35.000\n",
      "75%       55.000\n",
      "max      136.000\n",
      "Name: HouseAge, dtype: float64\n"
     ]
    }
   ],
   "source": [
    "all_data.loc[all_data['YrSold'] < all_data['YearBuilt'], 'YrSold'] = 2009 \n",
    "all_data[\"HouseAge\"] = (all_data['YrSold'] - all_data['YearBuilt']) \n",
    "print(all_data[\"HouseAge\"].describe()) "
   ]
  },
  {
   "cell_type": "markdown",
   "metadata": {
    "id": "rLL4hxBjDp5_"
   },
   "source": [
    "Now that we are done with new features. We can take a look and see there are some\n",
    "features that are originally a string but we set them with numeric type. Variables like\n",
    "MSSubClass, OverallCond, YrSold and MoSold should be strings. And that makes\n",
    "them having different classes."
   ]
  },
  {
   "cell_type": "code",
   "execution_count": 35,
   "metadata": {
    "id": "R-olb74LDwJ_"
   },
   "outputs": [],
   "source": [
    "for i in [\"MSSubClass\", \"OverallCond\", \"YrSold\", \"MoSold\"]: \n",
    "  all_data[i] = all_data[i].apply(str)"
   ]
  },
  {
   "cell_type": "markdown",
   "metadata": {
    "id": "eiCJfi7XDPqa"
   },
   "source": [
    "Now we take a copy from our data because we will use it in second part of the\n",
    "problem."
   ]
  },
  {
   "cell_type": "code",
   "execution_count": 36,
   "metadata": {
    "id": "LsV7isFTD6IV"
   },
   "outputs": [],
   "source": [
    "all_data_c = all_data.copy()"
   ]
  },
  {
   "cell_type": "markdown",
   "metadata": {
    "id": "sKRaPuKmTOb1"
   },
   "source": [
    "### 4.3.2 Dealing with ordinal variables \n"
   ]
  },
  {
   "cell_type": "markdown",
   "metadata": {
    "id": "fKJpDNZSEDQA"
   },
   "source": [
    "There are some ordinal features in our dataset and so we can’t use the typical label\n",
    "encoder. Instead we are going to define their orders and then give them to\n",
    "OrdinalEncoder from Preprocessing folder in Sklearn package. Our ordinal variables\n",
    "are Msclass, ExterQual, LotShape, BsmtQual, BsmtCond, BsmtExposure, \n",
    "BsmtFinType1, BsmtFinType2, HeatingQC, Functional, FireplaceQu, KitchenQual,\n",
    "GarageFinish, GarageQual, GarageCond, PoolQC and Fence. We define their orders\n",
    "using description which was provided with datasets. "
   ]
  },
  {
   "cell_type": "code",
   "execution_count": 37,
   "metadata": {
    "id": "kHxuI66zAf3o"
   },
   "outputs": [],
   "source": [
    "orders=[#msclass ['20','30','40','45','50','60','70','75','80','85', '90','120','150','160','180','190'],\n",
    "#ExterQual ['Fa','TA','Gd','Ex'], #LotShape ['Reg','IR1' ,'IR2','IR3'], #BsmtQual ['None','Fa','TA','Gd','Ex'],\n",
    "#BsmtCond ['None','Po','Fa','TA','Gd','Ex'],  #BsmtExposure ['None','No','Mn','Av','Gd'],\n",
    "# #BsmtFinType1 ['None','Unf','LwQ', 'Rec','BLQ','ALQ' , 'GLQ' ], #BsmtFinType2 ['None','Unf','LwQ', 'Rec','BLQ','ALQ' , 'GLQ' ],\n",
    " # #HeatingQC ['Po','Fa','TA','Gd','Ex'], #Functional ['Sev','Maj2','Maj1','Mod','Min2','Min1','Typ'],\n",
    "# #FireplaceQu ['None','Po','Fa','TA','Gd','Ex'], #KitchenQual ['Fa','TA','Gd','Ex'], #GarageFinish ['None','Unf','RFn','Fin'],\n",
    "# #GarageQual ['None','Po','Fa','TA','Gd','Ex'], #GarageCond ['None','Po','Fa','TA','Gd','Ex'], #PoolQC ['None','Fa','Gd','Ex'],\n",
    "# #Fence ['None','MnWw','GdWo','MnPrv','GdPrv']\n",
    "]"
   ]
  },
  {
   "cell_type": "markdown",
   "metadata": {
    "id": "MhTLZu-dFEKq"
   },
   "source": [
    "And then we write a loop to\n",
    "transform these variables."
   ]
  },
  {
   "cell_type": "code",
   "execution_count": 38,
   "metadata": {
    "id": "g7SxA-BRFFHE"
   },
   "outputs": [],
   "source": [
    "for i in range(len(orders)):\n",
    "  ord_en = OrdinalEncoder(categories={0: orders[i]})\n",
    "  all_data.loc[:, ord_fields[i]] = ord_en.fit_transform(all_data.loc[:, ord_fields[i]].values.reshape(-1, 1))"
   ]
  },
  {
   "cell_type": "markdown",
   "metadata": {
    "id": "Nut5XkFDTUNR"
   },
   "source": [
    "### 4.3.3 One-Hot encoding for categorical variables "
   ]
  },
  {
   "cell_type": "markdown",
   "metadata": {
    "id": "UuWWH19LJfSg"
   },
   "source": [
    "Machine learning models only accept numbers as their input and we have some\n",
    "categorical features that we didn’t encode. There is a cool one-hot encoding\n",
    "technique which transforms the categorical variable into a number of binary\n",
    "variables based on the number of unique categories in the categorical variable; each\n",
    "of the resulting binary variables has only 0 and 1 as its possible values. we can use\n",
    "get_dummies function in Pandas package that will do the work for us."
   ]
  },
  {
   "cell_type": "code",
   "execution_count": 39,
   "metadata": {
    "id": "dl0WazI5Jiiv"
   },
   "outputs": [],
   "source": [
    "all_data = pd.get_dummies(all_data, drop_first=True)"
   ]
  },
  {
   "cell_type": "markdown",
   "metadata": {
    "id": "6Uzv6V6uThU9"
   },
   "source": [
    "## 4.4 Model Building\n"
   ]
  },
  {
   "cell_type": "markdown",
   "metadata": {
    "id": "QhNhuwC7TmQX"
   },
   "source": [
    "### 4.4.1 Preparation for modeling \n"
   ]
  },
  {
   "cell_type": "markdown",
   "metadata": {
    "id": "mkdjdDkFKNPa"
   },
   "source": [
    "We need to separate the train and test datasets for modeling, and we do so. "
   ]
  },
  {
   "cell_type": "code",
   "execution_count": 40,
   "metadata": {
    "id": "qxP7sLrzKMrR"
   },
   "outputs": [],
   "source": [
    "train = pd.DataFrame(all_data[:ntrain])\n",
    "test = pd.DataFrame(all_data[ntrain:])"
   ]
  },
  {
   "cell_type": "markdown",
   "metadata": {
    "id": "Rqc-EsLiKf-1"
   },
   "source": [
    "Next step we use a function in Model_selection folder from Sklearn package to split\n",
    "our train dataset randomly so we can have training dataset to train our model and a\n",
    "test dataset to evaluate the model.\n",
    "\n",
    "We also need to use an scaler to scale our data, so we use RobustScaler from preprocessing in Sklearn package.\n",
    "!!!!!!!!!!!!!!!!!!!!!!!!!!!"
   ]
  },
  {
   "cell_type": "code",
   "execution_count": 41,
   "metadata": {
    "id": "l-DQfKDYKfU-"
   },
   "outputs": [],
   "source": [
    "X_train, X_test, y_train, y_test = train_test_split(train.drop('SalePrice', axis=1), train[['SalePrice']], test_size=0.2, random_state=3)\n",
    "\n",
    "scaler = RobustScaler()\n",
    "X_train = scaler.fit_transform(X_train) \n",
    "X_test = scaler.fit_transform(X_test)"
   ]
  },
  {
   "cell_type": "markdown",
   "metadata": {
    "id": "wT7ZT_c-Tr4t"
   },
   "source": [
    "### 4.4.2 Searching for effective parameters \n"
   ]
  },
  {
   "cell_type": "markdown",
   "metadata": {
    "id": "AiYIgTFtBMkF"
   },
   "source": [
    "For each of our models there are parameters that we need to estimate its value, that\n",
    "makes lots of combinations of those parameters. In order to get best results we should\n",
    "try each combination and then choose the one that gives best score. Sklearn provides\n",
    "the function for us in Model_selection folder, it’s called GridSearchCV. We just\n",
    "need to give the possible parameters to the function then it tries all combinations and\n",
    "give us parameters with best scores. Later in Results we will show you all the best\n",
    "parameters."
   ]
  },
  {
   "cell_type": "markdown",
   "metadata": {
    "id": "0hpTCmesTy_Z"
   },
   "source": [
    "### 4.4.3 Performance metric"
   ]
  },
  {
   "cell_type": "markdown",
   "metadata": {
    "id": "jlAcRkZIBrlE"
   },
   "source": [
    "We use the cross_val_score function from Model_selection folder in Sklearn. But\n",
    "because cross_val_score doesn’t have shuffle attribute; we add one line and write \n",
    "our own function. When we chose our scoring as “neg_mean_squared_error”, it\n",
    "gives us negative value of mean of squared errors. So have to multiply this by a\n",
    "negative so we have the positive value. Now if we take its square root, makes its\n",
    "RMSE. So by now we have RMSE which is Root Mean Squared Error. But if we\n",
    "pay attention we transformed our target response previously into logarithmic, and\n",
    "sow now our metric is Root Mean Squared Logarithmic Error (RMSLE)."
   ]
  },
  {
   "cell_type": "markdown",
   "metadata": {
    "id": "ycmeH6TYCkfk"
   },
   "source": [
    "![inbox_4612816_29e61a416dbf4c1e0cb1be4c46354ef4_rmsle.jpeg](data:image/jpeg;base64,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)"
   ]
  },
  {
   "cell_type": "markdown",
   "metadata": {
    "id": "-T-KWcBOP7fV"
   },
   "source": [
    "\n",
    "# 5. Results"
   ]
  },
  {
   "cell_type": "markdown",
   "metadata": {
    "id": "w4hc5QXST6Xv"
   },
   "source": [
    "## 5.1 Model Assumptions\n"
   ]
  },
  {
   "cell_type": "markdown",
   "metadata": {
    "id": "5kmXti7xC3Bv"
   },
   "source": [
    "Before building a multiple linear regression model, we need to check that these\n",
    "assumptions below are valid."
   ]
  },
  {
   "cell_type": "markdown",
   "metadata": {
    "id": "8GUSsd6RUCbG"
   },
   "source": [
    "### 5.1.1 Linearity \n"
   ]
  },
  {
   "cell_type": "markdown",
   "metadata": {
    "id": "ba452TT4C76s"
   },
   "source": [
    "We need the relationship between each independent variable and the\n",
    "dependent variable to be linear for linear regression. We can test this assumption\n",
    "with scatter plot or we can check residual plot, which tells us how is the error\n",
    "variance across the true line. Before in 4.2.1 we transformed our target variable, now\n",
    "we can just check linearity with a residual plot. "
   ]
  },
  {
   "cell_type": "code",
   "execution_count": 42,
   "metadata": {
    "colab": {
     "base_uri": "https://localhost:8080/",
     "height": 530
    },
    "id": "cZoymmWFD8he",
    "outputId": "d27e7728-09f5-4fc0-89f0-ab758e4c8ce4"
   },
   "outputs": [
    {
     "data": {
      "text/plain": [
       "<Figure size 432x288 with 0 Axes>"
      ]
     },
     "metadata": {},
     "output_type": "display_data"
    },
    {
     "data": {
      "image/png": "[encoded data removed]",
      "text/plain": [
       "<Figure size 864x576 with 1 Axes>"
      ]
     },
     "metadata": {
      "needs_background": "light"
     },
     "output_type": "display_data"
    }
   ],
   "source": [
    "plt.figure(9)\n",
    "plt.subplots(figsize = (12,8)) \n",
    "sns.residplot(df_train_c.GrLivArea, df_train_c.SalePrice) \n",
    "plt.title(\"Figure 9: Residual Plot\")\n",
    "plt.show()"
   ]
  },
  {
   "cell_type": "markdown",
   "metadata": {
    "id": "5qkniP6NEMgj"
   },
   "source": [
    "Ideally, if the assumptions are met, the residuals will be randomly scattered around\n",
    "the centerline of zero with no apparent pattern. We can see that there isn’t any pattern\n",
    "that these points are following. So we can move to next assumption."
   ]
  },
  {
   "cell_type": "markdown",
   "metadata": {
    "id": "d-d30gXuUF9l"
   },
   "source": [
    "### 5.1.2 Homoscedasticity \n"
   ]
  },
  {
   "cell_type": "markdown",
   "metadata": {
    "id": "L2MAc4bUEQZo"
   },
   "source": [
    "Homoscedasticity describes a situation in which the error or random disturbance in\n",
    "the relationship between the independent variables and the dependent variable is the\n",
    "same across all values of the independent variable. If the noise is not the same across\n",
    "the values of an independent variable unlike our residual plot above (Figure 10), we\n",
    "call that Heteroscedasticity, it is the opposite of Homoscedasticity. One way to fix\n",
    "Heteroscedasticity is by using a transformation method like log-transformation,\n",
    "which we did before. "
   ]
  },
  {
   "cell_type": "markdown",
   "metadata": {
    "id": "-a9CPTrUUKWk"
   },
   "source": [
    "### 5.1.3 Multivariate Normality \n"
   ]
  },
  {
   "cell_type": "markdown",
   "metadata": {
    "id": "OQlvzW-gETZc"
   },
   "source": [
    "Let’s check multivariate normality (normality of errors). The linear regression\n",
    "analysis requires the dependent variable to be multivariate normally distributed. A\n",
    "histogram, box plot, or a Q-Q-Plot can check if the target variable is normally \n",
    "distributed. In chapter 4.2.1 we checked normality of target variables in Figures 5\n",
    "till 8."
   ]
  },
  {
   "cell_type": "markdown",
   "metadata": {
    "id": "CQDaiCUfUN0j"
   },
   "source": [
    "### 5.1.4 Absence of correlated errors"
   ]
  },
  {
   "cell_type": "markdown",
   "metadata": {
    "id": "czt6Pp2hE3JF"
   },
   "source": [
    "We checked the correlation between variables in 4.1.3."
   ]
  },
  {
   "cell_type": "markdown",
   "metadata": {
    "id": "vk9UdF_1UTdT"
   },
   "source": [
    "## 5.2 Modeling and Evaluation \n"
   ]
  },
  {
   "cell_type": "markdown",
   "metadata": {
    "id": "8ehHCfT9FM6J"
   },
   "source": [
    "First we are going to apply GridSearchCV as we talked about before and determine\n",
    "best parameters, we’ll use them in next step.\n"
   ]
  },
  {
   "cell_type": "markdown",
   "metadata": {
    "id": "pjVMJwusUbnj"
   },
   "source": [
    "### 5.2.1 Lasso \n"
   ]
  },
  {
   "cell_type": "code",
   "execution_count": null,
   "metadata": {
    "colab": {
     "base_uri": "https://localhost:8080/"
    },
    "id": "NFgVqvjWFMbX",
    "outputId": "83a975c6-c99d-4040-c8cd-e0a7b197749b"
   },
   "outputs": [
    {
     "name": "stdout",
     "output_type": "stream",
     "text": [
      "Best parameter provided by GridSearchCV is: {'alpha': 0.00030000000000000003}\n"
     ]
    }
   ],
   "source": [
    "lasso_reg = Lasso()\n",
    "lasso_parameters = {'alpha': np.arange(0.0001, 0.005, 0.0001)} \n",
    "grid_lasso = GridSearchCV(estimator=lasso_reg, param_grid=lasso_parameters, cv=5)\n",
    "grid_lasso.fit(X_train, y_train) \n",
    "print(\"Best parameter provided by GridSearchCV is:\", grid_lasso.best_params_)"
   ]
  },
  {
   "cell_type": "markdown",
   "metadata": {
    "id": "cgH4AhB2UhHy"
   },
   "source": [
    "### 5.2.2 Elastic Net\n"
   ]
  },
  {
   "cell_type": "code",
   "execution_count": null,
   "metadata": {
    "colab": {
     "base_uri": "https://localhost:8080/"
    },
    "id": "VD2jKi1tFMjS",
    "outputId": "08b42fff-f804-4565-aa32-feabe63341a9"
   },
   "outputs": [
    {
     "name": "stdout",
     "output_type": "stream",
     "text": [
      "Best parameter provided by GridSearchCV is: {'alpha': 0.0004, 'l1_ratio': 0.7999999999999999, 'random_state': 1}\n"
     ]
    }
   ],
   "source": [
    "EN = ElasticNet()\n",
    "ElasticNet_parameters = {'alpha': np.arange(0.0001, 0.0006, 0.0001), 'l1_ratio': np.arange(0.5, 1, 0.1), 'random_state': [1, 2, 3]} \n",
    "grid_ElasticNet = GridSearchCV(estimator=EN, param_grid=ElasticNet_parameters, cv=5)\n",
    "grid_ElasticNet.fit(X_train, y_train) \n",
    "print(\"Best parameter provided by GridSearchCV is:\", grid_ElasticNet.best_params_)"
   ]
  },
  {
   "cell_type": "markdown",
   "metadata": {
    "id": "kMzFdOLaUmYZ"
   },
   "source": [
    "### 5.2.3 Kernel Ridge \n"
   ]
  },
  {
   "cell_type": "code",
   "execution_count": null,
   "metadata": {
    "colab": {
     "base_uri": "https://localhost:8080/"
    },
    "id": "jRW7F5EMF0Ti",
    "outputId": "9a6e6a1e-afde-427e-bbb2-3b4f587094b4"
   },
   "outputs": [
    {
     "name": "stdout",
     "output_type": "stream",
     "text": [
      "Best parameter provided by GridSearchCV is: {'alpha': 0.1, 'coef0': 4.5, 'degree': 1, 'kernel': 'polynomial'}\n"
     ]
    }
   ],
   "source": [
    "KRR = KernelRidge()\n",
    "KRR_parameters = {'alpha': np.arange(0.1, 1, 0.1),'kernel': ['polynomial', 'rbf', 'linear'], 'degree': [1, 2], 'coef0':np.arange(1, 5, 0.5)}\n",
    "grid_KRR = GridSearchCV(estimator=KRR, param_grid=KRR_parameters, cv=5) \n",
    "grid_KRR.fit(X_train, y_train)\n",
    "print(\"Best parameter provided by GridSearchCV is:\", grid_KRR.best_params_)"
   ]
  },
  {
   "cell_type": "markdown",
   "metadata": {
    "id": "akJGClNYUp85"
   },
   "source": [
    "### 5.2.4 Decision Tree \n"
   ]
  },
  {
   "cell_type": "code",
   "execution_count": null,
   "metadata": {
    "colab": {
     "base_uri": "https://localhost:8080/"
    },
    "id": "yRHq4JSjF6Ts",
    "outputId": "6849c25b-b68e-4f9e-ec71-4fb55d714247"
   },
   "outputs": [
    {
     "name": "stdout",
     "output_type": "stream",
     "text": [
      "Best parameter provided by GridSearchCV is: {'criterion': 'friedman_mse', 'max_features': 200, 'min_samples_leaf': 7, 'min_samples_split': 18}\n"
     ]
    }
   ],
   "source": [
    "DT = DecisionTreeRegressor(random_state=3)\n",
    "DT_parameters = {\"criterion\": [\"mse\", \"friedman_mse\", \"mae\"], \"min_samples_split\": [5, 18, 29, 50], \"min_samples_leaf\": [3, 7, 15, 25],\n",
    "                 \"max_features\": [20, 50, 150, 200, X_train.shape[1]]}\n",
    "grid_DT = GridSearchCV(DT, DT_parameters, cv=5, scoring=\"neg_mean_absolute_error\", n_jobs=4)\n",
    "grid_DT.fit(X_train, y_train) \n",
    "print(\"Best parameter provided by GridSearchCV is:\", grid_DT.best_params_)"
   ]
  },
  {
   "cell_type": "markdown",
   "metadata": {
    "id": "D_j5SBJMUtzb"
   },
   "source": [
    "### 5.2.5 XGBoost Regression\n"
   ]
  },
  {
   "cell_type": "code",
   "execution_count": null,
   "metadata": {
    "colab": {
     "base_uri": "https://localhost:8080/"
    },
    "id": "TdPZaYKKGn7_",
    "outputId": "6e1976f6-20c5-41c6-d451-c734024aa04f"
   },
   "outputs": [
    {
     "name": "stdout",
     "output_type": "stream",
     "text": [
      "[11:47:02] WARNING: /workspace/src/objective/regression_obj.cu:152: reg:linear is now deprecated in favor of reg:squarederror.\n",
      "Best parameter provided by GridSearchCV is: {'subsample': 0.6, 'reg_lambda': 3, 'reg_alpha': 10, 'n_estimators': 2500, 'max_depth': 6, 'learning_rate': 0.005, 'gamma': 7, 'colsample_bytree': 0.5, 'colsample_bylevel': 0.7, 'booster': 'gbtree'}\n"
     ]
    }
   ],
   "source": [
    "XGB = XGBRegressor(random_state=3)\n",
    "XGB_parameters = {\"max_depth\": [4, 5, 6], \"learning_rate\": [0.005, 0.009, 0.01], \"n_estimators\": [700, 1000, 2500], \"booster\": [\"gbtree\",], \n",
    "                  \"gamma\":[7, 25, 100], \"subsample\": [0.3, 0.6], \"colsample_bytree\": [0.5, 0.7], \"colsample_bylevel\": [0.5, 0.7,], \n",
    "                  \"reg_alpha\": [1, 10, 33], \"reg_lambda\": [1, 3, 10]}\n",
    "grid_XGB = RandomizedSearchCV(XGB, XGB_parameters, cv=3, n_jobs=4, scoring=\"neg_mean_absolute_error\", random_state=3, n_iter=10)\n",
    "grid_XGB.fit(X_train, y_train) \n",
    "print(\"Best parameter provided by GridSearchCV is:\", grid_XGB.best_params_)"
   ]
  },
  {
   "cell_type": "markdown",
   "metadata": {
    "id": "5YVlJRxmUxdT"
   },
   "source": [
    "### 5.2.6 Random Forest"
   ]
  },
  {
   "cell_type": "code",
   "execution_count": null,
   "metadata": {
    "colab": {
     "base_uri": "https://localhost:8080/"
    },
    "id": "e_wMNOZnH2sY",
    "outputId": "fb61e60c-9255-4bdf-e877-6797c6601ae7"
   },
   "outputs": [
    {
     "name": "stdout",
     "output_type": "stream",
     "text": [
      "Best parameter provided by GridSearchCV is: {'n_estimators': 600, 'min_samples_split': 2, 'min_samples_leaf': 1, 'max_features': 19, 'max_depth': 254, 'criterion': 'mse', 'bootstrap': False}\n"
     ]
    }
   ],
   "source": [
    "RF = RandomForestRegressor(random_state=3)\n",
    "RF_parameters = {\"n_estimators\": [10, 100, 300, 600], \"criterion\": [\"mse\", \"mae\"], \"max_depth\": [7, 50, 254], \"min_samples_split\": [2, 5], \n",
    "                 \"min_samples_leaf\": [1, 5], \"max_features\": [19, 100, X_train.shape[1]], \"bootstrap\": [True, False]}\n",
    "grid_RF = RandomizedSearchCV(RF, RF_parameters, cv=3, n_jobs=4, scoring=\"neg_mean_absolute_error\", n_iter=10, random_state=3) \n",
    "grid_RF.fit(X_train, y_train)\n",
    "print(\"Best parameter provided by GridSearchCV is:\", grid_RF.best_params_)"
   ]
  },
  {
   "cell_type": "markdown",
   "metadata": {
    "id": "25CQrRAUUSDi"
   },
   "source": [
    "### 5.2.7 Running Models"
   ]
  },
  {
   "cell_type": "markdown",
   "metadata": {
    "id": "r-txE9UnQGnP"
   },
   "source": [
    "\n",
    "Then we need to fit our models using these parameters that GridSearchCV gave us.\n",
    "In order to do so first we define some empty arrays so later we can fill them with\n",
    "mean and standard deviation of scores from Performance metric that we chose. \n",
    "\n",
    "We write a loop, at first we split the train and test data, then we need to scale our\n",
    "X_train and X_test, we use RobustScaler in Preprocessing folder in Sklearn package.\n",
    "Then we use the function we wrote in Performance Metric to calculate rmsle scores,\n",
    "later in each model we append mean and standard deviation of these scores to\n",
    "assigned arrays.\n",
    "\n",
    "After the loop finishes, we print out score’s mean and score’s sd. "
   ]
  },
  {
   "cell_type": "code",
   "execution_count": null,
   "metadata": {
    "colab": {
     "base_uri": "https://localhost:8080/"
    },
    "id": "6dyRujnYIMBk",
    "outputId": "9a8061f8-59fb-4078-cdf9-80943f49a7bc"
   },
   "outputs": [
    {
     "name": "stdout",
     "output_type": "stream",
     "text": [
      "0\n",
      "[11:57:23] WARNING: /workspace/src/objective/regression_obj.cu:152: reg:linear is now deprecated in favor of reg:squarederror.\n",
      "1\n",
      "[11:57:43] WARNING: /workspace/src/objective/regression_obj.cu:152: reg:linear is now deprecated in favor of reg:squarederror.\n",
      "2\n",
      "[11:58:02] WARNING: /workspace/src/objective/regression_obj.cu:152: reg:linear is now deprecated in favor of reg:squarederror.\n",
      "3\n",
      "[11:58:22] WARNING: /workspace/src/objective/regression_obj.cu:152: reg:linear is now deprecated in favor of reg:squarederror.\n",
      "4\n",
      "[11:58:41] WARNING: /workspace/src/objective/regression_obj.cu:152: reg:linear is now deprecated in favor of reg:squarederror.\n",
      "5\n",
      "[11:59:00] WARNING: /workspace/src/objective/regression_obj.cu:152: reg:linear is now deprecated in favor of reg:squarederror.\n",
      "6\n",
      "[11:59:19] WARNING: /workspace/src/objective/regression_obj.cu:152: reg:linear is now deprecated in favor of reg:squarederror.\n",
      "7\n",
      "[11:59:39] WARNING: /workspace/src/objective/regression_obj.cu:152: reg:linear is now deprecated in favor of reg:squarederror.\n",
      "8\n",
      "[11:59:58] WARNING: /workspace/src/objective/regression_obj.cu:152: reg:linear is now deprecated in favor of reg:squarederror.\n",
      "9\n",
      "[12:00:18] WARNING: /workspace/src/objective/regression_obj.cu:152: reg:linear is now deprecated in favor of reg:squarederror.\n",
      "10\n",
      "[12:00:37] WARNING: /workspace/src/objective/regression_obj.cu:152: reg:linear is now deprecated in favor of reg:squarederror.\n",
      "11\n",
      "[12:00:57] WARNING: /workspace/src/objective/regression_obj.cu:152: reg:linear is now deprecated in favor of reg:squarederror.\n",
      "12\n",
      "[12:01:16] WARNING: /workspace/src/objective/regression_obj.cu:152: reg:linear is now deprecated in favor of reg:squarederror.\n",
      "13\n",
      "[12:01:36] WARNING: /workspace/src/objective/regression_obj.cu:152: reg:linear is now deprecated in favor of reg:squarederror.\n",
      "14\n",
      "[12:01:55] WARNING: /workspace/src/objective/regression_obj.cu:152: reg:linear is now deprecated in favor of reg:squarederror.\n",
      "15\n",
      "[12:02:14] WARNING: /workspace/src/objective/regression_obj.cu:152: reg:linear is now deprecated in favor of reg:squarederror.\n",
      "16\n",
      "[12:02:34] WARNING: /workspace/src/objective/regression_obj.cu:152: reg:linear is now deprecated in favor of reg:squarederror.\n",
      "17\n",
      "[12:02:53] WARNING: /workspace/src/objective/regression_obj.cu:152: reg:linear is now deprecated in favor of reg:squarederror.\n",
      "18\n",
      "[12:03:13] WARNING: /workspace/src/objective/regression_obj.cu:152: reg:linear is now deprecated in favor of reg:squarederror.\n",
      "19\n",
      "[12:03:32] WARNING: /workspace/src/objective/regression_obj.cu:152: reg:linear is now deprecated in favor of reg:squarederror.\n",
      "20\n",
      "[12:03:51] WARNING: /workspace/src/objective/regression_obj.cu:152: reg:linear is now deprecated in favor of reg:squarederror.\n",
      "21\n",
      "[12:04:10] WARNING: /workspace/src/objective/regression_obj.cu:152: reg:linear is now deprecated in favor of reg:squarederror.\n",
      "22\n",
      "[12:04:30] WARNING: /workspace/src/objective/regression_obj.cu:152: reg:linear is now deprecated in favor of reg:squarederror.\n",
      "23\n",
      "[12:04:49] WARNING: /workspace/src/objective/regression_obj.cu:152: reg:linear is now deprecated in favor of reg:squarederror.\n",
      "24\n",
      "[12:05:08] WARNING: /workspace/src/objective/regression_obj.cu:152: reg:linear is now deprecated in favor of reg:squarederror.\n",
      "25\n",
      "[12:05:28] WARNING: /workspace/src/objective/regression_obj.cu:152: reg:linear is now deprecated in favor of reg:squarederror.\n",
      "26\n",
      "[12:05:47] WARNING: /workspace/src/objective/regression_obj.cu:152: reg:linear is now deprecated in favor of reg:squarederror.\n",
      "27\n",
      "[12:06:06] WARNING: /workspace/src/objective/regression_obj.cu:152: reg:linear is now deprecated in favor of reg:squarederror.\n",
      "28\n",
      "[12:06:26] WARNING: /workspace/src/objective/regression_obj.cu:152: reg:linear is now deprecated in favor of reg:squarederror.\n",
      "29\n",
      "[12:06:45] WARNING: /workspace/src/objective/regression_obj.cu:152: reg:linear is now deprecated in favor of reg:squarederror.\n",
      "30\n",
      "[12:07:04] WARNING: /workspace/src/objective/regression_obj.cu:152: reg:linear is now deprecated in favor of reg:squarederror.\n",
      "31\n",
      "[12:07:24] WARNING: /workspace/src/objective/regression_obj.cu:152: reg:linear is now deprecated in favor of reg:squarederror.\n",
      "32\n",
      "[12:07:43] WARNING: /workspace/src/objective/regression_obj.cu:152: reg:linear is now deprecated in favor of reg:squarederror.\n",
      "33\n",
      "[12:08:03] WARNING: /workspace/src/objective/regression_obj.cu:152: reg:linear is now deprecated in favor of reg:squarederror.\n",
      "34\n",
      "[12:08:22] WARNING: /workspace/src/objective/regression_obj.cu:152: reg:linear is now deprecated in favor of reg:squarederror.\n",
      "35\n",
      "[12:08:41] WARNING: /workspace/src/objective/regression_obj.cu:152: reg:linear is now deprecated in favor of reg:squarederror.\n",
      "36\n",
      "[12:09:00] WARNING: /workspace/src/objective/regression_obj.cu:152: reg:linear is now deprecated in favor of reg:squarederror.\n",
      "37\n",
      "[12:09:20] WARNING: /workspace/src/objective/regression_obj.cu:152: reg:linear is now deprecated in favor of reg:squarederror.\n",
      "38\n",
      "[12:09:39] WARNING: /workspace/src/objective/regression_obj.cu:152: reg:linear is now deprecated in favor of reg:squarederror.\n",
      "39\n",
      "[12:09:58] WARNING: /workspace/src/objective/regression_obj.cu:152: reg:linear is now deprecated in favor of reg:squarederror.\n",
      "40\n",
      "[12:10:17] WARNING: /workspace/src/objective/regression_obj.cu:152: reg:linear is now deprecated in favor of reg:squarederror.\n",
      "41\n",
      "[12:10:37] WARNING: /workspace/src/objective/regression_obj.cu:152: reg:linear is now deprecated in favor of reg:squarederror.\n",
      "42\n",
      "[12:10:56] WARNING: /workspace/src/objective/regression_obj.cu:152: reg:linear is now deprecated in favor of reg:squarederror.\n",
      "43\n",
      "[12:11:15] WARNING: /workspace/src/objective/regression_obj.cu:152: reg:linear is now deprecated in favor of reg:squarederror.\n",
      "44\n",
      "[12:11:35] WARNING: /workspace/src/objective/regression_obj.cu:152: reg:linear is now deprecated in favor of reg:squarederror.\n",
      "45\n",
      "[12:11:54] WARNING: /workspace/src/objective/regression_obj.cu:152: reg:linear is now deprecated in favor of reg:squarederror.\n",
      "46\n",
      "[12:12:14] WARNING: /workspace/src/objective/regression_obj.cu:152: reg:linear is now deprecated in favor of reg:squarederror.\n",
      "47\n",
      "[12:12:33] WARNING: /workspace/src/objective/regression_obj.cu:152: reg:linear is now deprecated in favor of reg:squarederror.\n",
      "48\n",
      "[12:12:52] WARNING: /workspace/src/objective/regression_obj.cu:152: reg:linear is now deprecated in favor of reg:squarederror.\n",
      "49\n",
      "[12:13:12] WARNING: /workspace/src/objective/regression_obj.cu:152: reg:linear is now deprecated in favor of reg:squarederror.\n",
      "50\n",
      "[12:13:31] WARNING: /workspace/src/objective/regression_obj.cu:152: reg:linear is now deprecated in favor of reg:squarederror.\n",
      "51\n",
      "[12:13:50] WARNING: /workspace/src/objective/regression_obj.cu:152: reg:linear is now deprecated in favor of reg:squarederror.\n",
      "52\n",
      "[12:14:10] WARNING: /workspace/src/objective/regression_obj.cu:152: reg:linear is now deprecated in favor of reg:squarederror.\n",
      "53\n",
      "[12:14:29] WARNING: /workspace/src/objective/regression_obj.cu:152: reg:linear is now deprecated in favor of reg:squarederror.\n",
      "54\n",
      "[12:14:48] WARNING: /workspace/src/objective/regression_obj.cu:152: reg:linear is now deprecated in favor of reg:squarederror.\n",
      "55\n",
      "[12:15:08] WARNING: /workspace/src/objective/regression_obj.cu:152: reg:linear is now deprecated in favor of reg:squarederror.\n",
      "56\n",
      "[12:15:27] WARNING: /workspace/src/objective/regression_obj.cu:152: reg:linear is now deprecated in favor of reg:squarederror.\n",
      "57\n",
      "[12:15:46] WARNING: /workspace/src/objective/regression_obj.cu:152: reg:linear is now deprecated in favor of reg:squarederror.\n",
      "58\n",
      "[12:16:06] WARNING: /workspace/src/objective/regression_obj.cu:152: reg:linear is now deprecated in favor of reg:squarederror.\n",
      "59\n",
      "[12:16:25] WARNING: /workspace/src/objective/regression_obj.cu:152: reg:linear is now deprecated in favor of reg:squarederror.\n",
      "60\n",
      "[12:16:44] WARNING: /workspace/src/objective/regression_obj.cu:152: reg:linear is now deprecated in favor of reg:squarederror.\n",
      "61\n",
      "[12:17:03] WARNING: /workspace/src/objective/regression_obj.cu:152: reg:linear is now deprecated in favor of reg:squarederror.\n",
      "62\n",
      "[12:17:23] WARNING: /workspace/src/objective/regression_obj.cu:152: reg:linear is now deprecated in favor of reg:squarederror.\n",
      "63\n",
      "[12:17:42] WARNING: /workspace/src/objective/regression_obj.cu:152: reg:linear is now deprecated in favor of reg:squarederror.\n",
      "64\n",
      "[12:18:01] WARNING: /workspace/src/objective/regression_obj.cu:152: reg:linear is now deprecated in favor of reg:squarederror.\n",
      "65\n",
      "[12:18:20] WARNING: /workspace/src/objective/regression_obj.cu:152: reg:linear is now deprecated in favor of reg:squarederror.\n",
      "66\n",
      "[12:18:39] WARNING: /workspace/src/objective/regression_obj.cu:152: reg:linear is now deprecated in favor of reg:squarederror.\n",
      "67\n",
      "[12:18:59] WARNING: /workspace/src/objective/regression_obj.cu:152: reg:linear is now deprecated in favor of reg:squarederror.\n",
      "68\n",
      "[12:19:18] WARNING: /workspace/src/objective/regression_obj.cu:152: reg:linear is now deprecated in favor of reg:squarederror.\n",
      "69\n",
      "[12:19:37] WARNING: /workspace/src/objective/regression_obj.cu:152: reg:linear is now deprecated in favor of reg:squarederror.\n",
      "70\n",
      "[12:19:57] WARNING: /workspace/src/objective/regression_obj.cu:152: reg:linear is now deprecated in favor of reg:squarederror.\n",
      "71\n",
      "[12:20:16] WARNING: /workspace/src/objective/regression_obj.cu:152: reg:linear is now deprecated in favor of reg:squarederror.\n",
      "72\n",
      "[12:20:35] WARNING: /workspace/src/objective/regression_obj.cu:152: reg:linear is now deprecated in favor of reg:squarederror.\n",
      "73\n",
      "[12:20:55] WARNING: /workspace/src/objective/regression_obj.cu:152: reg:linear is now deprecated in favor of reg:squarederror.\n",
      "74\n",
      "[12:21:14] WARNING: /workspace/src/objective/regression_obj.cu:152: reg:linear is now deprecated in favor of reg:squarederror.\n",
      "75\n",
      "[12:21:33] WARNING: /workspace/src/objective/regression_obj.cu:152: reg:linear is now deprecated in favor of reg:squarederror.\n",
      "76\n",
      "[12:21:52] WARNING: /workspace/src/objective/regression_obj.cu:152: reg:linear is now deprecated in favor of reg:squarederror.\n",
      "77\n",
      "[12:22:12] WARNING: /workspace/src/objective/regression_obj.cu:152: reg:linear is now deprecated in favor of reg:squarederror.\n",
      "78\n",
      "[12:22:31] WARNING: /workspace/src/objective/regression_obj.cu:152: reg:linear is now deprecated in favor of reg:squarederror.\n",
      "79\n",
      "[12:22:51] WARNING: /workspace/src/objective/regression_obj.cu:152: reg:linear is now deprecated in favor of reg:squarederror.\n",
      "80\n",
      "[12:23:10] WARNING: /workspace/src/objective/regression_obj.cu:152: reg:linear is now deprecated in favor of reg:squarederror.\n",
      "81\n",
      "[12:23:29] WARNING: /workspace/src/objective/regression_obj.cu:152: reg:linear is now deprecated in favor of reg:squarederror.\n",
      "82\n",
      "[12:23:49] WARNING: /workspace/src/objective/regression_obj.cu:152: reg:linear is now deprecated in favor of reg:squarederror.\n",
      "83\n",
      "[12:24:08] WARNING: /workspace/src/objective/regression_obj.cu:152: reg:linear is now deprecated in favor of reg:squarederror.\n",
      "84\n",
      "[12:24:27] WARNING: /workspace/src/objective/regression_obj.cu:152: reg:linear is now deprecated in favor of reg:squarederror.\n",
      "85\n",
      "[12:24:47] WARNING: /workspace/src/objective/regression_obj.cu:152: reg:linear is now deprecated in favor of reg:squarederror.\n",
      "86\n",
      "[12:25:06] WARNING: /workspace/src/objective/regression_obj.cu:152: reg:linear is now deprecated in favor of reg:squarederror.\n",
      "87\n",
      "[12:25:25] WARNING: /workspace/src/objective/regression_obj.cu:152: reg:linear is now deprecated in favor of reg:squarederror.\n",
      "88\n",
      "[12:25:44] WARNING: /workspace/src/objective/regression_obj.cu:152: reg:linear is now deprecated in favor of reg:squarederror.\n",
      "89\n",
      "[12:26:03] WARNING: /workspace/src/objective/regression_obj.cu:152: reg:linear is now deprecated in favor of reg:squarederror.\n",
      "90\n",
      "[12:26:23] WARNING: /workspace/src/objective/regression_obj.cu:152: reg:linear is now deprecated in favor of reg:squarederror.\n",
      "91\n",
      "[12:26:42] WARNING: /workspace/src/objective/regression_obj.cu:152: reg:linear is now deprecated in favor of reg:squarederror.\n",
      "92\n",
      "[12:27:01] WARNING: /workspace/src/objective/regression_obj.cu:152: reg:linear is now deprecated in favor of reg:squarederror.\n",
      "93\n",
      "[12:27:20] WARNING: /workspace/src/objective/regression_obj.cu:152: reg:linear is now deprecated in favor of reg:squarederror.\n",
      "94\n",
      "[12:27:39] WARNING: /workspace/src/objective/regression_obj.cu:152: reg:linear is now deprecated in favor of reg:squarederror.\n",
      "95\n",
      "[12:27:59] WARNING: /workspace/src/objective/regression_obj.cu:152: reg:linear is now deprecated in favor of reg:squarederror.\n",
      "96\n",
      "[12:28:18] WARNING: /workspace/src/objective/regression_obj.cu:152: reg:linear is now deprecated in favor of reg:squarederror.\n",
      "97\n",
      "[12:28:37] WARNING: /workspace/src/objective/regression_obj.cu:152: reg:linear is now deprecated in favor of reg:squarederror.\n",
      "98\n",
      "[12:28:56] WARNING: /workspace/src/objective/regression_obj.cu:152: reg:linear is now deprecated in favor of reg:squarederror.\n",
      "99\n",
      "[12:29:16] WARNING: /workspace/src/objective/regression_obj.cu:152: reg:linear is now deprecated in favor of reg:squarederror.\n",
      "100\n",
      "[12:29:35] WARNING: /workspace/src/objective/regression_obj.cu:152: reg:linear is now deprecated in favor of reg:squarederror.\n",
      "101\n",
      "[12:29:54] WARNING: /workspace/src/objective/regression_obj.cu:152: reg:linear is now deprecated in favor of reg:squarederror.\n",
      "102\n",
      "[12:30:13] WARNING: /workspace/src/objective/regression_obj.cu:152: reg:linear is now deprecated in favor of reg:squarederror.\n",
      "103\n",
      "[12:30:33] WARNING: /workspace/src/objective/regression_obj.cu:152: reg:linear is now deprecated in favor of reg:squarederror.\n",
      "104\n",
      "[12:30:52] WARNING: /workspace/src/objective/regression_obj.cu:152: reg:linear is now deprecated in favor of reg:squarederror.\n",
      "105\n",
      "[12:31:11] WARNING: /workspace/src/objective/regression_obj.cu:152: reg:linear is now deprecated in favor of reg:squarederror.\n",
      "106\n",
      "[12:31:31] WARNING: /workspace/src/objective/regression_obj.cu:152: reg:linear is now deprecated in favor of reg:squarederror.\n",
      "107\n",
      "[12:31:50] WARNING: /workspace/src/objective/regression_obj.cu:152: reg:linear is now deprecated in favor of reg:squarederror.\n",
      "108\n",
      "[12:32:09] WARNING: /workspace/src/objective/regression_obj.cu:152: reg:linear is now deprecated in favor of reg:squarederror.\n",
      "109\n",
      "[12:32:28] WARNING: /workspace/src/objective/regression_obj.cu:152: reg:linear is now deprecated in favor of reg:squarederror.\n",
      "110\n",
      "[12:32:48] WARNING: /workspace/src/objective/regression_obj.cu:152: reg:linear is now deprecated in favor of reg:squarederror.\n",
      "111\n",
      "[12:33:07] WARNING: /workspace/src/objective/regression_obj.cu:152: reg:linear is now deprecated in favor of reg:squarederror.\n",
      "112\n",
      "[12:33:26] WARNING: /workspace/src/objective/regression_obj.cu:152: reg:linear is now deprecated in favor of reg:squarederror.\n",
      "113\n",
      "[12:33:45] WARNING: /workspace/src/objective/regression_obj.cu:152: reg:linear is now deprecated in favor of reg:squarederror.\n",
      "114\n",
      "[12:34:05] WARNING: /workspace/src/objective/regression_obj.cu:152: reg:linear is now deprecated in favor of reg:squarederror.\n",
      "115\n",
      "[12:34:24] WARNING: /workspace/src/objective/regression_obj.cu:152: reg:linear is now deprecated in favor of reg:squarederror.\n",
      "116\n",
      "[12:34:43] WARNING: /workspace/src/objective/regression_obj.cu:152: reg:linear is now deprecated in favor of reg:squarederror.\n",
      "117\n",
      "[12:35:02] WARNING: /workspace/src/objective/regression_obj.cu:152: reg:linear is now deprecated in favor of reg:squarederror.\n",
      "118\n",
      "[12:35:22] WARNING: /workspace/src/objective/regression_obj.cu:152: reg:linear is now deprecated in favor of reg:squarederror.\n",
      "119\n",
      "[12:35:41] WARNING: /workspace/src/objective/regression_obj.cu:152: reg:linear is now deprecated in favor of reg:squarederror.\n",
      "120\n",
      "[12:36:00] WARNING: /workspace/src/objective/regression_obj.cu:152: reg:linear is now deprecated in favor of reg:squarederror.\n",
      "121\n",
      "[12:36:19] WARNING: /workspace/src/objective/regression_obj.cu:152: reg:linear is now deprecated in favor of reg:squarederror.\n",
      "122\n",
      "[12:36:39] WARNING: /workspace/src/objective/regression_obj.cu:152: reg:linear is now deprecated in favor of reg:squarederror.\n",
      "123\n",
      "[12:36:58] WARNING: /workspace/src/objective/regression_obj.cu:152: reg:linear is now deprecated in favor of reg:squarederror.\n",
      "124\n",
      "[12:37:17] WARNING: /workspace/src/objective/regression_obj.cu:152: reg:linear is now deprecated in favor of reg:squarederror.\n",
      "125\n",
      "[12:37:36] WARNING: /workspace/src/objective/regression_obj.cu:152: reg:linear is now deprecated in favor of reg:squarederror.\n",
      "126\n",
      "[12:37:56] WARNING: /workspace/src/objective/regression_obj.cu:152: reg:linear is now deprecated in favor of reg:squarederror.\n",
      "127\n",
      "[12:38:15] WARNING: /workspace/src/objective/regression_obj.cu:152: reg:linear is now deprecated in favor of reg:squarederror.\n",
      "128\n",
      "[12:38:35] WARNING: /workspace/src/objective/regression_obj.cu:152: reg:linear is now deprecated in favor of reg:squarederror.\n",
      "129\n",
      "[12:38:54] WARNING: /workspace/src/objective/regression_obj.cu:152: reg:linear is now deprecated in favor of reg:squarederror.\n",
      "130\n",
      "[12:39:13] WARNING: /workspace/src/objective/regression_obj.cu:152: reg:linear is now deprecated in favor of reg:squarederror.\n",
      "131\n",
      "[12:39:32] WARNING: /workspace/src/objective/regression_obj.cu:152: reg:linear is now deprecated in favor of reg:squarederror.\n",
      "132\n",
      "[12:39:52] WARNING: /workspace/src/objective/regression_obj.cu:152: reg:linear is now deprecated in favor of reg:squarederror.\n",
      "133\n",
      "[12:40:11] WARNING: /workspace/src/objective/regression_obj.cu:152: reg:linear is now deprecated in favor of reg:squarederror.\n",
      "134\n",
      "[12:40:31] WARNING: /workspace/src/objective/regression_obj.cu:152: reg:linear is now deprecated in favor of reg:squarederror.\n",
      "135\n",
      "[12:40:50] WARNING: /workspace/src/objective/regression_obj.cu:152: reg:linear is now deprecated in favor of reg:squarederror.\n",
      "136\n",
      "[12:41:10] WARNING: /workspace/src/objective/regression_obj.cu:152: reg:linear is now deprecated in favor of reg:squarederror.\n",
      "137\n",
      "[12:41:29] WARNING: /workspace/src/objective/regression_obj.cu:152: reg:linear is now deprecated in favor of reg:squarederror.\n",
      "138\n",
      "[12:41:49] WARNING: /workspace/src/objective/regression_obj.cu:152: reg:linear is now deprecated in favor of reg:squarederror.\n",
      "139\n",
      "[12:42:08] WARNING: /workspace/src/objective/regression_obj.cu:152: reg:linear is now deprecated in favor of reg:squarederror.\n",
      "140\n",
      "[12:42:27] WARNING: /workspace/src/objective/regression_obj.cu:152: reg:linear is now deprecated in favor of reg:squarederror.\n",
      "141\n",
      "[12:42:47] WARNING: /workspace/src/objective/regression_obj.cu:152: reg:linear is now deprecated in favor of reg:squarederror.\n",
      "142\n",
      "[12:43:06] WARNING: /workspace/src/objective/regression_obj.cu:152: reg:linear is now deprecated in favor of reg:squarederror.\n",
      "143\n",
      "[12:43:26] WARNING: /workspace/src/objective/regression_obj.cu:152: reg:linear is now deprecated in favor of reg:squarederror.\n",
      "144\n",
      "[12:43:45] WARNING: /workspace/src/objective/regression_obj.cu:152: reg:linear is now deprecated in favor of reg:squarederror.\n",
      "145\n",
      "[12:44:04] WARNING: /workspace/src/objective/regression_obj.cu:152: reg:linear is now deprecated in favor of reg:squarederror.\n",
      "146\n",
      "[12:44:24] WARNING: /workspace/src/objective/regression_obj.cu:152: reg:linear is now deprecated in favor of reg:squarederror.\n",
      "147\n",
      "[12:44:43] WARNING: /workspace/src/objective/regression_obj.cu:152: reg:linear is now deprecated in favor of reg:squarederror.\n",
      "148\n",
      "[12:45:03] WARNING: /workspace/src/objective/regression_obj.cu:152: reg:linear is now deprecated in favor of reg:squarederror.\n",
      "149\n",
      "[12:45:22] WARNING: /workspace/src/objective/regression_obj.cu:152: reg:linear is now deprecated in favor of reg:squarederror.\n",
      "150\n",
      "[12:45:41] WARNING: /workspace/src/objective/regression_obj.cu:152: reg:linear is now deprecated in favor of reg:squarederror.\n",
      "151\n",
      "[12:46:00] WARNING: /workspace/src/objective/regression_obj.cu:152: reg:linear is now deprecated in favor of reg:squarederror.\n",
      "152\n",
      "[12:46:19] WARNING: /workspace/src/objective/regression_obj.cu:152: reg:linear is now deprecated in favor of reg:squarederror.\n",
      "153\n",
      "[12:46:39] WARNING: /workspace/src/objective/regression_obj.cu:152: reg:linear is now deprecated in favor of reg:squarederror.\n",
      "154\n",
      "[12:46:58] WARNING: /workspace/src/objective/regression_obj.cu:152: reg:linear is now deprecated in favor of reg:squarederror.\n",
      "155\n",
      "[12:47:17] WARNING: /workspace/src/objective/regression_obj.cu:152: reg:linear is now deprecated in favor of reg:squarederror.\n",
      "156\n",
      "[12:47:37] WARNING: /workspace/src/objective/regression_obj.cu:152: reg:linear is now deprecated in favor of reg:squarederror.\n",
      "157\n",
      "[12:47:56] WARNING: /workspace/src/objective/regression_obj.cu:152: reg:linear is now deprecated in favor of reg:squarederror.\n",
      "158\n",
      "[12:48:16] WARNING: /workspace/src/objective/regression_obj.cu:152: reg:linear is now deprecated in favor of reg:squarederror.\n",
      "159\n",
      "[12:48:35] WARNING: /workspace/src/objective/regression_obj.cu:152: reg:linear is now deprecated in favor of reg:squarederror.\n",
      "160\n",
      "[12:48:54] WARNING: /workspace/src/objective/regression_obj.cu:152: reg:linear is now deprecated in favor of reg:squarederror.\n",
      "161\n",
      "[12:49:14] WARNING: /workspace/src/objective/regression_obj.cu:152: reg:linear is now deprecated in favor of reg:squarederror.\n",
      "162\n",
      "[12:49:33] WARNING: /workspace/src/objective/regression_obj.cu:152: reg:linear is now deprecated in favor of reg:squarederror.\n",
      "163\n",
      "[12:49:53] WARNING: /workspace/src/objective/regression_obj.cu:152: reg:linear is now deprecated in favor of reg:squarederror.\n",
      "164\n",
      "[12:50:12] WARNING: /workspace/src/objective/regression_obj.cu:152: reg:linear is now deprecated in favor of reg:squarederror.\n",
      "165\n",
      "[12:50:32] WARNING: /workspace/src/objective/regression_obj.cu:152: reg:linear is now deprecated in favor of reg:squarederror.\n",
      "166\n",
      "[12:50:51] WARNING: /workspace/src/objective/regression_obj.cu:152: reg:linear is now deprecated in favor of reg:squarederror.\n",
      "167\n",
      "[12:51:10] WARNING: /workspace/src/objective/regression_obj.cu:152: reg:linear is now deprecated in favor of reg:squarederror.\n",
      "168\n",
      "[12:51:30] WARNING: /workspace/src/objective/regression_obj.cu:152: reg:linear is now deprecated in favor of reg:squarederror.\n",
      "169\n",
      "[12:51:49] WARNING: /workspace/src/objective/regression_obj.cu:152: reg:linear is now deprecated in favor of reg:squarederror.\n",
      "170\n",
      "[12:52:08] WARNING: /workspace/src/objective/regression_obj.cu:152: reg:linear is now deprecated in favor of reg:squarederror.\n",
      "171\n",
      "[12:52:28] WARNING: /workspace/src/objective/regression_obj.cu:152: reg:linear is now deprecated in favor of reg:squarederror.\n",
      "172\n",
      "[12:52:47] WARNING: /workspace/src/objective/regression_obj.cu:152: reg:linear is now deprecated in favor of reg:squarederror.\n",
      "173\n",
      "[12:53:07] WARNING: /workspace/src/objective/regression_obj.cu:152: reg:linear is now deprecated in favor of reg:squarederror.\n",
      "174\n",
      "[12:53:26] WARNING: /workspace/src/objective/regression_obj.cu:152: reg:linear is now deprecated in favor of reg:squarederror.\n",
      "175\n",
      "[12:53:45] WARNING: /workspace/src/objective/regression_obj.cu:152: reg:linear is now deprecated in favor of reg:squarederror.\n",
      "176\n",
      "[12:54:05] WARNING: /workspace/src/objective/regression_obj.cu:152: reg:linear is now deprecated in favor of reg:squarederror.\n",
      "177\n",
      "[12:54:24] WARNING: /workspace/src/objective/regression_obj.cu:152: reg:linear is now deprecated in favor of reg:squarederror.\n",
      "178\n",
      "[12:54:43] WARNING: /workspace/src/objective/regression_obj.cu:152: reg:linear is now deprecated in favor of reg:squarederror.\n",
      "179\n",
      "[12:55:02] WARNING: /workspace/src/objective/regression_obj.cu:152: reg:linear is now deprecated in favor of reg:squarederror.\n",
      "180\n",
      "[12:55:22] WARNING: /workspace/src/objective/regression_obj.cu:152: reg:linear is now deprecated in favor of reg:squarederror.\n",
      "181\n",
      "[12:55:41] WARNING: /workspace/src/objective/regression_obj.cu:152: reg:linear is now deprecated in favor of reg:squarederror.\n",
      "182\n",
      "[12:56:00] WARNING: /workspace/src/objective/regression_obj.cu:152: reg:linear is now deprecated in favor of reg:squarederror.\n",
      "183\n",
      "[12:56:20] WARNING: /workspace/src/objective/regression_obj.cu:152: reg:linear is now deprecated in favor of reg:squarederror.\n",
      "184\n",
      "[12:56:39] WARNING: /workspace/src/objective/regression_obj.cu:152: reg:linear is now deprecated in favor of reg:squarederror.\n",
      "185\n",
      "[12:56:58] WARNING: /workspace/src/objective/regression_obj.cu:152: reg:linear is now deprecated in favor of reg:squarederror.\n",
      "186\n",
      "[12:57:18] WARNING: /workspace/src/objective/regression_obj.cu:152: reg:linear is now deprecated in favor of reg:squarederror.\n",
      "187\n",
      "[12:57:37] WARNING: /workspace/src/objective/regression_obj.cu:152: reg:linear is now deprecated in favor of reg:squarederror.\n",
      "188\n",
      "[12:57:56] WARNING: /workspace/src/objective/regression_obj.cu:152: reg:linear is now deprecated in favor of reg:squarederror.\n",
      "189\n",
      "[12:58:15] WARNING: /workspace/src/objective/regression_obj.cu:152: reg:linear is now deprecated in favor of reg:squarederror.\n",
      "190\n",
      "[12:58:34] WARNING: /workspace/src/objective/regression_obj.cu:152: reg:linear is now deprecated in favor of reg:squarederror.\n",
      "191\n",
      "[12:58:54] WARNING: /workspace/src/objective/regression_obj.cu:152: reg:linear is now deprecated in favor of reg:squarederror.\n",
      "192\n",
      "[12:59:13] WARNING: /workspace/src/objective/regression_obj.cu:152: reg:linear is now deprecated in favor of reg:squarederror.\n",
      "193\n",
      "[12:59:32] WARNING: /workspace/src/objective/regression_obj.cu:152: reg:linear is now deprecated in favor of reg:squarederror.\n",
      "194\n",
      "[12:59:52] WARNING: /workspace/src/objective/regression_obj.cu:152: reg:linear is now deprecated in favor of reg:squarederror.\n",
      "195\n",
      "[13:00:11] WARNING: /workspace/src/objective/regression_obj.cu:152: reg:linear is now deprecated in favor of reg:squarederror.\n",
      "196\n",
      "[13:00:31] WARNING: /workspace/src/objective/regression_obj.cu:152: reg:linear is now deprecated in favor of reg:squarederror.\n",
      "197\n",
      "[13:00:50] WARNING: /workspace/src/objective/regression_obj.cu:152: reg:linear is now deprecated in favor of reg:squarederror.\n",
      "198\n",
      "[13:01:10] WARNING: /workspace/src/objective/regression_obj.cu:152: reg:linear is now deprecated in favor of reg:squarederror.\n",
      "199\n",
      "[13:01:29] WARNING: /workspace/src/objective/regression_obj.cu:152: reg:linear is now deprecated in favor of reg:squarederror.\n",
      "200\n",
      "[13:01:49] WARNING: /workspace/src/objective/regression_obj.cu:152: reg:linear is now deprecated in favor of reg:squarederror.\n",
      "201\n",
      "[13:02:08] WARNING: /workspace/src/objective/regression_obj.cu:152: reg:linear is now deprecated in favor of reg:squarederror.\n",
      "202\n",
      "[13:02:28] WARNING: /workspace/src/objective/regression_obj.cu:152: reg:linear is now deprecated in favor of reg:squarederror.\n",
      "203\n",
      "[13:02:47] WARNING: /workspace/src/objective/regression_obj.cu:152: reg:linear is now deprecated in favor of reg:squarederror.\n",
      "204\n",
      "[13:03:07] WARNING: /workspace/src/objective/regression_obj.cu:152: reg:linear is now deprecated in favor of reg:squarederror.\n",
      "205\n",
      "[13:03:26] WARNING: /workspace/src/objective/regression_obj.cu:152: reg:linear is now deprecated in favor of reg:squarederror.\n",
      "206\n",
      "[13:03:45] WARNING: /workspace/src/objective/regression_obj.cu:152: reg:linear is now deprecated in favor of reg:squarederror.\n",
      "207\n",
      "[13:04:05] WARNING: /workspace/src/objective/regression_obj.cu:152: reg:linear is now deprecated in favor of reg:squarederror.\n",
      "208\n",
      "[13:04:24] WARNING: /workspace/src/objective/regression_obj.cu:152: reg:linear is now deprecated in favor of reg:squarederror.\n",
      "209\n",
      "[13:04:43] WARNING: /workspace/src/objective/regression_obj.cu:152: reg:linear is now deprecated in favor of reg:squarederror.\n",
      "210\n",
      "[13:05:03] WARNING: /workspace/src/objective/regression_obj.cu:152: reg:linear is now deprecated in favor of reg:squarederror.\n",
      "211\n",
      "[13:05:22] WARNING: /workspace/src/objective/regression_obj.cu:152: reg:linear is now deprecated in favor of reg:squarederror.\n",
      "212\n",
      "[13:05:41] WARNING: /workspace/src/objective/regression_obj.cu:152: reg:linear is now deprecated in favor of reg:squarederror.\n",
      "213\n",
      "[13:06:01] WARNING: /workspace/src/objective/regression_obj.cu:152: reg:linear is now deprecated in favor of reg:squarederror.\n",
      "214\n",
      "[13:06:20] WARNING: /workspace/src/objective/regression_obj.cu:152: reg:linear is now deprecated in favor of reg:squarederror.\n",
      "215\n",
      "[13:06:40] WARNING: /workspace/src/objective/regression_obj.cu:152: reg:linear is now deprecated in favor of reg:squarederror.\n",
      "216\n",
      "[13:06:59] WARNING: /workspace/src/objective/regression_obj.cu:152: reg:linear is now deprecated in favor of reg:squarederror.\n",
      "217\n",
      "[13:07:18] WARNING: /workspace/src/objective/regression_obj.cu:152: reg:linear is now deprecated in favor of reg:squarederror.\n",
      "218\n",
      "[13:07:38] WARNING: /workspace/src/objective/regression_obj.cu:152: reg:linear is now deprecated in favor of reg:squarederror.\n",
      "219\n",
      "[13:07:57] WARNING: /workspace/src/objective/regression_obj.cu:152: reg:linear is now deprecated in favor of reg:squarederror.\n",
      "220\n",
      "[13:08:17] WARNING: /workspace/src/objective/regression_obj.cu:152: reg:linear is now deprecated in favor of reg:squarederror.\n",
      "221\n",
      "[13:08:36] WARNING: /workspace/src/objective/regression_obj.cu:152: reg:linear is now deprecated in favor of reg:squarederror.\n",
      "222\n",
      "[13:08:55] WARNING: /workspace/src/objective/regression_obj.cu:152: reg:linear is now deprecated in favor of reg:squarederror.\n",
      "223\n",
      "[13:09:15] WARNING: /workspace/src/objective/regression_obj.cu:152: reg:linear is now deprecated in favor of reg:squarederror.\n",
      "224\n",
      "[13:09:34] WARNING: /workspace/src/objective/regression_obj.cu:152: reg:linear is now deprecated in favor of reg:squarederror.\n",
      "225\n",
      "[13:09:54] WARNING: /workspace/src/objective/regression_obj.cu:152: reg:linear is now deprecated in favor of reg:squarederror.\n",
      "226\n",
      "[13:10:14] WARNING: /workspace/src/objective/regression_obj.cu:152: reg:linear is now deprecated in favor of reg:squarederror.\n",
      "227\n",
      "[13:10:33] WARNING: /workspace/src/objective/regression_obj.cu:152: reg:linear is now deprecated in favor of reg:squarederror.\n",
      "228\n",
      "[13:10:53] WARNING: /workspace/src/objective/regression_obj.cu:152: reg:linear is now deprecated in favor of reg:squarederror.\n",
      "229\n",
      "[13:11:12] WARNING: /workspace/src/objective/regression_obj.cu:152: reg:linear is now deprecated in favor of reg:squarederror.\n",
      "230\n",
      "[13:11:31] WARNING: /workspace/src/objective/regression_obj.cu:152: reg:linear is now deprecated in favor of reg:squarederror.\n",
      "231\n",
      "[13:11:50] WARNING: /workspace/src/objective/regression_obj.cu:152: reg:linear is now deprecated in favor of reg:squarederror.\n",
      "232\n",
      "[13:12:10] WARNING: /workspace/src/objective/regression_obj.cu:152: reg:linear is now deprecated in favor of reg:squarederror.\n",
      "233\n",
      "[13:12:29] WARNING: /workspace/src/objective/regression_obj.cu:152: reg:linear is now deprecated in favor of reg:squarederror.\n",
      "234\n",
      "[13:12:48] WARNING: /workspace/src/objective/regression_obj.cu:152: reg:linear is now deprecated in favor of reg:squarederror.\n",
      "235\n",
      "[13:13:08] WARNING: /workspace/src/objective/regression_obj.cu:152: reg:linear is now deprecated in favor of reg:squarederror.\n",
      "236\n",
      "[13:13:27] WARNING: /workspace/src/objective/regression_obj.cu:152: reg:linear is now deprecated in favor of reg:squarederror.\n",
      "237\n",
      "[13:13:46] WARNING: /workspace/src/objective/regression_obj.cu:152: reg:linear is now deprecated in favor of reg:squarederror.\n",
      "238\n",
      "[13:14:05] WARNING: /workspace/src/objective/regression_obj.cu:152: reg:linear is now deprecated in favor of reg:squarederror.\n",
      "239\n",
      "[13:14:24] WARNING: /workspace/src/objective/regression_obj.cu:152: reg:linear is now deprecated in favor of reg:squarederror.\n",
      "240\n",
      "[13:14:43] WARNING: /workspace/src/objective/regression_obj.cu:152: reg:linear is now deprecated in favor of reg:squarederror.\n",
      "241\n",
      "[13:15:03] WARNING: /workspace/src/objective/regression_obj.cu:152: reg:linear is now deprecated in favor of reg:squarederror.\n",
      "242\n",
      "[13:15:22] WARNING: /workspace/src/objective/regression_obj.cu:152: reg:linear is now deprecated in favor of reg:squarederror.\n",
      "243\n",
      "[13:15:41] WARNING: /workspace/src/objective/regression_obj.cu:152: reg:linear is now deprecated in favor of reg:squarederror.\n",
      "244\n",
      "[13:16:00] WARNING: /workspace/src/objective/regression_obj.cu:152: reg:linear is now deprecated in favor of reg:squarederror.\n",
      "245\n",
      "[13:16:19] WARNING: /workspace/src/objective/regression_obj.cu:152: reg:linear is now deprecated in favor of reg:squarederror.\n",
      "246\n",
      "[13:16:38] WARNING: /workspace/src/objective/regression_obj.cu:152: reg:linear is now deprecated in favor of reg:squarederror.\n",
      "247\n",
      "[13:16:57] WARNING: /workspace/src/objective/regression_obj.cu:152: reg:linear is now deprecated in favor of reg:squarederror.\n",
      "248\n",
      "[13:17:16] WARNING: /workspace/src/objective/regression_obj.cu:152: reg:linear is now deprecated in favor of reg:squarederror.\n",
      "249\n",
      "[13:17:35] WARNING: /workspace/src/objective/regression_obj.cu:152: reg:linear is now deprecated in favor of reg:squarederror.\n",
      "250\n",
      "[13:17:55] WARNING: /workspace/src/objective/regression_obj.cu:152: reg:linear is now deprecated in favor of reg:squarederror.\n",
      "251\n",
      "[13:18:14] WARNING: /workspace/src/objective/regression_obj.cu:152: reg:linear is now deprecated in favor of reg:squarederror.\n",
      "252\n",
      "[13:18:34] WARNING: /workspace/src/objective/regression_obj.cu:152: reg:linear is now deprecated in favor of reg:squarederror.\n",
      "253\n",
      "[13:18:54] WARNING: /workspace/src/objective/regression_obj.cu:152: reg:linear is now deprecated in favor of reg:squarederror.\n",
      "254\n",
      "[13:19:13] WARNING: /workspace/src/objective/regression_obj.cu:152: reg:linear is now deprecated in favor of reg:squarederror.\n",
      "255\n",
      "[13:19:32] WARNING: /workspace/src/objective/regression_obj.cu:152: reg:linear is now deprecated in favor of reg:squarederror.\n",
      "256\n",
      "[13:19:52] WARNING: /workspace/src/objective/regression_obj.cu:152: reg:linear is now deprecated in favor of reg:squarederror.\n",
      "257\n",
      "[13:20:11] WARNING: /workspace/src/objective/regression_obj.cu:152: reg:linear is now deprecated in favor of reg:squarederror.\n",
      "258\n",
      "[13:20:30] WARNING: /workspace/src/objective/regression_obj.cu:152: reg:linear is now deprecated in favor of reg:squarederror.\n",
      "259\n",
      "[13:20:50] WARNING: /workspace/src/objective/regression_obj.cu:152: reg:linear is now deprecated in favor of reg:squarederror.\n",
      "260\n",
      "[13:21:09] WARNING: /workspace/src/objective/regression_obj.cu:152: reg:linear is now deprecated in favor of reg:squarederror.\n",
      "261\n",
      "[13:21:29] WARNING: /workspace/src/objective/regression_obj.cu:152: reg:linear is now deprecated in favor of reg:squarederror.\n",
      "262\n",
      "[13:21:48] WARNING: /workspace/src/objective/regression_obj.cu:152: reg:linear is now deprecated in favor of reg:squarederror.\n",
      "263\n",
      "[13:22:08] WARNING: /workspace/src/objective/regression_obj.cu:152: reg:linear is now deprecated in favor of reg:squarederror.\n",
      "264\n",
      "[13:22:27] WARNING: /workspace/src/objective/regression_obj.cu:152: reg:linear is now deprecated in favor of reg:squarederror.\n",
      "265\n",
      "[13:22:47] WARNING: /workspace/src/objective/regression_obj.cu:152: reg:linear is now deprecated in favor of reg:squarederror.\n",
      "266\n",
      "[13:23:06] WARNING: /workspace/src/objective/regression_obj.cu:152: reg:linear is now deprecated in favor of reg:squarederror.\n",
      "267\n",
      "[13:23:25] WARNING: /workspace/src/objective/regression_obj.cu:152: reg:linear is now deprecated in favor of reg:squarederror.\n",
      "268\n",
      "[13:23:44] WARNING: /workspace/src/objective/regression_obj.cu:152: reg:linear is now deprecated in favor of reg:squarederror.\n",
      "269\n",
      "[13:24:04] WARNING: /workspace/src/objective/regression_obj.cu:152: reg:linear is now deprecated in favor of reg:squarederror.\n",
      "270\n",
      "[13:24:23] WARNING: /workspace/src/objective/regression_obj.cu:152: reg:linear is now deprecated in favor of reg:squarederror.\n",
      "271\n",
      "[13:24:42] WARNING: /workspace/src/objective/regression_obj.cu:152: reg:linear is now deprecated in favor of reg:squarederror.\n",
      "272\n",
      "[13:25:01] WARNING: /workspace/src/objective/regression_obj.cu:152: reg:linear is now deprecated in favor of reg:squarederror.\n",
      "273\n",
      "[13:25:21] WARNING: /workspace/src/objective/regression_obj.cu:152: reg:linear is now deprecated in favor of reg:squarederror.\n",
      "274\n",
      "[13:25:40] WARNING: /workspace/src/objective/regression_obj.cu:152: reg:linear is now deprecated in favor of reg:squarederror.\n",
      "275\n",
      "[13:25:59] WARNING: /workspace/src/objective/regression_obj.cu:152: reg:linear is now deprecated in favor of reg:squarederror.\n",
      "276\n",
      "[13:26:19] WARNING: /workspace/src/objective/regression_obj.cu:152: reg:linear is now deprecated in favor of reg:squarederror.\n",
      "277\n",
      "[13:26:38] WARNING: /workspace/src/objective/regression_obj.cu:152: reg:linear is now deprecated in favor of reg:squarederror.\n",
      "278\n",
      "[13:26:57] WARNING: /workspace/src/objective/regression_obj.cu:152: reg:linear is now deprecated in favor of reg:squarederror.\n",
      "279\n",
      "[13:27:16] WARNING: /workspace/src/objective/regression_obj.cu:152: reg:linear is now deprecated in favor of reg:squarederror.\n",
      "280\n",
      "[13:27:35] WARNING: /workspace/src/objective/regression_obj.cu:152: reg:linear is now deprecated in favor of reg:squarederror.\n",
      "281\n",
      "[13:27:54] WARNING: /workspace/src/objective/regression_obj.cu:152: reg:linear is now deprecated in favor of reg:squarederror.\n",
      "282\n",
      "[13:28:14] WARNING: /workspace/src/objective/regression_obj.cu:152: reg:linear is now deprecated in favor of reg:squarederror.\n",
      "283\n",
      "[13:28:33] WARNING: /workspace/src/objective/regression_obj.cu:152: reg:linear is now deprecated in favor of reg:squarederror.\n",
      "284\n",
      "[13:28:52] WARNING: /workspace/src/objective/regression_obj.cu:152: reg:linear is now deprecated in favor of reg:squarederror.\n",
      "285\n",
      "[13:29:11] WARNING: /workspace/src/objective/regression_obj.cu:152: reg:linear is now deprecated in favor of reg:squarederror.\n",
      "286\n",
      "[13:29:31] WARNING: /workspace/src/objective/regression_obj.cu:152: reg:linear is now deprecated in favor of reg:squarederror.\n",
      "287\n",
      "[13:29:50] WARNING: /workspace/src/objective/regression_obj.cu:152: reg:linear is now deprecated in favor of reg:squarederror.\n",
      "288\n",
      "[13:30:09] WARNING: /workspace/src/objective/regression_obj.cu:152: reg:linear is now deprecated in favor of reg:squarederror.\n",
      "289\n",
      "[13:30:29] WARNING: /workspace/src/objective/regression_obj.cu:152: reg:linear is now deprecated in favor of reg:squarederror.\n",
      "290\n",
      "[13:30:48] WARNING: /workspace/src/objective/regression_obj.cu:152: reg:linear is now deprecated in favor of reg:squarederror.\n",
      "291\n",
      "[13:31:07] WARNING: /workspace/src/objective/regression_obj.cu:152: reg:linear is now deprecated in favor of reg:squarederror.\n",
      "292\n",
      "[13:31:26] WARNING: /workspace/src/objective/regression_obj.cu:152: reg:linear is now deprecated in favor of reg:squarederror.\n",
      "293\n",
      "[13:31:45] WARNING: /workspace/src/objective/regression_obj.cu:152: reg:linear is now deprecated in favor of reg:squarederror.\n",
      "294\n",
      "[13:32:05] WARNING: /workspace/src/objective/regression_obj.cu:152: reg:linear is now deprecated in favor of reg:squarederror.\n",
      "295\n",
      "[13:32:24] WARNING: /workspace/src/objective/regression_obj.cu:152: reg:linear is now deprecated in favor of reg:squarederror.\n",
      "296\n",
      "[13:32:43] WARNING: /workspace/src/objective/regression_obj.cu:152: reg:linear is now deprecated in favor of reg:squarederror.\n",
      "297\n",
      "[13:33:03] WARNING: /workspace/src/objective/regression_obj.cu:152: reg:linear is now deprecated in favor of reg:squarederror.\n",
      "298\n",
      "[13:33:22] WARNING: /workspace/src/objective/regression_obj.cu:152: reg:linear is now deprecated in favor of reg:squarederror.\n",
      "299\n",
      "[13:33:41] WARNING: /workspace/src/objective/regression_obj.cu:152: reg:linear is now deprecated in favor of reg:squarederror.\n",
      "300\n",
      "[13:34:00] WARNING: /workspace/src/objective/regression_obj.cu:152: reg:linear is now deprecated in favor of reg:squarederror.\n",
      "301\n",
      "[13:34:20] WARNING: /workspace/src/objective/regression_obj.cu:152: reg:linear is now deprecated in favor of reg:squarederror.\n",
      "302\n",
      "[13:34:39] WARNING: /workspace/src/objective/regression_obj.cu:152: reg:linear is now deprecated in favor of reg:squarederror.\n",
      "303\n",
      "[13:34:58] WARNING: /workspace/src/objective/regression_obj.cu:152: reg:linear is now deprecated in favor of reg:squarederror.\n",
      "304\n",
      "[13:35:18] WARNING: /workspace/src/objective/regression_obj.cu:152: reg:linear is now deprecated in favor of reg:squarederror.\n",
      "305\n",
      "[13:35:37] WARNING: /workspace/src/objective/regression_obj.cu:152: reg:linear is now deprecated in favor of reg:squarederror.\n",
      "306\n",
      "[13:35:56] WARNING: /workspace/src/objective/regression_obj.cu:152: reg:linear is now deprecated in favor of reg:squarederror.\n",
      "307\n",
      "[13:36:16] WARNING: /workspace/src/objective/regression_obj.cu:152: reg:linear is now deprecated in favor of reg:squarederror.\n",
      "308\n",
      "[13:36:35] WARNING: /workspace/src/objective/regression_obj.cu:152: reg:linear is now deprecated in favor of reg:squarederror.\n",
      "309\n",
      "[13:36:54] WARNING: /workspace/src/objective/regression_obj.cu:152: reg:linear is now deprecated in favor of reg:squarederror.\n",
      "310\n",
      "[13:37:13] WARNING: /workspace/src/objective/regression_obj.cu:152: reg:linear is now deprecated in favor of reg:squarederror.\n",
      "311\n",
      "[13:37:33] WARNING: /workspace/src/objective/regression_obj.cu:152: reg:linear is now deprecated in favor of reg:squarederror.\n",
      "312\n",
      "[13:37:52] WARNING: /workspace/src/objective/regression_obj.cu:152: reg:linear is now deprecated in favor of reg:squarederror.\n",
      "313\n",
      "[13:38:12] WARNING: /workspace/src/objective/regression_obj.cu:152: reg:linear is now deprecated in favor of reg:squarederror.\n",
      "314\n",
      "[13:38:31] WARNING: /workspace/src/objective/regression_obj.cu:152: reg:linear is now deprecated in favor of reg:squarederror.\n",
      "315\n",
      "[13:38:51] WARNING: /workspace/src/objective/regression_obj.cu:152: reg:linear is now deprecated in favor of reg:squarederror.\n",
      "316\n",
      "[13:39:10] WARNING: /workspace/src/objective/regression_obj.cu:152: reg:linear is now deprecated in favor of reg:squarederror.\n",
      "317\n",
      "[13:39:30] WARNING: /workspace/src/objective/regression_obj.cu:152: reg:linear is now deprecated in favor of reg:squarederror.\n",
      "318\n",
      "[13:39:49] WARNING: /workspace/src/objective/regression_obj.cu:152: reg:linear is now deprecated in favor of reg:squarederror.\n",
      "319\n",
      "[13:40:09] WARNING: /workspace/src/objective/regression_obj.cu:152: reg:linear is now deprecated in favor of reg:squarederror.\n",
      "320\n",
      "[13:40:28] WARNING: /workspace/src/objective/regression_obj.cu:152: reg:linear is now deprecated in favor of reg:squarederror.\n",
      "321\n",
      "[13:40:47] WARNING: /workspace/src/objective/regression_obj.cu:152: reg:linear is now deprecated in favor of reg:squarederror.\n",
      "322\n",
      "[13:41:07] WARNING: /workspace/src/objective/regression_obj.cu:152: reg:linear is now deprecated in favor of reg:squarederror.\n",
      "323\n",
      "[13:41:26] WARNING: /workspace/src/objective/regression_obj.cu:152: reg:linear is now deprecated in favor of reg:squarederror.\n",
      "324\n",
      "[13:41:46] WARNING: /workspace/src/objective/regression_obj.cu:152: reg:linear is now deprecated in favor of reg:squarederror.\n",
      "325\n",
      "[13:42:05] WARNING: /workspace/src/objective/regression_obj.cu:152: reg:linear is now deprecated in favor of reg:squarederror.\n",
      "326\n",
      "[13:42:25] WARNING: /workspace/src/objective/regression_obj.cu:152: reg:linear is now deprecated in favor of reg:squarederror.\n",
      "327\n",
      "[13:42:44] WARNING: /workspace/src/objective/regression_obj.cu:152: reg:linear is now deprecated in favor of reg:squarederror.\n",
      "328\n",
      "[13:43:03] WARNING: /workspace/src/objective/regression_obj.cu:152: reg:linear is now deprecated in favor of reg:squarederror.\n",
      "329\n",
      "[13:43:23] WARNING: /workspace/src/objective/regression_obj.cu:152: reg:linear is now deprecated in favor of reg:squarederror.\n",
      "330\n",
      "[13:43:42] WARNING: /workspace/src/objective/regression_obj.cu:152: reg:linear is now deprecated in favor of reg:squarederror.\n",
      "331\n",
      "[13:44:01] WARNING: /workspace/src/objective/regression_obj.cu:152: reg:linear is now deprecated in favor of reg:squarederror.\n",
      "332\n",
      "[13:44:21] WARNING: /workspace/src/objective/regression_obj.cu:152: reg:linear is now deprecated in favor of reg:squarederror.\n",
      "333\n",
      "[13:44:40] WARNING: /workspace/src/objective/regression_obj.cu:152: reg:linear is now deprecated in favor of reg:squarederror.\n",
      "334\n",
      "[13:44:59] WARNING: /workspace/src/objective/regression_obj.cu:152: reg:linear is now deprecated in favor of reg:squarederror.\n",
      "335\n",
      "[13:45:19] WARNING: /workspace/src/objective/regression_obj.cu:152: reg:linear is now deprecated in favor of reg:squarederror.\n",
      "336\n",
      "[13:45:38] WARNING: /workspace/src/objective/regression_obj.cu:152: reg:linear is now deprecated in favor of reg:squarederror.\n",
      "337\n",
      "[13:45:57] WARNING: /workspace/src/objective/regression_obj.cu:152: reg:linear is now deprecated in favor of reg:squarederror.\n",
      "338\n",
      "[13:46:17] WARNING: /workspace/src/objective/regression_obj.cu:152: reg:linear is now deprecated in favor of reg:squarederror.\n",
      "339\n",
      "[13:46:36] WARNING: /workspace/src/objective/regression_obj.cu:152: reg:linear is now deprecated in favor of reg:squarederror.\n",
      "340\n",
      "[13:46:56] WARNING: /workspace/src/objective/regression_obj.cu:152: reg:linear is now deprecated in favor of reg:squarederror.\n",
      "341\n",
      "[13:47:15] WARNING: /workspace/src/objective/regression_obj.cu:152: reg:linear is now deprecated in favor of reg:squarederror.\n",
      "342\n",
      "[13:47:35] WARNING: /workspace/src/objective/regression_obj.cu:152: reg:linear is now deprecated in favor of reg:squarederror.\n",
      "343\n",
      "[13:47:54] WARNING: /workspace/src/objective/regression_obj.cu:152: reg:linear is now deprecated in favor of reg:squarederror.\n",
      "344\n",
      "[13:48:14] WARNING: /workspace/src/objective/regression_obj.cu:152: reg:linear is now deprecated in favor of reg:squarederror.\n",
      "345\n",
      "[13:48:33] WARNING: /workspace/src/objective/regression_obj.cu:152: reg:linear is now deprecated in favor of reg:squarederror.\n",
      "346\n",
      "[13:48:53] WARNING: /workspace/src/objective/regression_obj.cu:152: reg:linear is now deprecated in favor of reg:squarederror.\n",
      "347\n",
      "[13:49:12] WARNING: /workspace/src/objective/regression_obj.cu:152: reg:linear is now deprecated in favor of reg:squarederror.\n",
      "348\n",
      "[13:49:32] WARNING: /workspace/src/objective/regression_obj.cu:152: reg:linear is now deprecated in favor of reg:squarederror.\n",
      "349\n",
      "[13:49:51] WARNING: /workspace/src/objective/regression_obj.cu:152: reg:linear is now deprecated in favor of reg:squarederror.\n",
      "350\n",
      "[13:50:11] WARNING: /workspace/src/objective/regression_obj.cu:152: reg:linear is now deprecated in favor of reg:squarederror.\n",
      "351\n",
      "[13:50:30] WARNING: /workspace/src/objective/regression_obj.cu:152: reg:linear is now deprecated in favor of reg:squarederror.\n",
      "352\n",
      "[13:50:50] WARNING: /workspace/src/objective/regression_obj.cu:152: reg:linear is now deprecated in favor of reg:squarederror.\n",
      "353\n",
      "[13:51:09] WARNING: /workspace/src/objective/regression_obj.cu:152: reg:linear is now deprecated in favor of reg:squarederror.\n",
      "354\n",
      "[13:51:29] WARNING: /workspace/src/objective/regression_obj.cu:152: reg:linear is now deprecated in favor of reg:squarederror.\n",
      "355\n",
      "[13:51:48] WARNING: /workspace/src/objective/regression_obj.cu:152: reg:linear is now deprecated in favor of reg:squarederror.\n",
      "356\n",
      "[13:52:07] WARNING: /workspace/src/objective/regression_obj.cu:152: reg:linear is now deprecated in favor of reg:squarederror.\n",
      "357\n",
      "[13:52:27] WARNING: /workspace/src/objective/regression_obj.cu:152: reg:linear is now deprecated in favor of reg:squarederror.\n",
      "358\n",
      "[13:52:46] WARNING: /workspace/src/objective/regression_obj.cu:152: reg:linear is now deprecated in favor of reg:squarederror.\n",
      "359\n",
      "[13:53:05] WARNING: /workspace/src/objective/regression_obj.cu:152: reg:linear is now deprecated in favor of reg:squarederror.\n",
      "360\n",
      "[13:53:24] WARNING: /workspace/src/objective/regression_obj.cu:152: reg:linear is now deprecated in favor of reg:squarederror.\n",
      "361\n",
      "[13:53:44] WARNING: /workspace/src/objective/regression_obj.cu:152: reg:linear is now deprecated in favor of reg:squarederror.\n",
      "362\n",
      "[13:54:03] WARNING: /workspace/src/objective/regression_obj.cu:152: reg:linear is now deprecated in favor of reg:squarederror.\n",
      "363\n",
      "[13:54:23] WARNING: /workspace/src/objective/regression_obj.cu:152: reg:linear is now deprecated in favor of reg:squarederror.\n",
      "364\n",
      "[13:54:42] WARNING: /workspace/src/objective/regression_obj.cu:152: reg:linear is now deprecated in favor of reg:squarederror.\n",
      "365\n",
      "[13:55:01] WARNING: /workspace/src/objective/regression_obj.cu:152: reg:linear is now deprecated in favor of reg:squarederror.\n",
      "366\n",
      "[13:55:20] WARNING: /workspace/src/objective/regression_obj.cu:152: reg:linear is now deprecated in favor of reg:squarederror.\n",
      "367\n",
      "[13:55:40] WARNING: /workspace/src/objective/regression_obj.cu:152: reg:linear is now deprecated in favor of reg:squarederror.\n",
      "368\n",
      "[13:55:59] WARNING: /workspace/src/objective/regression_obj.cu:152: reg:linear is now deprecated in favor of reg:squarederror.\n",
      "369\n",
      "[13:56:19] WARNING: /workspace/src/objective/regression_obj.cu:152: reg:linear is now deprecated in favor of reg:squarederror.\n",
      "370\n",
      "[13:56:38] WARNING: /workspace/src/objective/regression_obj.cu:152: reg:linear is now deprecated in favor of reg:squarederror.\n",
      "371\n",
      "[13:56:57] WARNING: /workspace/src/objective/regression_obj.cu:152: reg:linear is now deprecated in favor of reg:squarederror.\n",
      "372\n",
      "[13:57:17] WARNING: /workspace/src/objective/regression_obj.cu:152: reg:linear is now deprecated in favor of reg:squarederror.\n",
      "373\n",
      "[13:57:36] WARNING: /workspace/src/objective/regression_obj.cu:152: reg:linear is now deprecated in favor of reg:squarederror.\n",
      "374\n",
      "[13:57:55] WARNING: /workspace/src/objective/regression_obj.cu:152: reg:linear is now deprecated in favor of reg:squarederror.\n",
      "375\n",
      "[13:58:15] WARNING: /workspace/src/objective/regression_obj.cu:152: reg:linear is now deprecated in favor of reg:squarederror.\n",
      "376\n",
      "[13:58:34] WARNING: /workspace/src/objective/regression_obj.cu:152: reg:linear is now deprecated in favor of reg:squarederror.\n",
      "377\n",
      "[13:58:53] WARNING: /workspace/src/objective/regression_obj.cu:152: reg:linear is now deprecated in favor of reg:squarederror.\n",
      "378\n",
      "[13:59:12] WARNING: /workspace/src/objective/regression_obj.cu:152: reg:linear is now deprecated in favor of reg:squarederror.\n",
      "379\n",
      "[13:59:32] WARNING: /workspace/src/objective/regression_obj.cu:152: reg:linear is now deprecated in favor of reg:squarederror.\n",
      "380\n",
      "[13:59:51] WARNING: /workspace/src/objective/regression_obj.cu:152: reg:linear is now deprecated in favor of reg:squarederror.\n",
      "381\n",
      "[14:00:10] WARNING: /workspace/src/objective/regression_obj.cu:152: reg:linear is now deprecated in favor of reg:squarederror.\n",
      "382\n",
      "[14:00:30] WARNING: /workspace/src/objective/regression_obj.cu:152: reg:linear is now deprecated in favor of reg:squarederror.\n",
      "383\n",
      "[14:00:49] WARNING: /workspace/src/objective/regression_obj.cu:152: reg:linear is now deprecated in favor of reg:squarederror.\n",
      "384\n",
      "[14:01:09] WARNING: /workspace/src/objective/regression_obj.cu:152: reg:linear is now deprecated in favor of reg:squarederror.\n",
      "385\n",
      "[14:01:29] WARNING: /workspace/src/objective/regression_obj.cu:152: reg:linear is now deprecated in favor of reg:squarederror.\n",
      "386\n",
      "[14:01:48] WARNING: /workspace/src/objective/regression_obj.cu:152: reg:linear is now deprecated in favor of reg:squarederror.\n",
      "387\n",
      "[14:02:08] WARNING: /workspace/src/objective/regression_obj.cu:152: reg:linear is now deprecated in favor of reg:squarederror.\n",
      "388\n",
      "[14:02:27] WARNING: /workspace/src/objective/regression_obj.cu:152: reg:linear is now deprecated in favor of reg:squarederror.\n",
      "389\n",
      "[14:02:46] WARNING: /workspace/src/objective/regression_obj.cu:152: reg:linear is now deprecated in favor of reg:squarederror.\n",
      "390\n",
      "[14:03:06] WARNING: /workspace/src/objective/regression_obj.cu:152: reg:linear is now deprecated in favor of reg:squarederror.\n",
      "391\n",
      "[14:03:25] WARNING: /workspace/src/objective/regression_obj.cu:152: reg:linear is now deprecated in favor of reg:squarederror.\n",
      "392\n",
      "[14:03:44] WARNING: /workspace/src/objective/regression_obj.cu:152: reg:linear is now deprecated in favor of reg:squarederror.\n",
      "393\n",
      "[14:04:04] WARNING: /workspace/src/objective/regression_obj.cu:152: reg:linear is now deprecated in favor of reg:squarederror.\n",
      "394\n",
      "[14:04:23] WARNING: /workspace/src/objective/regression_obj.cu:152: reg:linear is now deprecated in favor of reg:squarederror.\n",
      "395\n",
      "[14:04:42] WARNING: /workspace/src/objective/regression_obj.cu:152: reg:linear is now deprecated in favor of reg:squarederror.\n",
      "396\n",
      "[14:05:02] WARNING: /workspace/src/objective/regression_obj.cu:152: reg:linear is now deprecated in favor of reg:squarederror.\n",
      "397\n",
      "[14:05:21] WARNING: /workspace/src/objective/regression_obj.cu:152: reg:linear is now deprecated in favor of reg:squarederror.\n",
      "398\n",
      "[14:05:40] WARNING: /workspace/src/objective/regression_obj.cu:152: reg:linear is now deprecated in favor of reg:squarederror.\n",
      "399\n",
      "[14:05:59] WARNING: /workspace/src/objective/regression_obj.cu:152: reg:linear is now deprecated in favor of reg:squarederror.\n",
      "400\n",
      "[14:06:19] WARNING: /workspace/src/objective/regression_obj.cu:152: reg:linear is now deprecated in favor of reg:squarederror.\n",
      "401\n",
      "[14:06:38] WARNING: /workspace/src/objective/regression_obj.cu:152: reg:linear is now deprecated in favor of reg:squarederror.\n",
      "402\n",
      "[14:06:57] WARNING: /workspace/src/objective/regression_obj.cu:152: reg:linear is now deprecated in favor of reg:squarederror.\n",
      "403\n",
      "[14:07:16] WARNING: /workspace/src/objective/regression_obj.cu:152: reg:linear is now deprecated in favor of reg:squarederror.\n",
      "404\n",
      "[14:07:36] WARNING: /workspace/src/objective/regression_obj.cu:152: reg:linear is now deprecated in favor of reg:squarederror.\n",
      "405\n",
      "[14:07:55] WARNING: /workspace/src/objective/regression_obj.cu:152: reg:linear is now deprecated in favor of reg:squarederror.\n",
      "406\n",
      "[14:08:14] WARNING: /workspace/src/objective/regression_obj.cu:152: reg:linear is now deprecated in favor of reg:squarederror.\n",
      "407\n",
      "[14:08:34] WARNING: /workspace/src/objective/regression_obj.cu:152: reg:linear is now deprecated in favor of reg:squarederror.\n",
      "408\n",
      "[14:08:53] WARNING: /workspace/src/objective/regression_obj.cu:152: reg:linear is now deprecated in favor of reg:squarederror.\n",
      "409\n",
      "[14:09:12] WARNING: /workspace/src/objective/regression_obj.cu:152: reg:linear is now deprecated in favor of reg:squarederror.\n",
      "410\n",
      "[14:09:32] WARNING: /workspace/src/objective/regression_obj.cu:152: reg:linear is now deprecated in favor of reg:squarederror.\n",
      "411\n",
      "[14:09:51] WARNING: /workspace/src/objective/regression_obj.cu:152: reg:linear is now deprecated in favor of reg:squarederror.\n",
      "412\n",
      "[14:10:11] WARNING: /workspace/src/objective/regression_obj.cu:152: reg:linear is now deprecated in favor of reg:squarederror.\n",
      "413\n",
      "[14:10:30] WARNING: /workspace/src/objective/regression_obj.cu:152: reg:linear is now deprecated in favor of reg:squarederror.\n",
      "414\n",
      "[14:10:49] WARNING: /workspace/src/objective/regression_obj.cu:152: reg:linear is now deprecated in favor of reg:squarederror.\n",
      "415\n",
      "[14:11:09] WARNING: /workspace/src/objective/regression_obj.cu:152: reg:linear is now deprecated in favor of reg:squarederror.\n",
      "416\n",
      "[14:11:29] WARNING: /workspace/src/objective/regression_obj.cu:152: reg:linear is now deprecated in favor of reg:squarederror.\n",
      "417\n",
      "[14:11:48] WARNING: /workspace/src/objective/regression_obj.cu:152: reg:linear is now deprecated in favor of reg:squarederror.\n",
      "418\n",
      "[14:12:08] WARNING: /workspace/src/objective/regression_obj.cu:152: reg:linear is now deprecated in favor of reg:squarederror.\n",
      "419\n",
      "[14:12:27] WARNING: /workspace/src/objective/regression_obj.cu:152: reg:linear is now deprecated in favor of reg:squarederror.\n",
      "420\n",
      "[14:12:47] WARNING: /workspace/src/objective/regression_obj.cu:152: reg:linear is now deprecated in favor of reg:squarederror.\n",
      "421\n",
      "[14:13:06] WARNING: /workspace/src/objective/regression_obj.cu:152: reg:linear is now deprecated in favor of reg:squarederror.\n",
      "422\n",
      "[14:13:26] WARNING: /workspace/src/objective/regression_obj.cu:152: reg:linear is now deprecated in favor of reg:squarederror.\n",
      "423\n",
      "[14:13:45] WARNING: /workspace/src/objective/regression_obj.cu:152: reg:linear is now deprecated in favor of reg:squarederror.\n",
      "424\n",
      "[14:14:05] WARNING: /workspace/src/objective/regression_obj.cu:152: reg:linear is now deprecated in favor of reg:squarederror.\n",
      "425\n",
      "[14:14:24] WARNING: /workspace/src/objective/regression_obj.cu:152: reg:linear is now deprecated in favor of reg:squarederror.\n",
      "426\n",
      "[14:14:44] WARNING: /workspace/src/objective/regression_obj.cu:152: reg:linear is now deprecated in favor of reg:squarederror.\n",
      "427\n",
      "[14:15:03] WARNING: /workspace/src/objective/regression_obj.cu:152: reg:linear is now deprecated in favor of reg:squarederror.\n",
      "428\n",
      "[14:15:22] WARNING: /workspace/src/objective/regression_obj.cu:152: reg:linear is now deprecated in favor of reg:squarederror.\n",
      "429\n",
      "[14:15:41] WARNING: /workspace/src/objective/regression_obj.cu:152: reg:linear is now deprecated in favor of reg:squarederror.\n",
      "430\n",
      "[14:16:00] WARNING: /workspace/src/objective/regression_obj.cu:152: reg:linear is now deprecated in favor of reg:squarederror.\n",
      "431\n",
      "[14:16:20] WARNING: /workspace/src/objective/regression_obj.cu:152: reg:linear is now deprecated in favor of reg:squarederror.\n",
      "432\n",
      "[14:16:39] WARNING: /workspace/src/objective/regression_obj.cu:152: reg:linear is now deprecated in favor of reg:squarederror.\n",
      "433\n",
      "[14:16:58] WARNING: /workspace/src/objective/regression_obj.cu:152: reg:linear is now deprecated in favor of reg:squarederror.\n",
      "434\n",
      "[14:17:17] WARNING: /workspace/src/objective/regression_obj.cu:152: reg:linear is now deprecated in favor of reg:squarederror.\n",
      "435\n",
      "[14:17:37] WARNING: /workspace/src/objective/regression_obj.cu:152: reg:linear is now deprecated in favor of reg:squarederror.\n",
      "436\n",
      "[14:17:56] WARNING: /workspace/src/objective/regression_obj.cu:152: reg:linear is now deprecated in favor of reg:squarederror.\n",
      "437\n",
      "[14:18:15] WARNING: /workspace/src/objective/regression_obj.cu:152: reg:linear is now deprecated in favor of reg:squarederror.\n",
      "438\n",
      "[14:18:35] WARNING: /workspace/src/objective/regression_obj.cu:152: reg:linear is now deprecated in favor of reg:squarederror.\n",
      "439\n",
      "[14:18:54] WARNING: /workspace/src/objective/regression_obj.cu:152: reg:linear is now deprecated in favor of reg:squarederror.\n",
      "440\n",
      "[14:19:13] WARNING: /workspace/src/objective/regression_obj.cu:152: reg:linear is now deprecated in favor of reg:squarederror.\n",
      "441\n",
      "[14:19:32] WARNING: /workspace/src/objective/regression_obj.cu:152: reg:linear is now deprecated in favor of reg:squarederror.\n",
      "442\n",
      "[14:19:52] WARNING: /workspace/src/objective/regression_obj.cu:152: reg:linear is now deprecated in favor of reg:squarederror.\n",
      "443\n",
      "[14:20:11] WARNING: /workspace/src/objective/regression_obj.cu:152: reg:linear is now deprecated in favor of reg:squarederror.\n",
      "444\n",
      "[14:20:30] WARNING: /workspace/src/objective/regression_obj.cu:152: reg:linear is now deprecated in favor of reg:squarederror.\n",
      "445\n",
      "[14:20:49] WARNING: /workspace/src/objective/regression_obj.cu:152: reg:linear is now deprecated in favor of reg:squarederror.\n",
      "446\n",
      "[14:21:09] WARNING: /workspace/src/objective/regression_obj.cu:152: reg:linear is now deprecated in favor of reg:squarederror.\n",
      "447\n",
      "[14:21:28] WARNING: /workspace/src/objective/regression_obj.cu:152: reg:linear is now deprecated in favor of reg:squarederror.\n",
      "448\n",
      "[14:21:47] WARNING: /workspace/src/objective/regression_obj.cu:152: reg:linear is now deprecated in favor of reg:squarederror.\n",
      "449\n",
      "[14:22:06] WARNING: /workspace/src/objective/regression_obj.cu:152: reg:linear is now deprecated in favor of reg:squarederror.\n",
      "450\n",
      "[14:22:25] WARNING: /workspace/src/objective/regression_obj.cu:152: reg:linear is now deprecated in favor of reg:squarederror.\n",
      "451\n",
      "[14:22:44] WARNING: /workspace/src/objective/regression_obj.cu:152: reg:linear is now deprecated in favor of reg:squarederror.\n",
      "452\n",
      "[14:23:03] WARNING: /workspace/src/objective/regression_obj.cu:152: reg:linear is now deprecated in favor of reg:squarederror.\n",
      "453\n",
      "[14:23:22] WARNING: /workspace/src/objective/regression_obj.cu:152: reg:linear is now deprecated in favor of reg:squarederror.\n",
      "454\n",
      "[14:23:42] WARNING: /workspace/src/objective/regression_obj.cu:152: reg:linear is now deprecated in favor of reg:squarederror.\n",
      "455\n",
      "[14:24:01] WARNING: /workspace/src/objective/regression_obj.cu:152: reg:linear is now deprecated in favor of reg:squarederror.\n",
      "456\n",
      "[14:24:20] WARNING: /workspace/src/objective/regression_obj.cu:152: reg:linear is now deprecated in favor of reg:squarederror.\n",
      "457\n",
      "[14:24:39] WARNING: /workspace/src/objective/regression_obj.cu:152: reg:linear is now deprecated in favor of reg:squarederror.\n",
      "458\n",
      "[14:24:58] WARNING: /workspace/src/objective/regression_obj.cu:152: reg:linear is now deprecated in favor of reg:squarederror.\n",
      "459\n",
      "[14:25:18] WARNING: /workspace/src/objective/regression_obj.cu:152: reg:linear is now deprecated in favor of reg:squarederror.\n",
      "460\n",
      "[14:25:37] WARNING: /workspace/src/objective/regression_obj.cu:152: reg:linear is now deprecated in favor of reg:squarederror.\n",
      "461\n",
      "[14:25:56] WARNING: /workspace/src/objective/regression_obj.cu:152: reg:linear is now deprecated in favor of reg:squarederror.\n",
      "462\n",
      "[14:26:16] WARNING: /workspace/src/objective/regression_obj.cu:152: reg:linear is now deprecated in favor of reg:squarederror.\n",
      "463\n",
      "[14:26:35] WARNING: /workspace/src/objective/regression_obj.cu:152: reg:linear is now deprecated in favor of reg:squarederror.\n",
      "464\n",
      "[14:26:54] WARNING: /workspace/src/objective/regression_obj.cu:152: reg:linear is now deprecated in favor of reg:squarederror.\n",
      "465\n",
      "[14:27:14] WARNING: /workspace/src/objective/regression_obj.cu:152: reg:linear is now deprecated in favor of reg:squarederror.\n",
      "466\n",
      "[14:27:33] WARNING: /workspace/src/objective/regression_obj.cu:152: reg:linear is now deprecated in favor of reg:squarederror.\n",
      "467\n",
      "[14:27:53] WARNING: /workspace/src/objective/regression_obj.cu:152: reg:linear is now deprecated in favor of reg:squarederror.\n",
      "468\n",
      "[14:28:12] WARNING: /workspace/src/objective/regression_obj.cu:152: reg:linear is now deprecated in favor of reg:squarederror.\n",
      "469\n",
      "[14:28:31] WARNING: /workspace/src/objective/regression_obj.cu:152: reg:linear is now deprecated in favor of reg:squarederror.\n",
      "470\n",
      "[14:28:50] WARNING: /workspace/src/objective/regression_obj.cu:152: reg:linear is now deprecated in favor of reg:squarederror.\n",
      "471\n",
      "[14:29:10] WARNING: /workspace/src/objective/regression_obj.cu:152: reg:linear is now deprecated in favor of reg:squarederror.\n",
      "472\n",
      "[14:29:29] WARNING: /workspace/src/objective/regression_obj.cu:152: reg:linear is now deprecated in favor of reg:squarederror.\n",
      "473\n",
      "[14:29:49] WARNING: /workspace/src/objective/regression_obj.cu:152: reg:linear is now deprecated in favor of reg:squarederror.\n",
      "474\n",
      "[14:30:08] WARNING: /workspace/src/objective/regression_obj.cu:152: reg:linear is now deprecated in favor of reg:squarederror.\n",
      "475\n",
      "[14:30:27] WARNING: /workspace/src/objective/regression_obj.cu:152: reg:linear is now deprecated in favor of reg:squarederror.\n",
      "476\n",
      "[14:30:47] WARNING: /workspace/src/objective/regression_obj.cu:152: reg:linear is now deprecated in favor of reg:squarederror.\n",
      "477\n",
      "[14:31:06] WARNING: /workspace/src/objective/regression_obj.cu:152: reg:linear is now deprecated in favor of reg:squarederror.\n",
      "478\n",
      "[14:31:25] WARNING: /workspace/src/objective/regression_obj.cu:152: reg:linear is now deprecated in favor of reg:squarederror.\n",
      "479\n",
      "[14:31:44] WARNING: /workspace/src/objective/regression_obj.cu:152: reg:linear is now deprecated in favor of reg:squarederror.\n",
      "480\n",
      "[14:32:04] WARNING: /workspace/src/objective/regression_obj.cu:152: reg:linear is now deprecated in favor of reg:squarederror.\n",
      "481\n",
      "[14:32:23] WARNING: /workspace/src/objective/regression_obj.cu:152: reg:linear is now deprecated in favor of reg:squarederror.\n",
      "482\n",
      "[14:32:42] WARNING: /workspace/src/objective/regression_obj.cu:152: reg:linear is now deprecated in favor of reg:squarederror.\n",
      "483\n",
      "[14:33:01] WARNING: /workspace/src/objective/regression_obj.cu:152: reg:linear is now deprecated in favor of reg:squarederror.\n",
      "484\n",
      "[14:33:21] WARNING: /workspace/src/objective/regression_obj.cu:152: reg:linear is now deprecated in favor of reg:squarederror.\n",
      "485\n",
      "[14:33:40] WARNING: /workspace/src/objective/regression_obj.cu:152: reg:linear is now deprecated in favor of reg:squarederror.\n",
      "486\n",
      "[14:33:59] WARNING: /workspace/src/objective/regression_obj.cu:152: reg:linear is now deprecated in favor of reg:squarederror.\n",
      "487\n",
      "[14:34:18] WARNING: /workspace/src/objective/regression_obj.cu:152: reg:linear is now deprecated in favor of reg:squarederror.\n",
      "488\n",
      "[14:34:37] WARNING: /workspace/src/objective/regression_obj.cu:152: reg:linear is now deprecated in favor of reg:squarederror.\n",
      "489\n",
      "[14:34:57] WARNING: /workspace/src/objective/regression_obj.cu:152: reg:linear is now deprecated in favor of reg:squarederror.\n",
      "490\n",
      "[14:35:16] WARNING: /workspace/src/objective/regression_obj.cu:152: reg:linear is now deprecated in favor of reg:squarederror.\n",
      "491\n",
      "[14:35:35] WARNING: /workspace/src/objective/regression_obj.cu:152: reg:linear is now deprecated in favor of reg:squarederror.\n",
      "492\n",
      "[14:35:54] WARNING: /workspace/src/objective/regression_obj.cu:152: reg:linear is now deprecated in favor of reg:squarederror.\n",
      "493\n",
      "[14:36:14] WARNING: /workspace/src/objective/regression_obj.cu:152: reg:linear is now deprecated in favor of reg:squarederror.\n",
      "494\n",
      "[14:36:33] WARNING: /workspace/src/objective/regression_obj.cu:152: reg:linear is now deprecated in favor of reg:squarederror.\n",
      "495\n",
      "[14:36:52] WARNING: /workspace/src/objective/regression_obj.cu:152: reg:linear is now deprecated in favor of reg:squarederror.\n",
      "496\n",
      "[14:37:11] WARNING: /workspace/src/objective/regression_obj.cu:152: reg:linear is now deprecated in favor of reg:squarederror.\n",
      "497\n",
      "[14:37:31] WARNING: /workspace/src/objective/regression_obj.cu:152: reg:linear is now deprecated in favor of reg:squarederror.\n",
      "498\n",
      "[14:37:50] WARNING: /workspace/src/objective/regression_obj.cu:152: reg:linear is now deprecated in favor of reg:squarederror.\n",
      "499\n",
      "[14:38:10] WARNING: /workspace/src/objective/regression_obj.cu:152: reg:linear is now deprecated in favor of reg:squarederror.\n",
      "\n",
      "Lasso score: 0.1201 (0.0126)\n",
      "\n",
      "ElasticNet score: 0.1201 (0.0127)\n",
      "\n",
      "Kernel Ridge score: 0.1221(0.0142)\n",
      "\n",
      "Decision Tree score: 0.1902 (0.0082)\n",
      "\n",
      "XGB Regression score: 0.1904 (0.0085)\n",
      "\n",
      "Random Forest score: 0.1902 (0.0083)\n",
      "\n"
     ]
    }
   ],
   "source": [
    "lasso_score_mean = np.empty(500) \n",
    "lasso_score_std = np.empty(500) \n",
    "ElasticNet_score_mean = np.empty(500) \n",
    "ElasticNet_score_std = np.empty(500) \n",
    "KRR_score_mean = np.empty(500) \n",
    "KRR_score_std = np.empty(500) \n",
    "DT_score_mean = np.empty(500) \n",
    "DT_score_std = np.empty(500) \n",
    "XGB_score_mean = np.empty(500) \n",
    "XGB_score_std = np.empty(500) \n",
    "RF_score_mean = np.empty(500) \n",
    "RF_score_std = np.empty(500)\n",
    "\n",
    "counter = -1\n",
    "for i in range(500):\n",
    "    print(i)\n",
    "    counter = counter+1\n",
    "    X_train, X_test, y_train, y_test = train_test_split(train.drop('SalePrice', axis=1), train[['SalePrice']], test_size=0.2, random_state=3)\n",
    "    X_train = scaler.fit_transform(X_train) \n",
    "    X_test = scaler.transform(X_test)\n",
    "    n_folds = 5\n",
    "    def rmsle_cv(model): \n",
    "        kf = KFold(n_folds, shuffle=True, random_state=42).get_n_splits(train.values)\n",
    "        rmse= np.sqrt(-cross_val_score(model, X_train, y_train, scoring=\"neg_mean_squared_error\", cv = kf))\n",
    "        return(rmse)\n",
    "\n",
    "    lasso_reg = Lasso(**grid_lasso.best_params_)\n",
    "    lasso_score = rmsle_cv(lasso_reg)\n",
    "    lasso_reg.fit(X_train, y_train) \n",
    "    lasso_score_mean[counter] = np.array(lasso_score.mean())\n",
    "    lasso_score_std[counter] = np.array(lasso_score.std())\n",
    "    \n",
    "    EN_final = ElasticNet(**grid_ElasticNet.best_params_) \n",
    "    ElasticNet_score = rmsle_cv(EN_final)\n",
    "    EN_final.fit(X_train, y_train)\n",
    "    ElasticNet_score_mean[counter] = np.array(ElasticNet_score.mean()) \n",
    "    ElasticNet_score_std[counter] = np.array(ElasticNet_score.std())\n",
    "    \n",
    "    KRR_final = KernelRidge(**grid_KRR.best_params_) \n",
    "    KRR_score = rmsle_cv(KRR_final) \n",
    "    KRR_final.fit(X_train, y_train) \n",
    "    KRR_score_mean[counter] = np.array(KRR_score.mean()) \n",
    "    KRR_score_std[counter] = np.array(KRR_score.std())\n",
    "    \n",
    "    DT_final = DecisionTreeRegressor(**grid_DT.best_params_) \n",
    "    DT_score = rmsle_cv(DT_final)\n",
    "    DT_final.fit(X_train, y_train)\n",
    "    DT_score_mean[counter] = np.array(DT_score.mean()) \n",
    "    DT_score_std[counter] = np.array(DT_score.std())\n",
    "    \n",
    "    XGB_final = XGBRegressor(**grid_XGB.best_params_) \n",
    "    XGB_score = rmsle_cv(DT_final) \n",
    "    XGB_final.fit(X_train, y_train) \n",
    "    XGB_score_mean[counter] = np.array(XGB_score.mean()) \n",
    "    XGB_score_std[counter] = np.array(XGB_score.std())\n",
    "    \n",
    "    RF_final = RandomForestRegressor(**grid_RF.best_params_) \n",
    "    RF_score = rmsle_cv(DT_final)\n",
    "    RF_final.fit(X_train, y_train)\n",
    "    RF_score_mean[counter] = np.array(RF_score.mean()) \n",
    "    RF_score_std[counter] = np.array(RF_score.std())\n",
    "\n",
    "\n",
    "print(\"\\nLasso score: {:.4f} ({:.4f})\\n\".format(lasso_score_mean.mean(), lasso_score_std.mean()))\n",
    "print(\"ElasticNet score: {:.4f} ({:.4f})\\n\".format(ElasticNet_score_mean.mean(), ElasticNet_score_std.mean()))\n",
    "print(\"Kernel Ridge score: {:.4f}({:.4f})\\n\".format(KRR_score_mean.mean(), KRR_score_std.mean())) \n",
    "print(\"Decision Tree score: {:.4f} ({:.4f})\\n\".format(DT_score_mean.mean(), DT_score_std.mean())) \n",
    "print(\"XGB Regression score: {:.4f} ({:.4f})\\n\".format(XGB_score_mean.mean(), XGB_score_std.mean())) \n",
    "print(\"Random Forest score: {:.4f} ({:.4f})\\n\".format(RF_score_mean.mean(), RF_score_std.mean()))\n"
   ]
  },
  {
   "cell_type": "markdown",
   "metadata": {
    "id": "UKE1vR81QZ5u"
   },
   "source": [
    "Since we ran the project before, we can see the\n",
    "results for each model below."
   ]
  },
  {
   "cell_type": "markdown",
   "metadata": {
    "id": "56n4uovZU7Hz"
   },
   "source": [
    "## 5.3 Analysis and Comparison\n"
   ]
  },
  {
   "cell_type": "markdown",
   "metadata": {
    "id": "4vl3T-VxRHTt"
   },
   "source": [
    "Let’s take a look at our score table after the loop finishes.\n",
    "\n",
    "\n",
    "<style type=\"text/css\">\n",
    ".tg  {border-collapse:collapse;border-spacing:0;}\n",
    ".tg td{border-color:black;border-style:solid;border-width:1px;font-family:Arial, sans-serif;font-size:14px;\n",
    "  overflow:hidden;padding:10px 5px;word-break:normal;}\n",
    ".tg th{border-color:black;border-style:solid;border-width:1px;font-family:Arial, sans-serif;font-size:14px;\n",
    "  font-weight:normal;overflow:hidden;padding:10px 5px;word-break:normal;}\n",
    ".tg .tg-0pky{border-color:inherit;text-align:left;vertical-align:top}\n",
    "</style>\n",
    "<table class=\"tg\">\n",
    "<thead>\n",
    "  <tr>\n",
    "    <th class=\"tg-0pky\">Model</th>\n",
    "    <th class=\"tg-0pky\">Mean (Standard Deviation)</th>\n",
    "  </tr>\n",
    "</thead>\n",
    "<tbody>\n",
    "  <tr>\n",
    "    <td class=\"tg-0pky\">Lasso</td>\n",
    "    <td class=\"tg-0pky\">0.1201 (0.0126)</td>\n",
    "  </tr>\n",
    "  <tr>\n",
    "    <td class=\"tg-0pky\">ElasticNet</td>\n",
    "    <td class=\"tg-0pky\">0.1201 (0.0127)</td>\n",
    "  </tr>\n",
    "  <tr>\n",
    "    <td class=\"tg-0pky\">Kernel Ridge</td>\n",
    "    <td class=\"tg-0pky\">0.4449 (0.0141)</td>\n",
    "  </tr>\n",
    "  <tr>\n",
    "    <td class=\"tg-0pky\">Decision Tree</td>\n",
    "    <td class=\"tg-0pky\">0.1901 (0.0085))</td>\n",
    "  </tr>\n",
    "  <tr>\n",
    "    <td class=\"tg-0pky\">XGB Regression</td>\n",
    "    <td class=\"tg-0pky\">0.1902 (0.0085)</td>\n",
    "  </tr>\n",
    "  <tr>\n",
    "    <td class=\"tg-0pky\">Random Forest</td>\n",
    "    <td class=\"tg-0pky\">0.1902 (0.0085)</td>\n",
    "  </tr>\n",
    "    <tr>\n",
    "    <th class=\"tg-0pky\">Table 5.1: RMSLE scores</th>\n",
    "  </tr>  \n",
    "</tbody>\n",
    "</table>\n",
    "\n",
    "Based on our score we choose Elastic Net as our best technique for predicting Sales\n",
    "Prices. \n"
   ]
  },
  {
   "cell_type": "markdown",
   "metadata": {
    "id": "0GinyPcaU_pB"
   },
   "source": [
    "## 5.4 Predicting"
   ]
  },
  {
   "cell_type": "markdown",
   "metadata": {
    "id": "IOXhZywXVC6p"
   },
   "source": [
    "Now we scale our test dataset then we use the best parameters for Elastic Net and\n",
    "after fitting the model, we predict Sale Prices for test data. But we used Log1p\n",
    "function, so we have to apple reverse function in order to have real price predictions.\n",
    "We can use expm1 function from Numpy to do so. After getting these prices, we add \n",
    "them as a new column to our first test dataset. We save them as a csv and now we\n",
    "can submit them."
   ]
  },
  {
   "cell_type": "code",
   "execution_count": 43,
   "metadata": {
    "id": "WYiU22IIVEiB"
   },
   "outputs": [],
   "source": [
    "X_train = scaler.fit_transform(train.drop('SalePrice', axis=1)) \n",
    "X_test = scaler.transform(test.drop('SalePrice', axis=1))\n",
    "\n",
    "EN_model = ElasticNet(alpha=0.0004, l1_ratio=0.79, random_state=1) \n",
    "EN_model.fit(X_train, train['SalePrice'])\n",
    "\n",
    "y_pred = EN_model.predict(X_test) \n",
    "price_predictions = pd.DataFrame(np.expm1(y_pred))\n",
    "new_test = pd.concat([df_test_c, price_predictions], axis=1).reset_index(drop=True) \n",
    "new_test.columns.values[79] = \"Price Prediction\"\n",
    "new_test.to_csv('/submission.csv',index=False)\n"
   ]
  },
  {
   "cell_type": "markdown",
   "metadata": {
    "id": "GCny-Y99QBeC"
   },
   "source": [
    "# 6. Recommender System"
   ]
  },
  {
   "cell_type": "markdown",
   "metadata": {
    "id": "OOlZ1sf2VHiN"
   },
   "source": [
    "## 6.1 Defining Our Recommender System \n"
   ]
  },
  {
   "cell_type": "markdown",
   "metadata": {
    "id": "rXiEU_aRVatW"
   },
   "source": [
    "Now that we have a big dataset of house prices and their features, we can make use\n",
    "out of it. How? Let’s assume we want to make a website that takes only few\n",
    "important features from customers and recommend them best houses they can buy.\n",
    "Features that we take from customers are certain amount of budget, neighborhood,\n",
    "house area in square feet, land usage, house age and number of bedrooms.\n",
    "Later we show how we are going to sort and rank our dataset to give best\n",
    "recommendations. In this part we will only use our dataset.\n",
    "The only problem arises when the customer doesn’t have right estimation of house\n",
    "prices. So they can give us low price, in this case we have to find a way to suggest\n",
    "them real price. We can do so by using our best model to predict the price."
   ]
  },
  {
   "cell_type": "markdown",
   "metadata": {
    "id": "q2KTnSfaa6Yi"
   },
   "source": [
    "Let's take a look at an example of our customer:\n",
    "\n",
    "\n",
    "\n",
    "<style type=\"text/css\">\n",
    ".tg  {border-collapse:collapse;border-spacing:0;}\n",
    ".tg td{border-color:black;border-style:solid;border-width:1px;font-family:Arial, sans-serif;font-size:14px;\n",
    "  overflow:hidden;padding:10px 5px;word-break:normal;}\n",
    ".tg th{border-color:black;border-style:solid;border-width:1px;font-family:Arial, sans-serif;font-size:14px;\n",
    "  font-weight:normal;overflow:hidden;padding:10px 5px;word-break:normal;}\n",
    ".tg .tg-0pky{border-color:inherit;text-align:left;vertical-align:top}\n",
    "</style>\n",
    "<table class=\"tg\">\n",
    "<thead>\n",
    "  <tr>\n",
    "    <th class=\"tg-0pky\">TotalSF</th>\n",
    "    <th class=\"tg-0pky\">Neighborhood</th>\n",
    "    <th class=\"tg-0pky\">Bedroom AbvGr</th>\n",
    "    <th class=\"tg-0pky\">House Age</th>\n",
    "    <th class=\"tg-0pky\">MSZoning</th>\n",
    "    <th class=\"tg-0pky\">HouseStyle</th>\n",
    "    <th class=\"tg-0pky\">SalesPrice</th>\n",
    "  </tr>\n",
    "</thead>\n",
    "<tbody>\n",
    "  <tr> \n",
    "    <td class=\"tg-0pky\">1440.000</td>\n",
    "    <td class=\"tg-0pky\">IDOTRR</td>\n",
    "    <td class=\"tg-0pky\">2</td>\n",
    "    <td class=\"tg-0pky\">89</td>\n",
    "    <td class=\"tg-0pky\"> C (all)  </td>\n",
    "    <td class=\"tg-0pky\">1Story</td>\n",
    "    <td class=\"tg-0pky\">34900.000 </td>\n",
    "  </tr>\n",
    " \n",
    "</tbody>\n",
    "</table>\n"
   ]
  },
  {
   "cell_type": "markdown",
   "metadata": {
    "id": "lD-maQezcjgR"
   },
   "source": [
    "\n",
    "Then we add a variable called customer.\n"
   ]
  },
  {
   "cell_type": "code",
   "execution_count": 44,
   "metadata": {
    "colab": {
     "base_uri": "https://localhost:8080/"
    },
    "id": "X5NoI8tba3eK",
    "outputId": "702cc8dc-b911-47e1-9f4a-3799873c5f6f"
   },
   "outputs": [
    {
     "name": "stdout",
     "output_type": "stream",
     "text": [
      "[19870, 960, ' ', 4, array([ 0,  1,  2,  3,  4,  5,  6,  7,  8,  9, 10, 11, 12, 13, 14, 15, 16,\n",
      "       17, 18, 19, 20]), array(['FV', 'RH', 'RL', 'RM'], dtype='<U2'), '2Story']\n"
     ]
    }
   ],
   "source": [
    "customer = [19870, 960, \" \", 4, np.arange(0, 21, 1), np.array(['FV', 'RH', 'RL', 'RM']), \"2Story\"]\n",
    "print(customer)\n",
    "\n",
    "customer = pd.Series(customer)"
   ]
  },
  {
   "cell_type": "markdown",
   "metadata": {
    "id": "qrcXwIeFVMOn"
   },
   "source": [
    "## 6.2 Methodology \n"
   ]
  },
  {
   "cell_type": "markdown",
   "metadata": {
    "id": "bKuqtnacXNsN"
   },
   "source": [
    "First we need to prepare our dataset. We use the copy of dataset we took before\n",
    "enabling encoding, because we can’t work with binary numbers. Then we merge\n",
    "both our train and test dataset, this time they both have SalesPrice!\n",
    "\n",
    "Then we filter TotalSF, Neighborhood, BedroomAbvGr, HouseAge, MSZoning,\n",
    "HouseStyle from this merged dataset and we call it new_data. We also have a\n",
    "dataframe that contains SalesPrice from both test and train dataset. \n",
    "\n",
    "Let’s see how it\n",
    "turned out, for this we check out all unique values of each feature."
   ]
  },
  {
   "cell_type": "code",
   "execution_count": 45,
   "metadata": {
    "colab": {
     "base_uri": "https://localhost:8080/"
    },
    "id": "2Jc3-_rrXiKZ",
    "outputId": "3899618c-8b35-4688-9152-fda9d5964905"
   },
   "outputs": [
    {
     "name": "stdout",
     "output_type": "stream",
     "text": [
      "\n",
      " TotalSF\n",
      "[  334.   612.   640. ...  6760.  6872. 10190.]\n",
      "\n",
      " Neighborhood\n",
      "['Blmngtn' 'Blueste' 'BrDale' 'BrkSide' 'ClearCr' 'CollgCr' 'Crawfor'\n",
      " 'Edwards' 'Gilbert' 'IDOTRR' 'MeadowV' 'Mitchel' 'NAmes' 'NPkVill'\n",
      " 'NWAmes' 'NoRidge' 'NridgHt' 'OldTown' 'SWISU' 'Sawyer' 'SawyerW'\n",
      " 'Somerst' 'StoneBr' 'Timber' 'Veenker']\n",
      "\n",
      " BedroomAbvGr\n",
      "[0 1 2 3 4 5 6 8]\n",
      "\n",
      " HouseAge\n",
      "[  0   1   2   3   4   5   6   7   8   9  10  11  12  13  14  15  16  17\n",
      "  18  19  20  21  22  23  24  25  26  27  28  29  30  31  32  33  34  35\n",
      "  36  37  38  39  40  41  42  43  44  45  46  47  48  49  50  51  52  53\n",
      "  54  55  56  57  58  59  60  61  62  63  64  65  66  67  68  69  70  71\n",
      "  72  73  74  75  76  77  78  79  80  81  82  83  84  85  86  87  88  89\n",
      "  90  91  92  93  94  95  96  97  98  99 100 101 102 103 104 106 107 108\n",
      " 109 110 111 112 113 114 115 117 118 119 120 122 125 126 127 128 129 135\n",
      " 136]\n",
      "\n",
      " MSZoning\n",
      "['C (all)' 'FV' 'RH' 'RL' 'RM']\n",
      "\n",
      " HouseStyle\n",
      "['1.5Fin' '1.5Unf' '1Story' '2.5Fin' '2.5Unf' '2Story' 'SFoyer' 'SLvl']\n",
      "\n",
      " SalesPrice\n",
      "[  34900.           35311.           37900.         ...  745000.\n",
      "  782396.97779267 1688924.96140145]\n",
      "TotalSF         1440.000\n",
      "Neighborhood      IDOTRR\n",
      "BedroomAbvGr           2\n",
      "HouseAge              89\n",
      "MSZoning         C (all)\n",
      "HouseStyle        1Story\n",
      "SalesPrice     34900.000\n",
      "Name: 442, dtype: object\n",
      "(2917, 7)\n"
     ]
    }
   ],
   "source": [
    "new_data = all_data_c.filter([\"TotalSF\", \"Neighborhood\", \"BedroomAbvGr\", \"HouseAge\", \"MSZoning\", \"HouseStyle\"])\n",
    "y_train = pd.DataFrame(df_train_c.SalePrice.values)\n",
    "y_pred = pd.DataFrame(y_pred)\n",
    "y_train = pd.concat([y_train, y_pred], ignore_index=True) \n",
    "y_train = np.expm1(y_train)\n",
    "new_data[\"SalesPrice\"] = y_train\n",
    "\n",
    "for i in new_data.columns: \n",
    "  print(\"\\n\", i)\n",
    "  print(np.unique(new_data[i]))\n",
    "\n",
    "new_data = new_data.sort_values(by=['SalesPrice']) \n",
    "print(new_data.iloc[0])\n",
    "print(np.shape(new_data))\n"
   ]
  },
  {
   "cell_type": "markdown",
   "metadata": {
    "id": "DTYSVI_-d3DU"
   },
   "source": [
    "For the rest of our work, we first explain how we are going to write the codes, then we write them altogether, because we need to have all of them together in a loop."
   ]
  },
  {
   "cell_type": "markdown",
   "metadata": {
    "id": "TDgjdNPWVPob"
   },
   "source": [
    "### 6.2.1 First Step \n"
   ]
  },
  {
   "cell_type": "markdown",
   "metadata": {
    "id": "GjAiie8GZJ7y"
   },
   "source": [
    "In first step we would like to filter our new_data by SalesPrice. We know that\n",
    "5000$ difference in prices won’t bother any customer, as they are willing to pay a\n",
    "bit more for a better house or they would love to save this amount and use it in a\n",
    "better way than just paying for luxury features in a house. So we search our data and\n",
    "add all the records with suitable prices and build a new dataframe for each customer,\n",
    "and we call it cases.\n",
    "\n",
    "If the shape of this cases dataframe is positive, then we can go on and sort all possible\n",
    "houses that the customer can buy. But if this shape is 0 means our customer have\n",
    "unrealistic estimation of prices so we have to predict and suggest the price. We will\n",
    "explain this part in fourth step (6.2.4)."
   ]
  },
  {
   "cell_type": "markdown",
   "metadata": {
    "id": "nHA1M-nuVUl5"
   },
   "source": [
    "### 6.2.2 Second Step\n"
   ]
  },
  {
   "cell_type": "markdown",
   "metadata": {
    "id": "rZGxA8VaZR5S"
   },
   "source": [
    "Now we assume that customer doesn’t have unrealistic assumption, so how we sort\n",
    "all possible houses?\n",
    "\n",
    "We write a loop in which we subtract customer’s chosen house area from TotalSF\n",
    "of each record in cases. We call this new dataframe cases_SF_range. We use this for\n",
    "a new dataframe called cases_SF_score, in which we divide each value (in\n",
    "cases_SF_range) by sum of all values; then we subtract it from one. This way we\n",
    "have a number between 0 and 1. The closer the customer’s chosen value is to TotalSF,\n",
    "the closer the number is to 1. We are subtracting from 1 because later we will give\n",
    "one points to each same feature; so we try to keep it scaled.\n",
    "\n",
    "Then we write two another loops doing the same thing we did, this time for\n",
    "SalesPrice, so now we also have cases_SalesPrice_score."
   ]
  },
  {
   "cell_type": "markdown",
   "metadata": {
    "id": "X7N9EI5IVgbI"
   },
   "source": [
    "### 6.2.3 Third Step\n"
   ]
  },
  {
   "cell_type": "markdown",
   "metadata": {
    "id": "xVGjXjIaZYkq"
   },
   "source": [
    "Now we want to assign a score to each record in cases. We define a cases_score\n",
    "dataframe, then we write a loop. In this loop we see if a features that customer chose\n",
    "is equal to same feature in cases. If yes, then we add 1 to the score’s column for this\n",
    "record. Then we add score we got from cases_SF_score and cases_SalesPrice_score.\n",
    "\n",
    "Now we have a new column in cases dataframe called score. This column has all the\n",
    "score from all important features that customer gave us. If we rank our dataframe by\n",
    "scores, we can show the customer best houses.\n"
   ]
  },
  {
   "cell_type": "markdown",
   "metadata": {
    "id": "7wHnmu9OVlF-"
   },
   "source": [
    "### 6.2.4 Fourth Step"
   ]
  },
  {
   "cell_type": "markdown",
   "metadata": {
    "id": "p3TFDgJXZeAp"
   },
   "source": [
    "Now what if the customer gave us unrealistic price? Lest see how we can predict the\n",
    "real price. We can use the same method as we did before. Again we make\n",
    "cases_SF_range dataframe which contains subtraction of customer’s chosen house\n",
    "area from TotalSF in our new_data. Then we make cases_SF_score following\n",
    "previous steps. Then we assign a new column for new_data calling it score. In score\n",
    "column we add sum of cases_SF_score and number of all equal values in variables.\n",
    "Now we sort our data by score. And if we get the average SalesPrice of first 5\n",
    "columns, we can estimate the price."
   ]
  },
  {
   "cell_type": "markdown",
   "metadata": {
    "id": "4UpDFFNAuw_P"
   },
   "source": [
    "### 6.2.5 Running Steps"
   ]
  },
  {
   "cell_type": "code",
   "execution_count": null,
   "metadata": {
    "id": "0eTy3p1mjkmR"
   },
   "outputs": [],
   "source": [
    "cases = []\n",
    "for i in range(2916):\n",
    "  if(np.round(new_data.iloc[i, 6]) - 5000) < customer.iloc[0] < (np.round(new_data.iloc[i, 6]) + 5000):\n",
    "    cases.append(new_data.iloc[i, :]) cases = pd.DataFrame(cases)\n",
    "\n",
    "print(cases.head())\n",
    "print(np.shape(cases))\n",
    "\n",
    "if cases.shape[0] > 0:\n",
    "\n",
    "    cases_SF_range = []\n",
    "    for i in range(len(cases)):\n",
    "      cases_SF_range.append(abs(cases.iloc[i, 0] - customer.iloc[1])) \n",
    "    cases_SF_range = pd.DataFrame(cases_SF_range)\n",
    "\n",
    "    cases_SF_score = []\n",
    "    for i in range(len(cases_SF_range)):\n",
    "      cases_SF_score.append(1-(cases_SF_range.iloc[i, 0]/(cases_SF_range.sum()[0])))\n",
    "    cases_SF_score = pd.DataFrame(cases_SF_score) \n",
    "    print(cases_SF_score)\n",
    "      \n",
    "\n",
    "    cases_SalesPrice_range = [] \n",
    "    for i in range(len(cases)):\n",
    "      cases_SalesPrice_range.append(abs(cases.iloc[i, 6] - customer.iloc[0]))\n",
    "    cases_SalesPrice_range = pd.DataFrame(cases_SalesPrice_range)\n",
    "    \n",
    "    cases_SalesPrice_score = []\n",
    "    for i in range(len(cases_SalesPrice_range)):\n",
    "      cases_SalesPrice_score.append(1-(cases_SalesPrice_range.iloc[i, 0]/(cases_SalesPrice_range.sum()[0])))\n",
    "    cases_SalesPrice_score = pd.DataFrame(cases_SalesPrice_score) \n",
    "    print(cases_SalesPrice_score)\n",
    "\n",
    "\n",
    "    cases_score = []\n",
    "    counter = 0\n",
    "    for i in range(len(cases)):\n",
    "      if np.any(cases.iloc[i, 1] == customer.iloc[2]): \n",
    "        counter = counter + 1\n",
    "      if np.any(cases.iloc[i, 2] == customer.iloc[3]): \n",
    "        counter = counter + 1\n",
    "      if np.any(cases.iloc[i, 3] == customer.iloc[4]): \n",
    "        counter = counter + 1\n",
    "      if np.any(cases.iloc[i, 4] == (customer.iloc[5])): \n",
    "        counter = counter + 1\n",
    "      if np.any(cases.iloc[i, 5] == customer.iloc[6]): \n",
    "        counter = counter + 1\n",
    "      counter = counter + cases_SF_score.iloc[i, 0]\n",
    "      counter = counter + cases_SalesPrice_score.iloc[i, 0] \n",
    "      cases_score.append(counter)\n",
    "      counter = 0\n",
    "    cases[\"score\"] = cases_score\n",
    "    final_cases = cases.sort_values(by=['score'], ascending=False) \n",
    "    pd.set_option('display.max_columns', None) \n",
    "    print(final_cases.head(3,))\n",
    "\n",
    "else:\n",
    "  print(\"Prices are higher bro, suggested price is:\") \n",
    "  cases_SF_range = []\n",
    "  for i in range(len(new_data)):\n",
    "    cases_SF_range.append(abs(new_data.iloc[i, 0] - customer.iloc[1])) \n",
    "  cases_SF_range = pd.DataFrame(cases_SF_range)\n",
    "    \n",
    "  cases_SF_score = []\n",
    "  for i in range(len(cases_SF_range)):\n",
    "    cases_SF_score.append(1-(cases_SF_range.iloc[i, 0]/(cases_SF_range.sum()[0])))\n",
    "  cases_SF_score = pd.DataFrame(cases_SF_score)\n",
    "  \n",
    "  cases_score = []\n",
    "  counter = 0\n",
    "  for i in range(len(new_data)):\n",
    "    if np.any(new_data.iloc[i, 1] == customer.iloc[2]):\n",
    "      counter = counter + 1\n",
    "    if np.any(new_data.iloc[i, 2] == customer.iloc[3]):\n",
    "      counter = counter + 1\n",
    "    if np.any(new_data.iloc[i, 3] == customer.iloc[4]):\n",
    "      counter = counter + 1\n",
    "    if np.any(new_data.iloc[i, 4] == customer.iloc[5]):\n",
    "      counter = counter + 1\n",
    "    if np.any(new_data.iloc[i, 5] == customer.iloc[6]):\n",
    "      counter = counter + 1\n",
    "    counter = counter + cases_SF_score.iloc[i, 0] \n",
    "    cases_score.append(counter)\n",
    "    counter = 0\n",
    "\n",
    "  new_data[\"score\"] = cases_score\n",
    "  final_cases = new_data.sort_values(by=['score'], ascending=False) \n",
    "  print(np.mean(final_cases.SalesPrice[:5]))"
   ]
  },
  {
   "cell_type": "markdown",
   "metadata": {
    "id": "oYGcTUfYVoxr"
   },
   "source": [
    "## 6.3 Results"
   ]
  },
  {
   "cell_type": "markdown",
   "metadata": {
    "id": "SKbQjnyVx2f0"
   },
   "source": [
    "We will assume we have a customer with following requests:\n",
    "\n",
    "Budget: 198700\n",
    "\n",
    "House Area: approximately 960\n",
    "\n",
    "Neighborhood: Not important\n",
    "\n",
    "Number of Bedrooms: 4\n",
    "\n",
    "House Age: max 20\n",
    "\n",
    "Land Usage: Not agriculture\n",
    "\n",
    "First change this information into good input our model can understand. We define\n",
    "our customer as\n",
    "\n",
    "customer = [19870, 960, \" \", 4, np.arange(0, 21, 1), np.array(['FV', 'RH', 'RL', 'RM']), \"2Story\"]\n",
    "\n",
    "if we give our recommender system this input, the following results will be shown:\n",
    "\n",
    "   \n",
    "\n",
    "\n",
    "\n",
    "\n",
    "\n",
    "\n",
    "\n",
    " \n",
    " \n",
    "\n",
    "Table 6.2: three Best Recommendations for our customer\n",
    "\n",
    "<style type=\"text/css\">\n",
    ".tg  {border-collapse:collapse;border-spacing:0;}\n",
    ".tg td{border-color:black;border-style:solid;border-width:1px;font-family:Arial, sans-serif;font-size:14px;\n",
    "  overflow:hidden;padding:10px 5px;word-break:normal;}\n",
    ".tg th{border-color:black;border-style:solid;border-width:1px;font-family:Arial, sans-serif;font-size:14px;\n",
    "  font-weight:normal;overflow:hidden;padding:10px 5px;word-break:normal;}\n",
    ".tg .tg-0pky{border-color:inherit;text-align:left;vertical-align:top}\n",
    "</style>\n",
    "<table class=\"tg\">\n",
    "<thead>\n",
    "  <tr>\n",
    "    <th class=\"tg-0pky\">index</th>\n",
    "    <th class=\"tg-0pky\">TotalSF</th>\n",
    "    <th class=\"tg-0pky\">Neighborhood</th>\n",
    "    <th class=\"tg-0pky\">Bedroom AbvGr</th>\n",
    "    <th class=\"tg-0pky\">House Age</th>\n",
    "    <th class=\"tg-0pky\">MSZoning</th>\n",
    "    <th class=\"tg-0pky\">HouseStyle</th>\n",
    "    <th class=\"tg-0pky\">SalesPrice</th>\n",
    "    <th class=\"tg-0pky\">score</th>\n",
    "  </tr>\n",
    "</thead>\n",
    "<tbody>\n",
    "  <tr>\n",
    "    <td class=\"tg-0pky\">719</td>    \n",
    "    <td class=\"tg-0pky\">2304.00</td>\n",
    "    <td class=\"tg-0pky\">ClearCr</td>\n",
    "    <td class=\"tg-0pky\">4</td>\n",
    "    <td class=\"tg-0pky\">11</td>\n",
    "    <td class=\"tg-0pky\"> RL  </td>\n",
    "    <td class=\"tg-0pky\">2Story</td>\n",
    "    <td class=\"tg-0pky\">200000.000 </td>\n",
    "    <td class=\"tg-0pky\">5.990</td>\n",
    "  </tr>\n",
    "   <tr>\n",
    "    <td class=\"tg-0pky\">2700 </td>    \n",
    "    <td class=\"tg-0pky\">2781.00 </td>\n",
    "    <td class=\"tg-0pky\">CollgCr </td>\n",
    "    <td class=\"tg-0pky\">4 </td>\n",
    "    <td class=\"tg-0pky\">4</td>\n",
    "    <td class=\"tg-0pky\"> RL</td>\n",
    "    <td class=\"tg-0pky\"> 2Story </td>\n",
    "    <td class=\"tg-0pky\">197531.590</td>\n",
    "    <td class=\"tg-0pky\"> 5.988</td>\n",
    "  </tr>\n",
    "    <tr>\n",
    "    <td class=\"tg-0pky\">197</td>    \n",
    "    <td class=\"tg-0pky\">3277.00</td>\n",
    "    <td class=\"tg-0pky\"> Gilbert </td>\n",
    "    <td class=\"tg-0pky\">4 </td>\n",
    "    <td class=\"tg-0pky\">7</td>\n",
    "    <td class=\"tg-0pky\"> RL </td>\n",
    "    <td class=\"tg-0pky\">2Story </td>\n",
    "    <td class=\"tg-0pky\">200000.000 </td>\n",
    "    <td class=\"tg-0pky\"> 5.985</td>\n",
    "  </tr>\n",
    "</tbody>\n",
    "</table>\n",
    "\n",
    "\n",
    "\n",
    "So for this customer we didn’t have to estimate the house price, since it was\n",
    "reasonable price. Actually if we look more carefully this suggested price by\n",
    "customer is high for a small house with only 960 square feet area, and with this\n",
    "amount of money, we can find suitable house with same features and areas as big as\n",
    "3000 square feet.\n",
    "The question that rises is, what if it the customer provided unrealistic price?\n",
    "Let’s check the algorithm with inputs same as before but instead of 198700 for our\n",
    "budget, we put 19870.\n",
    "\n",
    "This is what the customer will see:\n",
    "\n",
    "Prices are higher bro, suggested price is:\n",
    "219149.9999999999"
   ]
  },
  {
   "cell_type": "markdown",
   "metadata": {
    "id": "RdnE6Y89QIIc"
   },
   "source": [
    "\n",
    "\n",
    "# 7. Conclusion"
   ]
  },
  {
   "cell_type": "markdown",
   "metadata": {
    "id": "l1w77qUHxlrX"
   },
   "source": [
    "In this paper, we built several regression models to predict the price of houses with\n",
    "having their features. We evaluated and compared each model to determine the one\n",
    "with highest performance. Then we built a recommender system that takes some\n",
    "features as an input from customer and gives them back best choices they make by\n",
    "showing best houses related to given values. We also checked different possibilities\n",
    "of customer’s needs.\n",
    "\n",
    "As a recommendation, we advise that people take into consideration that feature\n",
    "engineering is really important and improves our performance a lot, this might help\n",
    "them estimate the house prices better. We also suggest using the fitted model for\n",
    "estimating house price in second part when customer choose unrealistic price."
   ]
  }
 ],
 "metadata": {
  "colab": {
   "collapsed_sections": [
    "PccYn09jPmPC",
    "tba19V7xPs8F",
    "mRl8jU09Pvqu",
    "vyqF2TgjRjO2",
    "mkgfFHpkSe6W",
    "sKRaPuKmTOb1",
    "Nut5XkFDTUNR",
    "QhNhuwC7TmQX",
    "wT7ZT_c-Tr4t",
    "0hpTCmesTy_Z",
    "-T-KWcBOP7fV",
    "8GUSsd6RUCbG",
    "d-d30gXuUF9l",
    "-a9CPTrUUKWk",
    "CQDaiCUfUN0j",
    "pjVMJwusUbnj",
    "cgH4AhB2UhHy",
    "kMzFdOLaUmYZ",
    "akJGClNYUp85",
    "D_j5SBJMUtzb",
    "5YVlJRxmUxdT",
    "GCny-Y99QBeC",
    "TDgjdNPWVPob",
    "nHA1M-nuVUl5",
    "X7N9EI5IVgbI",
    "7wHnmu9OVlF-",
    "RdnE6Y89QIIc"
   ],
   "name": "HousePricing.ipynb",
   "provenance": []
  },
  "kernelspec": {
   "display_name": "Python 3",
   "language": "python",
   "name": "python3"
  },
  "language_info": {
   "codemirror_mode": {
    "name": "ipython",
    "version": 3
   },
   "file_extension": ".py",
   "mimetype": "text/x-python",
   "name": "python",
   "nbconvert_exporter": "python",
   "pygments_lexer": "ipython3",
   "version": "3.8.8"
  }
 },
 "nbformat": 4,
 "nbformat_minor": 1
}
